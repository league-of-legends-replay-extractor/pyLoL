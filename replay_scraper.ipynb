{
 "cells": [
  {
   "cell_type": "code",
   "execution_count": 2,
   "metadata": {},
   "outputs": [],
   "source": [
    "# MIT License\n",
    "# \n",
    "# Copyright (c) 2021 MiscellaneousStuff\n",
    "# \n",
    "# Permission is hereby granted, free of charge, to any person obtaining a copy\n",
    "# of this software and associated documentation files (the \"Software\"), to deal\n",
    "# in the Software without restriction, including without limitation the rights\n",
    "# to use, copy, modify, merge, publish, distribute, sublicense, and/or sell\n",
    "# copies of the Software, and to permit persons to whom the Software is\n",
    "# furnished to do so, subject to the following conditions:\n",
    "# \n",
    "# The above copyright notice and this permission notice shall be included in all\n",
    "# copies or substantial portions of the Software.\n",
    "# \n",
    "# THE SOFTWARE IS PROVIDED \"AS IS\", WITHOUT WARRANTY OF ANY KIND, EXPRESS OR\n",
    "# IMPLIED, INCLUDING BUT NOT LIMITED TO THE WARRANTIES OF MERCHANTABILITY,\n",
    "# FITNESS FOR A PARTICULAR PURPOSE AND NONINFRINGEMENT. IN NO EVENT SHALL THE\n",
    "# AUTHORS OR COPYRIGHT HOLDERS BE LIABLE FOR ANY CLAIM, DAMAGES OR OTHER\n",
    "# LIABILITY, WHETHER IN AN ACTION OF CONTRACT, TORT OR OTHERWISE, ARISING FROM,\n",
    "# OUT OF OR IN CONNECTION WITH THE SOFTWARE OR THE USE OR OTHER DEALINGS IN THE\n",
    "# SOFTWARE."
   ]
  },
  {
   "attachments": {},
   "cell_type": "markdown",
   "metadata": {},
   "source": [
    "#### 데이터셋 수집 및 전처리 과정"
   ]
  },
  {
   "attachments": {},
   "cell_type": "markdown",
   "metadata": {},
   "source": [
    "#### 각 티어별 경기 아이디 리스트 받아오기"
   ]
  },
  {
   "cell_type": "code",
   "execution_count": 10,
   "metadata": {},
   "outputs": [],
   "source": [
    "from autoLeague.dataset.generator import DataGenerator as dg"
   ]
  },
  {
   "cell_type": "code",
   "execution_count": 11,
   "metadata": {},
   "outputs": [],
   "source": [
    "dg.__init__(dg, api_key='RGAPI-1a1d24de-0002-4894-85cc-6deaf6ec560e' , count=20)"
   ]
  },
  {
   "cell_type": "code",
   "execution_count": null,
   "metadata": {},
   "outputs": [],
   "source": [
    "matchIds_challenger"
   ]
  },
  {
   "cell_type": "code",
   "execution_count": 14,
   "metadata": {},
   "outputs": [
    {
     "name": "stderr",
     "output_type": "stream",
     "text": [
      "Gathering summoner_ids by Riot_API... : 100%|=======================================| 5000/5000 [22:53<00:00,  3.64it/s]\n",
      "Gathering puuids by Riot_API from summoner_ids... : 100%|=========================| 5000/5000 [1:19:26<00:00,  1.05it/s]\n"
     ]
    }
   ],
   "source": [
    "# 챌린저 300명, 그마 700명 경기 수집\n",
    "# matchIds_challenger  = dg.get_tier_matchIds(dg, queue='RANKED_SOLO_5x5', tier='CHALLENGER', division='I' , max_ids=100, patch_start_datetime='2023.10.26')\n",
    "# matchIds_grandmaster = dg.get_tier_matchIds(dg, queue='RANKED_SOLO_5x5', tier='GRANDMASTER', division='I' , max_ids=700, patch_start_datetime='2023.10.26')\n",
    "matchIds_master = dg.get_tier_matchIds(dg, queue='RANKED_SOLO_5x5', tier='MASTER', division='I' , max_ids=5000, patch_start_datetime='2023.10.26')\n",
    "# matchid 합치기\n",
    "# matchIds_challenger.extend(matchIds_grandmaster)\n",
    "# matchIds_challenger.extend(matchIds_master)\n",
    "\n",
    "matchIds_master = list(set(matchIds_master))"
   ]
  },
  {
   "cell_type": "code",
   "execution_count": 15,
   "metadata": {},
   "outputs": [],
   "source": [
    "matchIds_challenger = list(set(matchIds_master) - set(matchIds_challenger))"
   ]
  },
  {
   "cell_type": "code",
   "execution_count": 16,
   "metadata": {},
   "outputs": [
    {
     "data": {
      "text/plain": [
       "3387"
      ]
     },
     "execution_count": 16,
     "metadata": {},
     "output_type": "execute_result"
    }
   ],
   "source": [
    "len(matchIds_challenger)"
   ]
  },
  {
   "attachments": {},
   "cell_type": "markdown",
   "metadata": {},
   "source": [
    "#### 위에서 받아온 경기 아이디들에 대해서 리플레이 파일 저장하기"
   ]
  },
  {
   "cell_type": "code",
   "execution_count": 17,
   "metadata": {},
   "outputs": [
    {
     "name": "stdout",
     "output_type": "stream",
     "text": [
      "fkEeIkdi8vDaENuKaifrrg\n"
     ]
    }
   ],
   "source": [
    "from autoLeague.dataset.downloader import ReplayDownlader as rd\n",
    "\n",
    "# must run lol client\n",
    "rd.__init__(rd)\n",
    "rd.set_replays_dir(rd,folder_dir = r'C:\\Users\\김성윤\\Documents\\League of Legends\\Replays')"
   ]
  },
  {
   "cell_type": "code",
   "execution_count": 18,
   "metadata": {},
   "outputs": [
    {
     "name": "stderr",
     "output_type": "stream",
     "text": [
      "Gathering Replay_files(.rofl) from LoL Client... : 100%|====================================| 1000/1000 [1:57:30<00:00,  7.05s/it]\n"
     ]
    }
   ],
   "source": [
    "from tqdm import tqdm\n",
    "import time\n",
    "\n",
    "for matchId in tqdm(matchIds_challenger[:1000], \n",
    "                    desc = 'Gathering Replay_files(.rofl) from LoL Client... ', ## 진행률 앞쪽 출력 문장\n",
    "                    ncols = 130, ## 진행률 출력 폭 조절\n",
    "                    ascii = ' =', \n",
    "                    leave=True):\n",
    "    \n",
    "    try: #시즌 지난 경기면 패스\n",
    "        rd.download(rd, matchId)\n",
    "        time.sleep(7)\n",
    "    except:\n",
    "        pass"
   ]
  },
  {
   "attachments": {},
   "cell_type": "markdown",
   "metadata": {},
   "source": [
    "#### 리플레이 실행 => 미니맵 이미지 시퀀스 저장"
   ]
  },
  {
   "cell_type": "code",
   "execution_count": 2,
   "metadata": {},
   "outputs": [
    {
     "data": {
      "text/plain": [
       "1000"
      ]
     },
     "execution_count": 2,
     "metadata": {},
     "output_type": "execute_result"
    }
   ],
   "source": [
    "from autoLeague.bin.utils import Utils as ut\n",
    "from autoLeague.replays.scraper import ReplayScraper as rs\n",
    "from autoLeague.replays.editor import ImageEditor as ie\n",
    "\n",
    "import os\n",
    "import json\n",
    "import requests\n",
    "import time\n",
    "import pyautogui\n",
    "\n",
    "rs.__init__(rs, game_dir = r'C:\\Riot Games\\League of Legends\\Game',\n",
    "            replay_dir = r'C:\\Users\\김성윤\\Documents\\League of Legends\\Replays',\n",
    "            dataset_dir = r'C:\\Users\\김성윤\\Documents\\League of Legends\\Dataset',\n",
    "            scraper_dir = r'C:\\Users\\김성윤\\Desktop\\pyLoL\\pyLoL\\autoLeague\\replays',\n",
    "            replay_speed=40,\n",
    "            region=\"KR\")\n",
    "\n",
    "ie.__init__(ie,dataset_dir=r'C:\\Users\\김성윤\\Desktop\\pyLoL')\n",
    "\n",
    "files = os.listdir(rs.get_replay_dir(rs))\n",
    "replays = [file for file in files if file.endswith(\".rofl\")]\n",
    "len(replays)"
   ]
  },
  {
   "cell_type": "code",
   "execution_count": 3,
   "metadata": {},
   "outputs": [
    {
     "name": "stderr",
     "output_type": "stream",
     "text": [
      "Extracting Replay_Minimaps from LoL Client... : 100%|==============================================================================================================| 164/164 [5:42:06<00:00, 125.16s/it]\n"
     ]
    }
   ],
   "source": [
    "# run_client(self, replay_path, start, end, speed, paused)\n",
    "from tqdm import tqdm\n",
    "\n",
    "for replay in tqdm(replays[402:566],\n",
    "                    desc = 'Extracting Replay_Minimaps from LoL Client... ', ## 진행률 앞쪽 출력 문장\n",
    "                    ncols = 200, ## 진행률 출력 폭 조절\n",
    "                    ascii = ' =', \n",
    "                    leave=True\n",
    "                    ):\n",
    "    \n",
    "    rs.run_client(rs,\n",
    "                  replay_path = rf'{rs.get_replay_dir(rs)}\\{replay}', \n",
    "                  gameId = replay.split('.')[0],\n",
    "                  start=5*60 - 5, \n",
    "                  end=25*60 - 5, \n",
    "                  speed=10, \n",
    "                  paused=False, \n",
    "                  team=\"All\")\n",
    "\n",
    "    # rs.run_client(rs,\n",
    "    #               replay_path = rf'{rs.get_replay_dir(rs)}\\{replay}', \n",
    "    #               gameId = replay.split('.')[0],\n",
    "    #               start=5*60 - 5, \n",
    "    #               end=15*60 + 5, \n",
    "    #               speed=10, \n",
    "    #               paused=False, \n",
    "    #               team=\"Red\")\n",
    "    \n",
    "    # rs.run_client(rs,\n",
    "    #               replay_path = rf'{rs.get_replay_dir(rs)}\\{replay}', \n",
    "    #               gameId = replay.split('.')[0],\n",
    "    #               start=5*60 - 5, \n",
    "    #               end=15*60 + 5, \n",
    "    #               speed=10, \n",
    "    #               paused=False, \n",
    "    #               team=\"Blue\")"
   ]
  },
  {
   "cell_type": "code",
   "execution_count": null,
   "metadata": {},
   "outputs": [
    {
     "name": "stderr",
     "output_type": "stream",
     "text": [
      "Neither CUDA nor MPS are available - defaulting to CPU. Note: This module is much faster with a GPU.\n"
     ]
    },
    {
     "name": "stdout",
     "output_type": "stream",
     "text": [
      "['KR-6666713501']\n",
      "C:\\Users\\김성윤\\Desktop\\pyLoL\\KR-6666713501\\All\n",
      "['0_team_kda.png', '1_team_kda.png', '2_team_kda.png', '3_team_kda.png', '4_team_kda.png', '5_team_kda.png']\n"
     ]
    },
    {
     "name": "stderr",
     "output_type": "stream",
     "text": [
      "Neither CUDA nor MPS are available - defaulting to CPU. Note: This module is much faster with a GPU.\n"
     ]
    },
    {
     "name": "stdout",
     "output_type": "stream",
     "text": [
      "해당 프레임에서 kda, cs \n",
      " [{'K/D/A': ['3', '2', '2'], 'CS': 103}, {'K/D/A': ['0', '2', '2'], 'CS': 52}, {'K/D/A': ['5', '1', '4'], 'CS': 52}, {'K/D/A': ['4', '4', '1'], 'CS': 64}, {'K/D/A': ['0', '2', '1'], 'CS': 68}, {'K/D/A': ['2', '3', '0'], 'CS': 77}, {'K/D/A': ['6', '4', '0'], 'CS': 87}, {'K/D/A': ['5', '2', '2'], 'CS': 73}, {'K/D/A': ['0', '5', '8'], 'CS': 16}, {'K/D/A': ['3', '3', '5'], 'CS': 13}]\n"
     ]
    },
    {
     "name": "stderr",
     "output_type": "stream",
     "text": [
      "Neither CUDA nor MPS are available - defaulting to CPU. Note: This module is much faster with a GPU.\n"
     ]
    },
    {
     "name": "stdout",
     "output_type": "stream",
     "text": [
      "해당 프레임에서 kda, cs \n",
      " [{'K/D/A': ['3', '2', '2'], 'CS': 107}, {'K/D/A': ['0', '2', '2'], 'CS': 52}, {'K/D/A': ['5', '1', '4'], 'CS': 56}, {'K/D/A': ['4', '4', '1'], 'CS': 64}, {'K/D/A': ['0', '2', '1'], 'CS': 68}, {'K/D/A': ['2', '3', '0'], 'CS': 80}, {'K/D/A': ['6', '4', '0'], 'CS': 87}, {'K/D/A': ['5', '2', '2'], 'CS': 73}, {'K/D/A': ['0', '5', '8'], 'CS': 16}, {'K/D/A': ['3', '3', '5'], 'CS': 13}]\n"
     ]
    },
    {
     "name": "stderr",
     "output_type": "stream",
     "text": [
      "Neither CUDA nor MPS are available - defaulting to CPU. Note: This module is much faster with a GPU.\n"
     ]
    },
    {
     "name": "stdout",
     "output_type": "stream",
     "text": [
      "해당 프레임에서 kda, cs \n",
      " [{'K/D/A': ['3', '2', '2'], 'CS': 108}, {'K/D/A': ['0', '2', '2'], 'CS': 53}, {'K/D/A': ['5', '1', '4'], 'CS': 60}, {'K/D/A': ['4', '4', '1'], 'CS': 68}, {'K/D/A': ['0', '2', '1'], 'CS': 72}, {'K/D/A': ['2', '3', '0'], 'CS': 80}, {'K/D/A': ['6', '4', '0'], 'CS': 87}, {'K/D/A': ['5', '2', '2'], 'CS': 77}, {'K/D/A': ['0', '5', '8'], 'CS': 16}, {'K/D/A': ['3', '3', '5'], 'CS': 13}]\n"
     ]
    },
    {
     "name": "stderr",
     "output_type": "stream",
     "text": [
      "Neither CUDA nor MPS are available - defaulting to CPU. Note: This module is much faster with a GPU.\n"
     ]
    },
    {
     "name": "stdout",
     "output_type": "stream",
     "text": [
      "해당 프레임에서 kda, cs \n",
      " [{'K/D/A': ['3', '2', '2'], 'CS': 110}, {'K/D/A': ['0', '2', '2'], 'CS': 53}, {'K/D/A': ['5', '1', '4'], 'CS': 62}, {'K/D/A': ['4', '4', '1'], 'CS': 68}, {'K/D/A': ['0', '2', '1'], 'CS': 74}, {'K/D/A': ['2', '3', '0'], 'CS': 80}, {'K/D/A': ['6', '4', '0'], 'CS': 87}, {'K/D/A': ['5', '2', '2'], 'CS': 77}, {'K/D/A': ['0', '5', '8'], 'CS': 16}, {'K/D/A': ['3', '3', '5'], 'CS': 13}]\n"
     ]
    },
    {
     "name": "stderr",
     "output_type": "stream",
     "text": [
      "Neither CUDA nor MPS are available - defaulting to CPU. Note: This module is much faster with a GPU.\n"
     ]
    },
    {
     "name": "stdout",
     "output_type": "stream",
     "text": [
      "해당 프레임에서 kda, cs \n",
      " [{'K/D/A': ['3', '2', '2'], 'CS': 111}, {'K/D/A': ['0', '2', '2'], 'CS': 54}, {'K/D/A': ['5', '1', '4'], 'CS': 65}, {'K/D/A': ['4', '5', '2'], 'CS': 68}, {'K/D/A': ['1', '3', '1'], 'CS': 74}, {'K/D/A': ['2', '3', '0'], 'CS': 80}, {'K/D/A': ['6', '4', '0'], 'CS': 90}, {'K/D/A': ['5', '2', '2'], 'CS': 77}, {'K/D/A': ['0', '5', '8'], 'CS': 18}, {'K/D/A': ['4', '3', '5'], 'CS': 17}]\n",
      "해당 프레임에서 kda, cs \n",
      " [{'K/D/A': ['3', '2', '2'], 'CS': 114}, {'K/D/A': ['0', '2', '2'], 'CS': 54}, {'K/D/A': ['5', '1', '4'], 'CS': 65}, {'K/D/A': ['4', '5', '2'], 'CS': 68}, {'K/D/A': ['1', '3', '1'], 'CS': 74}, {'K/D/A': ['2', '3', '0'], 'CS': 80}, {'K/D/A': ['6', '4', '0'], 'CS': 92}, {'K/D/A': ['5', '2', '2'], 'CS': 77}, {'K/D/A': ['0', '5', '8'], 'CS': 19}, {'K/D/A': ['4', '3', '5'], 'CS': 17}]\n"
     ]
    }
   ],
   "source": [
    "#### 데이터 전처리\n",
    "\n",
    "from autoLeague.preprocess.ocr_center_window import OcrCenter as oc\n",
    "oc.__init__(oc, project_folder_dir = r'C:\\Users\\김성윤\\Desktop\\pyLoL')\n",
    "oc.get_ocr(oc)"
   ]
  },
  {
   "cell_type": "code",
   "execution_count": null,
   "metadata": {},
   "outputs": [],
   "source": [
    "TIERS = ['CHALLENGER', 'MASTER', 'DIAMOND III', 'GOLD III']"
   ]
  },
  {
   "attachments": {},
   "cell_type": "markdown",
   "metadata": {},
   "source": [
    "#### 흑백으로 전처리 (+ threshing)"
   ]
  },
  {
   "cell_type": "code",
   "execution_count": null,
   "metadata": {},
   "outputs": [
    {
     "name": "stdout",
     "output_type": "stream",
     "text": [
      "['KR-6729286331', 'KR-6729309863', 'KR-6729391340', 'KR-6729527624', 'KR-6729545954', 'KR-6729563729', 'KR-6729613333', 'KR-6729619650', 'KR-6729668299', 'KR-6729770806', 'KR-6729849233', 'KR-6729891097', 'KR-6729935229', 'KR-6729968092', 'KR-6730012001', 'KR-6730033444', 'KR-6730046486', 'KR-6730051792', 'KR-6730089807', 'KR-6730098133', 'KR-6730104168', 'KR-6730165482', 'KR-6730186203', 'KR-6730195156', 'KR-6730200286', 'KR-6730279980', 'KR-6730289170', 'KR-6730340666', 'KR-6730356080', 'KR-6730368393', 'KR-6730400351', 'KR-6730468267', 'KR-6730473946', 'KR-6730507477', 'KR-6730576290', 'KR-6730620595', 'KR-6730633794', 'KR-6730635238', 'KR-6730683020', 'KR-6730693448', 'KR-6730705263', 'KR-6730721023', 'KR-6730743069', 'KR-6730747220', 'KR-6730782896', 'KR-6730806127']\n"
     ]
    },
    {
     "name": "stderr",
     "output_type": "stream",
     "text": [
      "100%|██████████| 46/46 [01:57<00:00,  2.56s/it]\n"
     ]
    },
    {
     "name": "stdout",
     "output_type": "stream",
     "text": [
      "['KR-6729286331', 'KR-6729309863', 'KR-6729391340', 'KR-6729527624', 'KR-6729545954', 'KR-6729563729', 'KR-6729613333', 'KR-6729619650', 'KR-6729668299', 'KR-6729770806', 'KR-6729849233', 'KR-6729891097', 'KR-6729935229', 'KR-6729968092', 'KR-6730012001', 'KR-6730033444', 'KR-6730046486', 'KR-6730051792', 'KR-6730089807', 'KR-6730098133', 'KR-6730104168', 'KR-6730165482', 'KR-6730186203', 'KR-6730195156', 'KR-6730200286', 'KR-6730279980', 'KR-6730289170', 'KR-6730340666', 'KR-6730356080', 'KR-6730368393', 'KR-6730400351', 'KR-6730468267', 'KR-6730473946', 'KR-6730507477', 'KR-6730576290', 'KR-6730620595', 'KR-6730633794', 'KR-6730635238', 'KR-6730683020', 'KR-6730693448', 'KR-6730705263', 'KR-6730721023', 'KR-6730743069', 'KR-6730747220', 'KR-6730782896', 'KR-6730806127']\n"
     ]
    },
    {
     "name": "stderr",
     "output_type": "stream",
     "text": [
      "100%|██████████| 46/46 [02:00<00:00,  2.61s/it]\n"
     ]
    }
   ],
   "source": [
    "from autoLeague.replays.editor import ImageEditor as ie\n",
    "\n",
    "# 해당 리플레이 폴더가 있는 곳\n",
    "ie.__init__(self=ie,dataset_dir=rf'C:\\dataset')\n",
    "ie.run_editor(ie , team='Red')\n",
    "ie.run_editor(ie , team='Blue')"
   ]
  },
  {
   "cell_type": "code",
   "execution_count": null,
   "metadata": {},
   "outputs": [],
   "source": [
    "folder_dir_list = os.listdir('C:\\dataset_final\\CHALLENGER II')\n",
    "\n",
    "import os\n",
    "import shutil\n",
    "\n",
    "dir_path = \"C:\\dataset_final\\CHALLENGER II\"\n",
    "\n",
    "for folder in folder_dir_list:\n",
    "    if os.path.exists(rf'{dir_path}\\{folder}\\Blue\\black'):\n",
    "        shutil.rmtree(rf'{dir_path}\\{folder}\\Blue\\black')\n",
    "    if os.path.exists(rf'{dir_path}\\{folder}\\Red\\black'):\n",
    "        shutil.rmtree(rf'{dir_path}\\{folder}\\Red\\black')"
   ]
  },
  {
   "attachments": {},
   "cell_type": "markdown",
   "metadata": {},
   "source": [
    "#### 각 시퀀스별로 379 개가 되게 설정"
   ]
  },
  {
   "cell_type": "code",
   "execution_count": null,
   "metadata": {},
   "outputs": [],
   "source": [
    "'''folder_dir_list = os.listdir('C:\\dataset_final\\CHALLENGER II')\n",
    "\n",
    "import os\n",
    "import shutil\n",
    "\n",
    "dir_path = \"C:\\dataset_final\\CHALLENGER II\"\n",
    "\n",
    "for folder in folder_dir_list:\n",
    "    if os.path.exists(rf'{dir_path}\\{folder}\\Blue\\black'):\n",
    "        shutil.rmtree(rf'{dir_path}\\{folder}\\Blue\\black')\n",
    "    if os.path.exists(rf'{dir_path}\\{folder}\\Red\\black'):\n",
    "        shutil.rmtree(rf'{dir_path}\\{folder}\\Red\\black')'''"
   ]
  },
  {
   "cell_type": "code",
   "execution_count": null,
   "metadata": {},
   "outputs": [],
   "source": [
    "from autoLeague.replays.editor import ImageEditor as ie\n",
    "\n",
    "ie.fit_frame_length(ie, r'C:\\dataset' , 240)   #무결하다면, 아무 출력이 없을 것."
   ]
  },
  {
   "attachments": {},
   "cell_type": "markdown",
   "metadata": {},
   "source": [
    "#### 각 경기들에 대해서 각 분당 K,D,A,Obj 저장 (csv)"
   ]
  },
  {
   "cell_type": "code",
   "execution_count": null,
   "metadata": {},
   "outputs": [
    {
     "name": "stderr",
     "output_type": "stream",
     "text": [
      "100%|██████████| 97/97 [00:50<00:00,  1.94it/s]"
     ]
    },
    {
     "name": "stdout",
     "output_type": "stream",
     "text": [
      "csv write complete\n"
     ]
    },
    {
     "name": "stderr",
     "output_type": "stream",
     "text": [
      "\n"
     ]
    }
   ],
   "source": [
    "from autoLeague.dataset.riotapi import RiotAPI as ra\n",
    "import os\n",
    "\n",
    "matchIds = [filename.replace('-','_') for filename in os.listdir('C:\\dataset')]\n",
    "ra.__init__(ra, api_key='RGAPI-1a1d24de-0002-4894-85cc-6deaf6ec560e')\n",
    "ra.writeCSVfile(ra, matchIds)"
   ]
  },
  {
   "attachments": {},
   "cell_type": "markdown",
   "metadata": {},
   "source": [
    "#### csv 파일 분석 및 정규화(min-max정규화)"
   ]
  },
  {
   "cell_type": "code",
   "execution_count": null,
   "metadata": {},
   "outputs": [
    {
     "data": {
      "text/html": [
       "<div>\n",
       "<style scoped>\n",
       "    .dataframe tbody tr th:only-of-type {\n",
       "        vertical-align: middle;\n",
       "    }\n",
       "\n",
       "    .dataframe tbody tr th {\n",
       "        vertical-align: top;\n",
       "    }\n",
       "\n",
       "    .dataframe thead th {\n",
       "        text-align: right;\n",
       "    }\n",
       "</style>\n",
       "<table border=\"1\" class=\"dataframe\">\n",
       "  <thead>\n",
       "    <tr style=\"text-align: right;\">\n",
       "      <th></th>\n",
       "      <th>matchID</th>\n",
       "      <th>블루킬0</th>\n",
       "      <th>블루킬1</th>\n",
       "      <th>블루킬2</th>\n",
       "      <th>블루킬3</th>\n",
       "      <th>블루킬4</th>\n",
       "      <th>블루킬5</th>\n",
       "      <th>블루킬6</th>\n",
       "      <th>블루킬7</th>\n",
       "      <th>블루킬8</th>\n",
       "      <th>...</th>\n",
       "      <th>레드오브젝0</th>\n",
       "      <th>레드오브젝1</th>\n",
       "      <th>레드오브젝2</th>\n",
       "      <th>레드오브젝3</th>\n",
       "      <th>레드오브젝4</th>\n",
       "      <th>레드오브젝5</th>\n",
       "      <th>레드오브젝6</th>\n",
       "      <th>레드오브젝7</th>\n",
       "      <th>레드오브젝8</th>\n",
       "      <th>레드오브젝9</th>\n",
       "    </tr>\n",
       "  </thead>\n",
       "  <tbody>\n",
       "    <tr>\n",
       "      <th>0</th>\n",
       "      <td>[[       0        0        0        0     -163...</td>\n",
       "      <td>NaN</td>\n",
       "      <td>NaN</td>\n",
       "      <td>NaN</td>\n",
       "      <td>NaN</td>\n",
       "      <td>NaN</td>\n",
       "      <td>NaN</td>\n",
       "      <td>NaN</td>\n",
       "      <td>NaN</td>\n",
       "      <td>NaN</td>\n",
       "      <td>...</td>\n",
       "      <td>NaN</td>\n",
       "      <td>NaN</td>\n",
       "      <td>NaN</td>\n",
       "      <td>NaN</td>\n",
       "      <td>NaN</td>\n",
       "      <td>NaN</td>\n",
       "      <td>NaN</td>\n",
       "      <td>NaN</td>\n",
       "      <td>NaN</td>\n",
       "      <td>NaN</td>\n",
       "    </tr>\n",
       "    <tr>\n",
       "      <th>1</th>\n",
       "      <td>[[      -1        1        0        0     -155...</td>\n",
       "      <td>NaN</td>\n",
       "      <td>NaN</td>\n",
       "      <td>NaN</td>\n",
       "      <td>NaN</td>\n",
       "      <td>NaN</td>\n",
       "      <td>NaN</td>\n",
       "      <td>NaN</td>\n",
       "      <td>NaN</td>\n",
       "      <td>NaN</td>\n",
       "      <td>...</td>\n",
       "      <td>NaN</td>\n",
       "      <td>NaN</td>\n",
       "      <td>NaN</td>\n",
       "      <td>NaN</td>\n",
       "      <td>NaN</td>\n",
       "      <td>NaN</td>\n",
       "      <td>NaN</td>\n",
       "      <td>NaN</td>\n",
       "      <td>NaN</td>\n",
       "      <td>NaN</td>\n",
       "    </tr>\n",
       "    <tr>\n",
       "      <th>2</th>\n",
       "      <td>[[      0       0       0       0    1041     ...</td>\n",
       "      <td>NaN</td>\n",
       "      <td>NaN</td>\n",
       "      <td>NaN</td>\n",
       "      <td>NaN</td>\n",
       "      <td>NaN</td>\n",
       "      <td>NaN</td>\n",
       "      <td>NaN</td>\n",
       "      <td>NaN</td>\n",
       "      <td>NaN</td>\n",
       "      <td>...</td>\n",
       "      <td>NaN</td>\n",
       "      <td>NaN</td>\n",
       "      <td>NaN</td>\n",
       "      <td>NaN</td>\n",
       "      <td>NaN</td>\n",
       "      <td>NaN</td>\n",
       "      <td>NaN</td>\n",
       "      <td>NaN</td>\n",
       "      <td>NaN</td>\n",
       "      <td>NaN</td>\n",
       "    </tr>\n",
       "    <tr>\n",
       "      <th>3</th>\n",
       "      <td>[[      -1        1        0        0     -530...</td>\n",
       "      <td>NaN</td>\n",
       "      <td>NaN</td>\n",
       "      <td>NaN</td>\n",
       "      <td>NaN</td>\n",
       "      <td>NaN</td>\n",
       "      <td>NaN</td>\n",
       "      <td>NaN</td>\n",
       "      <td>NaN</td>\n",
       "      <td>NaN</td>\n",
       "      <td>...</td>\n",
       "      <td>NaN</td>\n",
       "      <td>NaN</td>\n",
       "      <td>NaN</td>\n",
       "      <td>NaN</td>\n",
       "      <td>NaN</td>\n",
       "      <td>NaN</td>\n",
       "      <td>NaN</td>\n",
       "      <td>NaN</td>\n",
       "      <td>NaN</td>\n",
       "      <td>NaN</td>\n",
       "    </tr>\n",
       "    <tr>\n",
       "      <th>4</th>\n",
       "      <td>[[       0        0        0        0      231...</td>\n",
       "      <td>NaN</td>\n",
       "      <td>NaN</td>\n",
       "      <td>NaN</td>\n",
       "      <td>NaN</td>\n",
       "      <td>NaN</td>\n",
       "      <td>NaN</td>\n",
       "      <td>NaN</td>\n",
       "      <td>NaN</td>\n",
       "      <td>NaN</td>\n",
       "      <td>...</td>\n",
       "      <td>NaN</td>\n",
       "      <td>NaN</td>\n",
       "      <td>NaN</td>\n",
       "      <td>NaN</td>\n",
       "      <td>NaN</td>\n",
       "      <td>NaN</td>\n",
       "      <td>NaN</td>\n",
       "      <td>NaN</td>\n",
       "      <td>NaN</td>\n",
       "      <td>NaN</td>\n",
       "    </tr>\n",
       "    <tr>\n",
       "      <th>...</th>\n",
       "      <td>...</td>\n",
       "      <td>...</td>\n",
       "      <td>...</td>\n",
       "      <td>...</td>\n",
       "      <td>...</td>\n",
       "      <td>...</td>\n",
       "      <td>...</td>\n",
       "      <td>...</td>\n",
       "      <td>...</td>\n",
       "      <td>...</td>\n",
       "      <td>...</td>\n",
       "      <td>...</td>\n",
       "      <td>...</td>\n",
       "      <td>...</td>\n",
       "      <td>...</td>\n",
       "      <td>...</td>\n",
       "      <td>...</td>\n",
       "      <td>...</td>\n",
       "      <td>...</td>\n",
       "      <td>...</td>\n",
       "      <td>...</td>\n",
       "    </tr>\n",
       "    <tr>\n",
       "      <th>92</th>\n",
       "      <td>[[      0       0       0       0     534    -...</td>\n",
       "      <td>NaN</td>\n",
       "      <td>NaN</td>\n",
       "      <td>NaN</td>\n",
       "      <td>NaN</td>\n",
       "      <td>NaN</td>\n",
       "      <td>NaN</td>\n",
       "      <td>NaN</td>\n",
       "      <td>NaN</td>\n",
       "      <td>NaN</td>\n",
       "      <td>...</td>\n",
       "      <td>NaN</td>\n",
       "      <td>NaN</td>\n",
       "      <td>NaN</td>\n",
       "      <td>NaN</td>\n",
       "      <td>NaN</td>\n",
       "      <td>NaN</td>\n",
       "      <td>NaN</td>\n",
       "      <td>NaN</td>\n",
       "      <td>NaN</td>\n",
       "      <td>NaN</td>\n",
       "    </tr>\n",
       "    <tr>\n",
       "      <th>93</th>\n",
       "      <td>[[      -3        3       -7        0     -986...</td>\n",
       "      <td>NaN</td>\n",
       "      <td>NaN</td>\n",
       "      <td>NaN</td>\n",
       "      <td>NaN</td>\n",
       "      <td>NaN</td>\n",
       "      <td>NaN</td>\n",
       "      <td>NaN</td>\n",
       "      <td>NaN</td>\n",
       "      <td>NaN</td>\n",
       "      <td>...</td>\n",
       "      <td>NaN</td>\n",
       "      <td>NaN</td>\n",
       "      <td>NaN</td>\n",
       "      <td>NaN</td>\n",
       "      <td>NaN</td>\n",
       "      <td>NaN</td>\n",
       "      <td>NaN</td>\n",
       "      <td>NaN</td>\n",
       "      <td>NaN</td>\n",
       "      <td>NaN</td>\n",
       "    </tr>\n",
       "    <tr>\n",
       "      <th>94</th>\n",
       "      <td>[[       0        0        0        0     -965...</td>\n",
       "      <td>NaN</td>\n",
       "      <td>NaN</td>\n",
       "      <td>NaN</td>\n",
       "      <td>NaN</td>\n",
       "      <td>NaN</td>\n",
       "      <td>NaN</td>\n",
       "      <td>NaN</td>\n",
       "      <td>NaN</td>\n",
       "      <td>NaN</td>\n",
       "      <td>...</td>\n",
       "      <td>NaN</td>\n",
       "      <td>NaN</td>\n",
       "      <td>NaN</td>\n",
       "      <td>NaN</td>\n",
       "      <td>NaN</td>\n",
       "      <td>NaN</td>\n",
       "      <td>NaN</td>\n",
       "      <td>NaN</td>\n",
       "      <td>NaN</td>\n",
       "      <td>NaN</td>\n",
       "    </tr>\n",
       "    <tr>\n",
       "      <th>95</th>\n",
       "      <td>[[       0        0        0        0     2404...</td>\n",
       "      <td>NaN</td>\n",
       "      <td>NaN</td>\n",
       "      <td>NaN</td>\n",
       "      <td>NaN</td>\n",
       "      <td>NaN</td>\n",
       "      <td>NaN</td>\n",
       "      <td>NaN</td>\n",
       "      <td>NaN</td>\n",
       "      <td>NaN</td>\n",
       "      <td>...</td>\n",
       "      <td>NaN</td>\n",
       "      <td>NaN</td>\n",
       "      <td>NaN</td>\n",
       "      <td>NaN</td>\n",
       "      <td>NaN</td>\n",
       "      <td>NaN</td>\n",
       "      <td>NaN</td>\n",
       "      <td>NaN</td>\n",
       "      <td>NaN</td>\n",
       "      <td>NaN</td>\n",
       "    </tr>\n",
       "    <tr>\n",
       "      <th>96</th>\n",
       "      <td>[[       1       -1        2        0     1684...</td>\n",
       "      <td>NaN</td>\n",
       "      <td>NaN</td>\n",
       "      <td>NaN</td>\n",
       "      <td>NaN</td>\n",
       "      <td>NaN</td>\n",
       "      <td>NaN</td>\n",
       "      <td>NaN</td>\n",
       "      <td>NaN</td>\n",
       "      <td>NaN</td>\n",
       "      <td>...</td>\n",
       "      <td>NaN</td>\n",
       "      <td>NaN</td>\n",
       "      <td>NaN</td>\n",
       "      <td>NaN</td>\n",
       "      <td>NaN</td>\n",
       "      <td>NaN</td>\n",
       "      <td>NaN</td>\n",
       "      <td>NaN</td>\n",
       "      <td>NaN</td>\n",
       "      <td>NaN</td>\n",
       "    </tr>\n",
       "  </tbody>\n",
       "</table>\n",
       "<p>97 rows × 81 columns</p>\n",
       "</div>"
      ],
      "text/plain": [
       "                                              matchID  블루킬0  블루킬1  블루킬2  블루킬3   \n",
       "0   [[       0        0        0        0     -163...   NaN   NaN   NaN   NaN  \\\n",
       "1   [[      -1        1        0        0     -155...   NaN   NaN   NaN   NaN   \n",
       "2   [[      0       0       0       0    1041     ...   NaN   NaN   NaN   NaN   \n",
       "3   [[      -1        1        0        0     -530...   NaN   NaN   NaN   NaN   \n",
       "4   [[       0        0        0        0      231...   NaN   NaN   NaN   NaN   \n",
       "..                                                ...   ...   ...   ...   ...   \n",
       "92  [[      0       0       0       0     534    -...   NaN   NaN   NaN   NaN   \n",
       "93  [[      -3        3       -7        0     -986...   NaN   NaN   NaN   NaN   \n",
       "94  [[       0        0        0        0     -965...   NaN   NaN   NaN   NaN   \n",
       "95  [[       0        0        0        0     2404...   NaN   NaN   NaN   NaN   \n",
       "96  [[       1       -1        2        0     1684...   NaN   NaN   NaN   NaN   \n",
       "\n",
       "    블루킬4  블루킬5  블루킬6  블루킬7  블루킬8  ...  레드오브젝0  레드오브젝1  레드오브젝2  레드오브젝3  레드오브젝4   \n",
       "0    NaN   NaN   NaN   NaN   NaN  ...     NaN     NaN     NaN     NaN     NaN  \\\n",
       "1    NaN   NaN   NaN   NaN   NaN  ...     NaN     NaN     NaN     NaN     NaN   \n",
       "2    NaN   NaN   NaN   NaN   NaN  ...     NaN     NaN     NaN     NaN     NaN   \n",
       "3    NaN   NaN   NaN   NaN   NaN  ...     NaN     NaN     NaN     NaN     NaN   \n",
       "4    NaN   NaN   NaN   NaN   NaN  ...     NaN     NaN     NaN     NaN     NaN   \n",
       "..   ...   ...   ...   ...   ...  ...     ...     ...     ...     ...     ...   \n",
       "92   NaN   NaN   NaN   NaN   NaN  ...     NaN     NaN     NaN     NaN     NaN   \n",
       "93   NaN   NaN   NaN   NaN   NaN  ...     NaN     NaN     NaN     NaN     NaN   \n",
       "94   NaN   NaN   NaN   NaN   NaN  ...     NaN     NaN     NaN     NaN     NaN   \n",
       "95   NaN   NaN   NaN   NaN   NaN  ...     NaN     NaN     NaN     NaN     NaN   \n",
       "96   NaN   NaN   NaN   NaN   NaN  ...     NaN     NaN     NaN     NaN     NaN   \n",
       "\n",
       "    레드오브젝5  레드오브젝6  레드오브젝7  레드오브젝8  레드오브젝9  \n",
       "0      NaN     NaN     NaN     NaN     NaN  \n",
       "1      NaN     NaN     NaN     NaN     NaN  \n",
       "2      NaN     NaN     NaN     NaN     NaN  \n",
       "3      NaN     NaN     NaN     NaN     NaN  \n",
       "4      NaN     NaN     NaN     NaN     NaN  \n",
       "..     ...     ...     ...     ...     ...  \n",
       "92     NaN     NaN     NaN     NaN     NaN  \n",
       "93     NaN     NaN     NaN     NaN     NaN  \n",
       "94     NaN     NaN     NaN     NaN     NaN  \n",
       "95     NaN     NaN     NaN     NaN     NaN  \n",
       "96     NaN     NaN     NaN     NaN     NaN  \n",
       "\n",
       "[97 rows x 81 columns]"
      ]
     },
     "execution_count": 2,
     "metadata": {},
     "output_type": "execute_result"
    }
   ],
   "source": [
    "import pandas as pd\n",
    "df = pd.read_csv(r'C:\\Users\\김성윤\\Desktop\\pyLoL\\riot_api_dataset.csv')\n",
    "df"
   ]
  },
  {
   "cell_type": "code",
   "execution_count": null,
   "metadata": {},
   "outputs": [
    {
     "data": {
      "text/html": [
       "<div>\n",
       "<style scoped>\n",
       "    .dataframe tbody tr th:only-of-type {\n",
       "        vertical-align: middle;\n",
       "    }\n",
       "\n",
       "    .dataframe tbody tr th {\n",
       "        vertical-align: top;\n",
       "    }\n",
       "\n",
       "    .dataframe thead th {\n",
       "        text-align: right;\n",
       "    }\n",
       "</style>\n",
       "<table border=\"1\" class=\"dataframe\">\n",
       "  <thead>\n",
       "    <tr style=\"text-align: right;\">\n",
       "      <th></th>\n",
       "      <th>블루킬0</th>\n",
       "      <th>블루킬1</th>\n",
       "      <th>블루킬2</th>\n",
       "      <th>블루킬3</th>\n",
       "      <th>블루킬4</th>\n",
       "      <th>블루킬5</th>\n",
       "      <th>블루킬6</th>\n",
       "      <th>블루킬7</th>\n",
       "      <th>블루킬8</th>\n",
       "      <th>블루킬9</th>\n",
       "      <th>...</th>\n",
       "      <th>레드오브젝0</th>\n",
       "      <th>레드오브젝1</th>\n",
       "      <th>레드오브젝2</th>\n",
       "      <th>레드오브젝3</th>\n",
       "      <th>레드오브젝4</th>\n",
       "      <th>레드오브젝5</th>\n",
       "      <th>레드오브젝6</th>\n",
       "      <th>레드오브젝7</th>\n",
       "      <th>레드오브젝8</th>\n",
       "      <th>레드오브젝9</th>\n",
       "    </tr>\n",
       "  </thead>\n",
       "  <tbody>\n",
       "    <tr>\n",
       "      <th>count</th>\n",
       "      <td>0.0</td>\n",
       "      <td>0.0</td>\n",
       "      <td>0.0</td>\n",
       "      <td>0.0</td>\n",
       "      <td>0.0</td>\n",
       "      <td>0.0</td>\n",
       "      <td>0.0</td>\n",
       "      <td>0.0</td>\n",
       "      <td>0.0</td>\n",
       "      <td>0.0</td>\n",
       "      <td>...</td>\n",
       "      <td>0.0</td>\n",
       "      <td>0.0</td>\n",
       "      <td>0.0</td>\n",
       "      <td>0.0</td>\n",
       "      <td>0.0</td>\n",
       "      <td>0.0</td>\n",
       "      <td>0.0</td>\n",
       "      <td>0.0</td>\n",
       "      <td>0.0</td>\n",
       "      <td>0.0</td>\n",
       "    </tr>\n",
       "    <tr>\n",
       "      <th>mean</th>\n",
       "      <td>NaN</td>\n",
       "      <td>NaN</td>\n",
       "      <td>NaN</td>\n",
       "      <td>NaN</td>\n",
       "      <td>NaN</td>\n",
       "      <td>NaN</td>\n",
       "      <td>NaN</td>\n",
       "      <td>NaN</td>\n",
       "      <td>NaN</td>\n",
       "      <td>NaN</td>\n",
       "      <td>...</td>\n",
       "      <td>NaN</td>\n",
       "      <td>NaN</td>\n",
       "      <td>NaN</td>\n",
       "      <td>NaN</td>\n",
       "      <td>NaN</td>\n",
       "      <td>NaN</td>\n",
       "      <td>NaN</td>\n",
       "      <td>NaN</td>\n",
       "      <td>NaN</td>\n",
       "      <td>NaN</td>\n",
       "    </tr>\n",
       "    <tr>\n",
       "      <th>std</th>\n",
       "      <td>NaN</td>\n",
       "      <td>NaN</td>\n",
       "      <td>NaN</td>\n",
       "      <td>NaN</td>\n",
       "      <td>NaN</td>\n",
       "      <td>NaN</td>\n",
       "      <td>NaN</td>\n",
       "      <td>NaN</td>\n",
       "      <td>NaN</td>\n",
       "      <td>NaN</td>\n",
       "      <td>...</td>\n",
       "      <td>NaN</td>\n",
       "      <td>NaN</td>\n",
       "      <td>NaN</td>\n",
       "      <td>NaN</td>\n",
       "      <td>NaN</td>\n",
       "      <td>NaN</td>\n",
       "      <td>NaN</td>\n",
       "      <td>NaN</td>\n",
       "      <td>NaN</td>\n",
       "      <td>NaN</td>\n",
       "    </tr>\n",
       "    <tr>\n",
       "      <th>min</th>\n",
       "      <td>NaN</td>\n",
       "      <td>NaN</td>\n",
       "      <td>NaN</td>\n",
       "      <td>NaN</td>\n",
       "      <td>NaN</td>\n",
       "      <td>NaN</td>\n",
       "      <td>NaN</td>\n",
       "      <td>NaN</td>\n",
       "      <td>NaN</td>\n",
       "      <td>NaN</td>\n",
       "      <td>...</td>\n",
       "      <td>NaN</td>\n",
       "      <td>NaN</td>\n",
       "      <td>NaN</td>\n",
       "      <td>NaN</td>\n",
       "      <td>NaN</td>\n",
       "      <td>NaN</td>\n",
       "      <td>NaN</td>\n",
       "      <td>NaN</td>\n",
       "      <td>NaN</td>\n",
       "      <td>NaN</td>\n",
       "    </tr>\n",
       "    <tr>\n",
       "      <th>25%</th>\n",
       "      <td>NaN</td>\n",
       "      <td>NaN</td>\n",
       "      <td>NaN</td>\n",
       "      <td>NaN</td>\n",
       "      <td>NaN</td>\n",
       "      <td>NaN</td>\n",
       "      <td>NaN</td>\n",
       "      <td>NaN</td>\n",
       "      <td>NaN</td>\n",
       "      <td>NaN</td>\n",
       "      <td>...</td>\n",
       "      <td>NaN</td>\n",
       "      <td>NaN</td>\n",
       "      <td>NaN</td>\n",
       "      <td>NaN</td>\n",
       "      <td>NaN</td>\n",
       "      <td>NaN</td>\n",
       "      <td>NaN</td>\n",
       "      <td>NaN</td>\n",
       "      <td>NaN</td>\n",
       "      <td>NaN</td>\n",
       "    </tr>\n",
       "    <tr>\n",
       "      <th>50%</th>\n",
       "      <td>NaN</td>\n",
       "      <td>NaN</td>\n",
       "      <td>NaN</td>\n",
       "      <td>NaN</td>\n",
       "      <td>NaN</td>\n",
       "      <td>NaN</td>\n",
       "      <td>NaN</td>\n",
       "      <td>NaN</td>\n",
       "      <td>NaN</td>\n",
       "      <td>NaN</td>\n",
       "      <td>...</td>\n",
       "      <td>NaN</td>\n",
       "      <td>NaN</td>\n",
       "      <td>NaN</td>\n",
       "      <td>NaN</td>\n",
       "      <td>NaN</td>\n",
       "      <td>NaN</td>\n",
       "      <td>NaN</td>\n",
       "      <td>NaN</td>\n",
       "      <td>NaN</td>\n",
       "      <td>NaN</td>\n",
       "    </tr>\n",
       "    <tr>\n",
       "      <th>75%</th>\n",
       "      <td>NaN</td>\n",
       "      <td>NaN</td>\n",
       "      <td>NaN</td>\n",
       "      <td>NaN</td>\n",
       "      <td>NaN</td>\n",
       "      <td>NaN</td>\n",
       "      <td>NaN</td>\n",
       "      <td>NaN</td>\n",
       "      <td>NaN</td>\n",
       "      <td>NaN</td>\n",
       "      <td>...</td>\n",
       "      <td>NaN</td>\n",
       "      <td>NaN</td>\n",
       "      <td>NaN</td>\n",
       "      <td>NaN</td>\n",
       "      <td>NaN</td>\n",
       "      <td>NaN</td>\n",
       "      <td>NaN</td>\n",
       "      <td>NaN</td>\n",
       "      <td>NaN</td>\n",
       "      <td>NaN</td>\n",
       "    </tr>\n",
       "    <tr>\n",
       "      <th>max</th>\n",
       "      <td>NaN</td>\n",
       "      <td>NaN</td>\n",
       "      <td>NaN</td>\n",
       "      <td>NaN</td>\n",
       "      <td>NaN</td>\n",
       "      <td>NaN</td>\n",
       "      <td>NaN</td>\n",
       "      <td>NaN</td>\n",
       "      <td>NaN</td>\n",
       "      <td>NaN</td>\n",
       "      <td>...</td>\n",
       "      <td>NaN</td>\n",
       "      <td>NaN</td>\n",
       "      <td>NaN</td>\n",
       "      <td>NaN</td>\n",
       "      <td>NaN</td>\n",
       "      <td>NaN</td>\n",
       "      <td>NaN</td>\n",
       "      <td>NaN</td>\n",
       "      <td>NaN</td>\n",
       "      <td>NaN</td>\n",
       "    </tr>\n",
       "  </tbody>\n",
       "</table>\n",
       "<p>8 rows × 80 columns</p>\n",
       "</div>"
      ],
      "text/plain": [
       "       블루킬0  블루킬1  블루킬2  블루킬3  블루킬4  블루킬5  블루킬6  블루킬7  블루킬8  블루킬9  ...   \n",
       "count   0.0   0.0   0.0   0.0   0.0   0.0   0.0   0.0   0.0   0.0  ...  \\\n",
       "mean    NaN   NaN   NaN   NaN   NaN   NaN   NaN   NaN   NaN   NaN  ...   \n",
       "std     NaN   NaN   NaN   NaN   NaN   NaN   NaN   NaN   NaN   NaN  ...   \n",
       "min     NaN   NaN   NaN   NaN   NaN   NaN   NaN   NaN   NaN   NaN  ...   \n",
       "25%     NaN   NaN   NaN   NaN   NaN   NaN   NaN   NaN   NaN   NaN  ...   \n",
       "50%     NaN   NaN   NaN   NaN   NaN   NaN   NaN   NaN   NaN   NaN  ...   \n",
       "75%     NaN   NaN   NaN   NaN   NaN   NaN   NaN   NaN   NaN   NaN  ...   \n",
       "max     NaN   NaN   NaN   NaN   NaN   NaN   NaN   NaN   NaN   NaN  ...   \n",
       "\n",
       "       레드오브젝0  레드오브젝1  레드오브젝2  레드오브젝3  레드오브젝4  레드오브젝5  레드오브젝6  레드오브젝7  레드오브젝8   \n",
       "count     0.0     0.0     0.0     0.0     0.0     0.0     0.0     0.0     0.0  \\\n",
       "mean      NaN     NaN     NaN     NaN     NaN     NaN     NaN     NaN     NaN   \n",
       "std       NaN     NaN     NaN     NaN     NaN     NaN     NaN     NaN     NaN   \n",
       "min       NaN     NaN     NaN     NaN     NaN     NaN     NaN     NaN     NaN   \n",
       "25%       NaN     NaN     NaN     NaN     NaN     NaN     NaN     NaN     NaN   \n",
       "50%       NaN     NaN     NaN     NaN     NaN     NaN     NaN     NaN     NaN   \n",
       "75%       NaN     NaN     NaN     NaN     NaN     NaN     NaN     NaN     NaN   \n",
       "max       NaN     NaN     NaN     NaN     NaN     NaN     NaN     NaN     NaN   \n",
       "\n",
       "       레드오브젝9  \n",
       "count     0.0  \n",
       "mean      NaN  \n",
       "std       NaN  \n",
       "min       NaN  \n",
       "25%       NaN  \n",
       "50%       NaN  \n",
       "75%       NaN  \n",
       "max       NaN  \n",
       "\n",
       "[8 rows x 80 columns]"
      ]
     },
     "execution_count": 3,
     "metadata": {},
     "output_type": "execute_result"
    }
   ],
   "source": [
    "df.describe()"
   ]
  },
  {
   "cell_type": "code",
   "execution_count": null,
   "metadata": {},
   "outputs": [
    {
     "data": {
      "text/html": [
       "<div>\n",
       "<style scoped>\n",
       "    .dataframe tbody tr th:only-of-type {\n",
       "        vertical-align: middle;\n",
       "    }\n",
       "\n",
       "    .dataframe tbody tr th {\n",
       "        vertical-align: top;\n",
       "    }\n",
       "\n",
       "    .dataframe thead th {\n",
       "        text-align: right;\n",
       "    }\n",
       "</style>\n",
       "<table border=\"1\" class=\"dataframe\">\n",
       "  <thead>\n",
       "    <tr style=\"text-align: right;\">\n",
       "      <th></th>\n",
       "      <th>matchID</th>\n",
       "      <th>블루킬0</th>\n",
       "      <th>블루킬1</th>\n",
       "      <th>블루킬2</th>\n",
       "      <th>블루킬3</th>\n",
       "      <th>블루킬4</th>\n",
       "      <th>블루킬5</th>\n",
       "      <th>블루킬6</th>\n",
       "      <th>블루킬7</th>\n",
       "      <th>블루킬8</th>\n",
       "      <th>...</th>\n",
       "      <th>레드오브젝0</th>\n",
       "      <th>레드오브젝1</th>\n",
       "      <th>레드오브젝2</th>\n",
       "      <th>레드오브젝3</th>\n",
       "      <th>레드오브젝4</th>\n",
       "      <th>레드오브젝5</th>\n",
       "      <th>레드오브젝6</th>\n",
       "      <th>레드오브젝7</th>\n",
       "      <th>레드오브젝8</th>\n",
       "      <th>레드오브젝9</th>\n",
       "    </tr>\n",
       "  </thead>\n",
       "  <tbody>\n",
       "    <tr>\n",
       "      <th>0</th>\n",
       "      <td>KR_6415876608</td>\n",
       "      <td>0.166667</td>\n",
       "      <td>0.2</td>\n",
       "      <td>0.333333</td>\n",
       "      <td>0.166667</td>\n",
       "      <td>0.000000</td>\n",
       "      <td>0.000000</td>\n",
       "      <td>0.2</td>\n",
       "      <td>0.333333</td>\n",
       "      <td>0.2</td>\n",
       "      <td>...</td>\n",
       "      <td>0.0</td>\n",
       "      <td>1.0</td>\n",
       "      <td>0.0</td>\n",
       "      <td>0.0</td>\n",
       "      <td>0.0</td>\n",
       "      <td>0.0</td>\n",
       "      <td>0.0</td>\n",
       "      <td>0.5</td>\n",
       "      <td>0.0</td>\n",
       "      <td>0.0</td>\n",
       "    </tr>\n",
       "    <tr>\n",
       "      <th>1</th>\n",
       "      <td>KR_6415928037</td>\n",
       "      <td>0.166667</td>\n",
       "      <td>0.2</td>\n",
       "      <td>0.500000</td>\n",
       "      <td>0.500000</td>\n",
       "      <td>0.500000</td>\n",
       "      <td>0.000000</td>\n",
       "      <td>0.4</td>\n",
       "      <td>0.000000</td>\n",
       "      <td>0.4</td>\n",
       "      <td>...</td>\n",
       "      <td>0.0</td>\n",
       "      <td>0.0</td>\n",
       "      <td>0.0</td>\n",
       "      <td>0.0</td>\n",
       "      <td>0.0</td>\n",
       "      <td>0.0</td>\n",
       "      <td>1.0</td>\n",
       "      <td>0.0</td>\n",
       "      <td>0.0</td>\n",
       "      <td>0.0</td>\n",
       "    </tr>\n",
       "    <tr>\n",
       "      <th>2</th>\n",
       "      <td>KR_6416050723</td>\n",
       "      <td>0.000000</td>\n",
       "      <td>0.0</td>\n",
       "      <td>0.000000</td>\n",
       "      <td>0.000000</td>\n",
       "      <td>0.000000</td>\n",
       "      <td>0.000000</td>\n",
       "      <td>0.2</td>\n",
       "      <td>0.000000</td>\n",
       "      <td>0.0</td>\n",
       "      <td>...</td>\n",
       "      <td>0.0</td>\n",
       "      <td>0.0</td>\n",
       "      <td>0.0</td>\n",
       "      <td>1.0</td>\n",
       "      <td>0.0</td>\n",
       "      <td>0.0</td>\n",
       "      <td>0.0</td>\n",
       "      <td>0.0</td>\n",
       "      <td>1.0</td>\n",
       "      <td>0.0</td>\n",
       "    </tr>\n",
       "    <tr>\n",
       "      <th>3</th>\n",
       "      <td>KR_6416080777</td>\n",
       "      <td>0.000000</td>\n",
       "      <td>0.0</td>\n",
       "      <td>0.500000</td>\n",
       "      <td>0.000000</td>\n",
       "      <td>0.000000</td>\n",
       "      <td>0.000000</td>\n",
       "      <td>0.2</td>\n",
       "      <td>0.166667</td>\n",
       "      <td>0.2</td>\n",
       "      <td>...</td>\n",
       "      <td>0.0</td>\n",
       "      <td>0.0</td>\n",
       "      <td>0.0</td>\n",
       "      <td>1.0</td>\n",
       "      <td>0.0</td>\n",
       "      <td>0.0</td>\n",
       "      <td>0.0</td>\n",
       "      <td>0.0</td>\n",
       "      <td>0.0</td>\n",
       "      <td>0.0</td>\n",
       "    </tr>\n",
       "    <tr>\n",
       "      <th>4</th>\n",
       "      <td>KR_6416156445</td>\n",
       "      <td>0.500000</td>\n",
       "      <td>0.4</td>\n",
       "      <td>0.166667</td>\n",
       "      <td>0.000000</td>\n",
       "      <td>0.166667</td>\n",
       "      <td>0.166667</td>\n",
       "      <td>0.2</td>\n",
       "      <td>0.000000</td>\n",
       "      <td>0.0</td>\n",
       "      <td>...</td>\n",
       "      <td>0.0</td>\n",
       "      <td>0.0</td>\n",
       "      <td>0.0</td>\n",
       "      <td>0.0</td>\n",
       "      <td>0.0</td>\n",
       "      <td>0.0</td>\n",
       "      <td>0.0</td>\n",
       "      <td>0.5</td>\n",
       "      <td>0.0</td>\n",
       "      <td>0.0</td>\n",
       "    </tr>\n",
       "    <tr>\n",
       "      <th>...</th>\n",
       "      <td>...</td>\n",
       "      <td>...</td>\n",
       "      <td>...</td>\n",
       "      <td>...</td>\n",
       "      <td>...</td>\n",
       "      <td>...</td>\n",
       "      <td>...</td>\n",
       "      <td>...</td>\n",
       "      <td>...</td>\n",
       "      <td>...</td>\n",
       "      <td>...</td>\n",
       "      <td>...</td>\n",
       "      <td>...</td>\n",
       "      <td>...</td>\n",
       "      <td>...</td>\n",
       "      <td>...</td>\n",
       "      <td>...</td>\n",
       "      <td>...</td>\n",
       "      <td>...</td>\n",
       "      <td>...</td>\n",
       "      <td>...</td>\n",
       "    </tr>\n",
       "    <tr>\n",
       "      <th>2059</th>\n",
       "      <td>KR_6451768607</td>\n",
       "      <td>0.000000</td>\n",
       "      <td>0.2</td>\n",
       "      <td>0.166667</td>\n",
       "      <td>0.166667</td>\n",
       "      <td>0.000000</td>\n",
       "      <td>0.166667</td>\n",
       "      <td>0.2</td>\n",
       "      <td>0.000000</td>\n",
       "      <td>0.2</td>\n",
       "      <td>...</td>\n",
       "      <td>0.0</td>\n",
       "      <td>0.0</td>\n",
       "      <td>0.0</td>\n",
       "      <td>0.0</td>\n",
       "      <td>0.0</td>\n",
       "      <td>0.0</td>\n",
       "      <td>1.0</td>\n",
       "      <td>0.0</td>\n",
       "      <td>0.0</td>\n",
       "      <td>0.0</td>\n",
       "    </tr>\n",
       "    <tr>\n",
       "      <th>2060</th>\n",
       "      <td>KR_6451772923</td>\n",
       "      <td>0.000000</td>\n",
       "      <td>0.0</td>\n",
       "      <td>0.000000</td>\n",
       "      <td>0.000000</td>\n",
       "      <td>0.000000</td>\n",
       "      <td>0.000000</td>\n",
       "      <td>0.0</td>\n",
       "      <td>0.000000</td>\n",
       "      <td>0.0</td>\n",
       "      <td>...</td>\n",
       "      <td>0.0</td>\n",
       "      <td>0.0</td>\n",
       "      <td>0.0</td>\n",
       "      <td>1.0</td>\n",
       "      <td>0.5</td>\n",
       "      <td>0.0</td>\n",
       "      <td>0.0</td>\n",
       "      <td>0.0</td>\n",
       "      <td>0.0</td>\n",
       "      <td>0.0</td>\n",
       "    </tr>\n",
       "    <tr>\n",
       "      <th>2061</th>\n",
       "      <td>KR_6451782391</td>\n",
       "      <td>0.166667</td>\n",
       "      <td>0.0</td>\n",
       "      <td>0.333333</td>\n",
       "      <td>0.333333</td>\n",
       "      <td>0.000000</td>\n",
       "      <td>0.166667</td>\n",
       "      <td>0.0</td>\n",
       "      <td>0.000000</td>\n",
       "      <td>0.4</td>\n",
       "      <td>...</td>\n",
       "      <td>0.0</td>\n",
       "      <td>0.0</td>\n",
       "      <td>0.0</td>\n",
       "      <td>0.0</td>\n",
       "      <td>0.0</td>\n",
       "      <td>0.0</td>\n",
       "      <td>0.0</td>\n",
       "      <td>0.5</td>\n",
       "      <td>0.0</td>\n",
       "      <td>0.0</td>\n",
       "    </tr>\n",
       "    <tr>\n",
       "      <th>2062</th>\n",
       "      <td>KR_6451795880</td>\n",
       "      <td>0.000000</td>\n",
       "      <td>0.4</td>\n",
       "      <td>0.333333</td>\n",
       "      <td>0.166667</td>\n",
       "      <td>0.000000</td>\n",
       "      <td>0.166667</td>\n",
       "      <td>0.4</td>\n",
       "      <td>0.166667</td>\n",
       "      <td>0.4</td>\n",
       "      <td>...</td>\n",
       "      <td>0.0</td>\n",
       "      <td>0.0</td>\n",
       "      <td>0.0</td>\n",
       "      <td>1.0</td>\n",
       "      <td>0.0</td>\n",
       "      <td>0.0</td>\n",
       "      <td>0.0</td>\n",
       "      <td>0.0</td>\n",
       "      <td>0.0</td>\n",
       "      <td>1.0</td>\n",
       "    </tr>\n",
       "    <tr>\n",
       "      <th>2063</th>\n",
       "      <td>KR_6451797341</td>\n",
       "      <td>0.166667</td>\n",
       "      <td>0.4</td>\n",
       "      <td>0.166667</td>\n",
       "      <td>0.000000</td>\n",
       "      <td>0.166667</td>\n",
       "      <td>0.000000</td>\n",
       "      <td>0.0</td>\n",
       "      <td>0.333333</td>\n",
       "      <td>0.2</td>\n",
       "      <td>...</td>\n",
       "      <td>0.0</td>\n",
       "      <td>0.0</td>\n",
       "      <td>0.0</td>\n",
       "      <td>1.0</td>\n",
       "      <td>0.0</td>\n",
       "      <td>0.0</td>\n",
       "      <td>0.0</td>\n",
       "      <td>0.0</td>\n",
       "      <td>0.0</td>\n",
       "      <td>0.0</td>\n",
       "    </tr>\n",
       "  </tbody>\n",
       "</table>\n",
       "<p>2064 rows × 81 columns</p>\n",
       "</div>"
      ],
      "text/plain": [
       "            matchID      블루킬0  블루킬1      블루킬2      블루킬3      블루킬4      블루킬5   \n",
       "0     KR_6415876608  0.166667   0.2  0.333333  0.166667  0.000000  0.000000  \\\n",
       "1     KR_6415928037  0.166667   0.2  0.500000  0.500000  0.500000  0.000000   \n",
       "2     KR_6416050723  0.000000   0.0  0.000000  0.000000  0.000000  0.000000   \n",
       "3     KR_6416080777  0.000000   0.0  0.500000  0.000000  0.000000  0.000000   \n",
       "4     KR_6416156445  0.500000   0.4  0.166667  0.000000  0.166667  0.166667   \n",
       "...             ...       ...   ...       ...       ...       ...       ...   \n",
       "2059  KR_6451768607  0.000000   0.2  0.166667  0.166667  0.000000  0.166667   \n",
       "2060  KR_6451772923  0.000000   0.0  0.000000  0.000000  0.000000  0.000000   \n",
       "2061  KR_6451782391  0.166667   0.0  0.333333  0.333333  0.000000  0.166667   \n",
       "2062  KR_6451795880  0.000000   0.4  0.333333  0.166667  0.000000  0.166667   \n",
       "2063  KR_6451797341  0.166667   0.4  0.166667  0.000000  0.166667  0.000000   \n",
       "\n",
       "      블루킬6      블루킬7  블루킬8  ...  레드오브젝0  레드오브젝1  레드오브젝2  레드오브젝3  레드오브젝4   \n",
       "0      0.2  0.333333   0.2  ...     0.0     1.0     0.0     0.0     0.0  \\\n",
       "1      0.4  0.000000   0.4  ...     0.0     0.0     0.0     0.0     0.0   \n",
       "2      0.2  0.000000   0.0  ...     0.0     0.0     0.0     1.0     0.0   \n",
       "3      0.2  0.166667   0.2  ...     0.0     0.0     0.0     1.0     0.0   \n",
       "4      0.2  0.000000   0.0  ...     0.0     0.0     0.0     0.0     0.0   \n",
       "...    ...       ...   ...  ...     ...     ...     ...     ...     ...   \n",
       "2059   0.2  0.000000   0.2  ...     0.0     0.0     0.0     0.0     0.0   \n",
       "2060   0.0  0.000000   0.0  ...     0.0     0.0     0.0     1.0     0.5   \n",
       "2061   0.0  0.000000   0.4  ...     0.0     0.0     0.0     0.0     0.0   \n",
       "2062   0.4  0.166667   0.4  ...     0.0     0.0     0.0     1.0     0.0   \n",
       "2063   0.0  0.333333   0.2  ...     0.0     0.0     0.0     1.0     0.0   \n",
       "\n",
       "      레드오브젝5  레드오브젝6  레드오브젝7  레드오브젝8  레드오브젝9  \n",
       "0        0.0     0.0     0.5     0.0     0.0  \n",
       "1        0.0     1.0     0.0     0.0     0.0  \n",
       "2        0.0     0.0     0.0     1.0     0.0  \n",
       "3        0.0     0.0     0.0     0.0     0.0  \n",
       "4        0.0     0.0     0.5     0.0     0.0  \n",
       "...      ...     ...     ...     ...     ...  \n",
       "2059     0.0     1.0     0.0     0.0     0.0  \n",
       "2060     0.0     0.0     0.0     0.0     0.0  \n",
       "2061     0.0     0.0     0.5     0.0     0.0  \n",
       "2062     0.0     0.0     0.0     0.0     1.0  \n",
       "2063     0.0     0.0     0.0     0.0     0.0  \n",
       "\n",
       "[2064 rows x 81 columns]"
      ]
     },
     "execution_count": 13,
     "metadata": {},
     "output_type": "execute_result"
    }
   ],
   "source": [
    "import numpy as np\n",
    "\n",
    "# Read the CSV file\n",
    "df = pd.read_csv(r'C:\\Users\\김성윤\\Desktop\\pyLoL\\riot_api_dataset.csv')\n",
    "\n",
    "# List the columns you want to normalize\n",
    "columns_to_normalize = ['column_1', 'column_2', 'column_3']  # Replace these with your specific column names\n",
    "\n",
    "# Get the min and max values across the specified columns\n",
    "min_value = df[columns_to_normalize].min().min()\n",
    "max_value = df[columns_to_normalize].max().max()\n",
    "\n",
    "# Normalize only the specified columns using the single min and max value\n",
    "normalized_df = df.copy()\n",
    "normalized_df[columns_to_normalize] = df[columns_to_normalize].apply(lambda x: (x - min_value) / (max_value - min_value))\n",
    "\n",
    "# Save the normalized DataFrame to a new CSV file (optional)\n",
    "normalized_df.to_csv('normalized_data.csv', index=False)\n",
    "\n",
    "# Print the normalized DataFrame\n",
    "print(normalized_df)"
   ]
  },
  {
   "cell_type": "code",
   "execution_count": null,
   "metadata": {},
   "outputs": [
    {
     "name": "stdout",
     "output_type": "stream",
     "text": [
      "2276\n"
     ]
    },
    {
     "name": "stderr",
     "output_type": "stream",
     "text": [
      "100%|██████████| 2064/2064 [6:58:48<00:00, 12.17s/it]  "
     ]
    },
    {
     "name": "stdout",
     "output_type": "stream",
     "text": [
      "Done!\n"
     ]
    },
    {
     "name": "stderr",
     "output_type": "stream",
     "text": [
      "\n"
     ]
    }
   ],
   "source": [
    "# 챌린저 유저 경기분석 결과 저장\n",
    "# team 100 = blue , team 200 = red , team 300 = ai\n",
    "# 여기 파라미터이름을 좀 바보같이 지어버림,,,,\n",
    "\n",
    "from autoLeague.dataset.calculator import AreaCalculator as ac\n",
    "\n",
    "ac.__init__(ac,project_folder_dir='C:\\dataset_final' , tier='CHALLENGER II')\n",
    "ac.get_each_Vision_Area_Per_Tier(ac, project_folder_dir='C:\\dataset_final' , tier='CHALLENGER II')"
   ]
  },
  {
   "attachments": {},
   "cell_type": "markdown",
   "metadata": {},
   "source": [
    "#### ConvLSTM Model "
   ]
  },
  {
   "cell_type": "code",
   "execution_count": null,
   "metadata": {},
   "outputs": [],
   "source": [
    "import numpy as np\n",
    "\n",
    "# 리스트의 각 원소가 순차적으로 누적한다.\n",
    "def transfomList(original_list):\n",
    "    original_list = original_list\n",
    "    new_list = []\n",
    "\n",
    "    running_sum = 0\n",
    "    for value in original_list:\n",
    "        running_sum += value\n",
    "        new_list.append(running_sum)\n",
    "\n",
    "    return new_list\n",
    "\n",
    "# 두 리스트의 차이를 반환한다. ( 블루팀 - 레드팀 )\n",
    "def subtractList(blue_list, red_list):\n",
    "\n",
    "    result = [a - b for a, b in zip(blue_list, red_list)]\n",
    "\n",
    "    return result\n",
    "\n",
    "def getMatchData(matchId):\n",
    "    data = requests.get(f\"https://asia.api.riotgames.com/lol/match/v5/matches/{matchId}/timeline?api_key=RGAPI-1a1d24de-0002-4894-85cc-6deaf6ec560e\").json()\n",
    "    #### 블루팀 participantId 1 ~ 5 // 레드팀 participantId 6 ~ 10\n",
    "    BLUE_IDs = [1,2,3,4,5]\n",
    "    RED_IDs = [6,7,8,9,10]\n",
    "    #### 여기는 프레임 인덱스가 N 일때, 실제 그 프레임이 담는 시간대는 N-1 분 0초부터 N-1 분 59초까지임\n",
    "    #### 따라서 5분부터 15분 0초까지의 정보는 프레임 6분부터 15까지이다.\n",
    "    frame_5_to_15 = data['info']['frames'][6:16]\n",
    "    \n",
    "    # (해당 시간대에서) 각 팀별 킬 수, 어시스트 수, 누적 대형 오브젝트 처치 수 \n",
    "    BLUE_KILLS,BLUE_DEATHS,BLUE_ASSISTS,BLUE_OBJECTS,BLUE_GOLDS,BLUE_EXPERIENCES  = [],[],[],[],[],[]   # 참고로 여기서는 각 챔피언들의 어시스트 합\n",
    "    RED_KILLS,RED_DEATHS,RED_ASSISTS,RED_OBJECTS,RED_GOLDS,RED_EXPERIENCES = [],[],[],[],[],[]\n",
    "\n",
    "\n",
    "\n",
    "    for frame in frame_5_to_15:\n",
    "\n",
    "        blue_kills,blue_deaths,blue_assists,blue_objects,blue_golds,blue_experiences  = 0,0,0,0,0,0\n",
    "        red_kills,red_deaths,red_assists,red_objects,red_golds,red_experiences = 0,0,0,0,0,0\n",
    "\n",
    "\n",
    "        for event in frame['events']:\n",
    "\n",
    "            if event['type'] == \"CHAMPION_KILL\":            # KILL, DEATH, ASSIST\n",
    "                if event['killerId'] in BLUE_IDs:\n",
    "                    blue_kills += 1\n",
    "                if event['killerId'] in RED_IDs:\n",
    "                    red_kills += 1\n",
    "                if event['victimId'] in BLUE_IDs:\n",
    "                    blue_deaths += 1\n",
    "                if event['victimId'] in RED_IDs:\n",
    "                    red_deaths += 1\n",
    "                if event.get(\"assistingParticipantIds\") != None:\n",
    "                    for assistId in event.get(\"assistingParticipantIds\"):\n",
    "                        if assistId in BLUE_IDs:\n",
    "                            blue_assists += 1\n",
    "                        if assistId in RED_IDs:\n",
    "                            red_assists += 1\n",
    "\n",
    "            if event['type'] == \"ELITE_MONSTER_KILL\":       # ELITE MONSTER KILL\n",
    "                if event['killerTeamId'] == 100:\n",
    "                    blue_objects += 1\n",
    "                else:\n",
    "                    red_objects += 1\n",
    "        \n",
    "\n",
    "        for index in frame['participantFrames']:\n",
    "            if int(index)  <= 5:\n",
    "                blue_golds += frame['participantFrames'][index]['totalGold']\n",
    "                blue_experiences += frame['participantFrames'][str(index)]['xp']\n",
    "            else:\n",
    "                red_golds += frame['participantFrames'][index]['totalGold']\n",
    "                red_experiences += frame['participantFrames'][index]['xp']\n",
    "\n",
    "            \n",
    "\n",
    "\n",
    "        BLUE_KILLS.append(blue_kills)\n",
    "        BLUE_DEATHS.append(blue_deaths)\n",
    "        BLUE_ASSISTS.append(blue_assists)\n",
    "        BLUE_OBJECTS.append(blue_objects)\n",
    "        BLUE_GOLDS.append(blue_golds)\n",
    "        BLUE_EXPERIENCES.append(blue_experiences)\n",
    "\n",
    "        # 누적 횟수로 전환\n",
    "        BLUE_KILLS = transfomList(BLUE_KILLS)\n",
    "        BLUE_DEATHS = transfomList(BLUE_DEATHS)\n",
    "        BLUE_ASSISTS = transfomList(BLUE_ASSISTS)\n",
    "        BLUE_OBJECTS = transfomList(BLUE_OBJECTS)\n",
    "        BLUE_GOLDS = transfomList(BLUE_GOLDS)\n",
    "        BLUE_EXPERIENCES = transfomList(BLUE_EXPERIENCES)\n",
    "\n",
    "        RED_KILLS.append(red_kills)\n",
    "        RED_DEATHS.append(red_deaths)\n",
    "        RED_ASSISTS.append(red_assists)\n",
    "        RED_OBJECTS.append(red_objects)\n",
    "        RED_GOLDS.append(red_golds)\n",
    "        RED_EXPERIENCES.append(red_experiences)\n",
    "\n",
    "        # 누적 횟수로 전환\n",
    "        RED_KILLS = transfomList(RED_KILLS)\n",
    "        RED_DEATHS = transfomList(RED_DEATHS)\n",
    "        RED_ASSISTS = transfomList(RED_ASSISTS)\n",
    "        RED_OBJECTS = transfomList(RED_OBJECTS)\n",
    "        RED_GOLDS = transfomList(RED_GOLDS)\n",
    "        RED_EXPERIENCES = transfomList(RED_EXPERIENCES)\n",
    "\n",
    "\n",
    "        # 팀 차이 계산\n",
    "\n",
    "        DIFF_KILLS = subtractList(BLUE_KILLS,RED_KILLS)\n",
    "        DIFF_DEATHS = subtractList(BLUE_DEATHS,RED_DEATHS)\n",
    "        DIFF_ASSISTS = subtractList(BLUE_ASSISTS,RED_ASSISTS)\n",
    "        DIFF_OBJECTS = subtractList(BLUE_OBJECTS,RED_OBJECTS)\n",
    "        DIFF_GOLDS = subtractList(BLUE_GOLDS,RED_GOLDS)\n",
    "        DIFF_EXPERIENCES = subtractList(BLUE_EXPERIENCES,RED_EXPERIENCES)\n",
    "\n",
    "            #위 순서대로 리스트 병합\n",
    "    \n",
    "    allData = []\n",
    "    '''allData.append(matchId)\n",
    "\n",
    "    \n",
    "    allData.extend(BLUE_KILLS) , allData.extend(BLUE_DEATHS) , allData.extend(BLUE_ASSISTS) , allData.extend(BLUE_OBJECTS) , allData.extend(BLUE_GOLDS) , allData.extend(BLUE_EXPERIENCES)\n",
    "    allData.extend(RED_KILLS) , allData.extend(RED_DEATHS) , allData.extend(RED_ASSISTS) , allData.extend(RED_OBJECTS) , allData.extend(RED_GOLDS) , allData.extend(RED_EXPERIENCES)'''\n",
    "\n",
    "    allData.extend(DIFF_KILLS) , allData.extend(DIFF_DEATHS) , allData.extend(DIFF_ASSISTS) , allData.extend(DIFF_OBJECTS) , allData.extend(DIFF_GOLDS) , allData.extend(DIFF_EXPERIENCES)\n",
    "\n",
    "    #allData.append(DIFF_KILLS) , allData.append(DIFF_DEATHS) , allData.append(DIFF_ASSISTS) , allData.append(DIFF_OBJECTS) , allData.append(DIFF_GOLDS) , allData.append(DIFF_EXPERIENCES)\n",
    "\n",
    "    # Convert the 2D list to a NumPy array and transpose it to have shape (time_steps, features)\n",
    "    #data_np = np.array(allData).transpose()\n",
    "\n",
    "    # Add an extra dimension for samples, resulting in shape (samples, time_steps, features)\n",
    "    # data_np = np.reshape(data_np, (10, 6))\n",
    "    return allData\n",
    "\n",
    "    #return allData"
   ]
  },
  {
   "attachments": {},
   "cell_type": "markdown",
   "metadata": {},
   "source": [
    "#### 데이터 전처리 (1분간의 평균 및 표준화)"
   ]
  },
  {
   "cell_type": "code",
   "execution_count": null,
   "metadata": {},
   "outputs": [
    {
     "name": "stdout",
     "output_type": "stream",
     "text": [
      "Division 1: [1, 2, 3, 4, 5, 6, 7, 8, 9, 10, 11, 12, 13, 14, 15, 16, 17, 18, 19, 20, 21, 22, 23, 24, 25, 26, 27, 28, 29, 30, 31, 32, 33, 34, 35, 36, 37, 38, 39, 40, 41, 42, 43, 44, 45, 46, 47, 48, 49, 50, 51, 52, 53, 54, 55, 56, 57, 58, 59, 60, 61, 62, 63, 64, 65, 66, 67, 68, 69, 70, 71, 72, 73, 74, 75, 76, 77, 78, 79, 80, 81, 82, 83, 84, 85, 86, 87, 88, 89, 90, 91, 92, 93, 94, 95, 96, 97, 98, 99, 100, 101, 102, 103, 104, 105, 106, 107, 108, 109, 110, 111, 112, 113, 114, 115, 116, 117, 118, 119, 120, 121, 122, 123, 124, 125, 126, 127, 128, 129, 130, 131, 132, 133, 134, 135, 136, 137, 138, 139, 140, 141, 142, 143, 144, 145, 146, 147, 148, 149, 150, 151, 152, 153, 154, 155, 156, 157, 158, 159, 160, 161, 162, 163, 164, 165, 166, 167, 168, 169, 170, 171, 172, 173, 174, 175, 176, 177, 178, 179, 180, 181, 182, 183, 184, 185, 186, 187, 188, 189, 190, 191, 192, 193, 194, 195, 196, 197, 198, 199, 200, 201, 202, 203, 204, 205, 206, 207, 208, 209, 210, 211, 212, 213, 214, 215, 216, 217, 218, 219, 220, 221, 222, 223, 224, 225, 226, 227, 228, 229, 230, 231, 232, 233, 234, 235, 236, 237, 238, 239, 240, 241, 242, 243, 244, 245, 246, 247, 248, 249, 250, 251, 252, 253, 254, 255, 256, 257, 258, 259, 260, 261, 262, 263, 264, 265, 266, 267, 268, 269, 270, 271, 272, 273, 274, 275, 276, 277, 278, 279, 280, 281, 282, 283, 284, 285, 286, 287, 288, 289, 290, 291, 292, 293, 294, 295, 296, 297, 298, 299, 300, 301, 302, 303, 304, 305, 306, 307, 308, 309, 310, 311, 312, 313, 314, 315, 316, 317, 318, 319, 320, 321, 322, 323, 324, 325, 326, 327, 328, 329, 330, 331, 332, 333, 334, 335, 336, 337, 338, 339, 340, 341, 342, 343, 344, 345, 346, 347, 348, 349, 350, 351, 352, 353, 354, 355, 356, 357, 358, 359, 360, 361, 362, 363, 364, 365, 366, 367, 368, 369, 370, 371, 372, 373, 374, 375, 376, 377, 378, 379]\n"
     ]
    }
   ],
   "source": [
    "import cv2\n",
    "\n",
    "def read_image(path):\n",
    "    # Read the image\n",
    "    image = cv2.imread(path)\n",
    "\n",
    "    blue_jug_near_baron = [(370,400),(200,300),(135,165),(100,200),(100,550),(150,550),(200,575)]\n",
    "    blue_jug_near_drake = [(840-415,830-365),(840-350,830-325),(840-300,830-200),(840-210,830-210),(840-200,830-110),(840-230,830-100),(840-550,830-100),(840-550,830-150),(840-575,830-200),(840-415,830-365)]\n",
    "    red_jug_near_baron = [(415,365),(350,325),(300,200),(210,210),(200,110),(230,100),(550,100),(550,150),(575,200),(415,365)]\n",
    "    red_jug_near_drake = [(840-370,830-400),(840-200,830-300),(840-135,830-165),(840-100,830-200),(840-100,830-550),(840-150,830-550),(840-200,830-575),(840-370,830-400)]\n",
    "    river_near_baron = [(370,400),(200,300),(135,165),(200,110),(210,210),(300,200),(350,325),(415,365),(370,400)]\n",
    "    river_near_drake = [(840-370,830-400),(840-200,830-300),(840-135,830-165),(840-200,830-110),(840-210,830-210),(840-300,830-200),(840-350,830-325),(840-415,830-365),(840-370,830-400)]\n",
    "    \n",
    "    regions = {\n",
    "        'blue_jug_near_baron': blue_jug_near_baron,\n",
    "        'blue_jug_near_drake': blue_jug_near_drake,\n",
    "        'red_jug_near_baron': red_jug_near_baron,\n",
    "        'red_jug_near_drake': red_jug_near_drake,\n",
    "        'river_near_baron': river_near_baron,\n",
    "        'river_near_drake': river_near_drake\n",
    "    }\n",
    "\n",
    "    regions = [blue_jug_near_baron, blue_jug_near_drake, red_jug_near_baron, red_jug_near_drake, river_near_baron, river_near_drake]\n",
    "\n",
    "    # Create a blank mask image of the same size as the original image\n",
    "    mask = np.zeros(image.shape[:2], dtype=np.uint8)\n",
    "\n",
    "    # Fill each region with white (255) on the mask image\n",
    "    for coordinates in regions:\n",
    "        cv2.fillPoly(mask, np.array([coordinates], dtype=np.int32), 255)\n",
    "\n",
    "    # Apply the mask to the original image\n",
    "    masked_image = cv2.bitwise_and(image, image, mask=mask)\n",
    "    # masked_image = cv2.resize(masked_image, dsize=(200, 200))\n",
    "\n",
    "    return masked_image//(1*2)\n",
    "\n",
    "def divide_list(lst, num_divisions):\n",
    "    division_size = len(lst) // num_divisions\n",
    "    remainder = len(lst) % num_divisions\n",
    "    divisions = []\n",
    "\n",
    "    start = 0\n",
    "    for i in range(num_divisions):\n",
    "        end = start + division_size + (1 if remainder > 0 else 0)\n",
    "        divisions.append(lst[start:end])\n",
    "        start = end\n",
    "        if remainder > 0:\n",
    "            remainder -= 1\n",
    "\n",
    "    return divisions\n",
    "\n",
    "# Your list of length 379\n",
    "your_list = list(range(1, 380))\n",
    "\n",
    "# Divide the list into 10 divisions\n",
    "divided_list = divide_list(your_list, 1)\n",
    "\n",
    "# Print the divided list\n",
    "for i, division in enumerate(divided_list):\n",
    "    print(f\"Division {i + 1}: {division}\")"
   ]
  },
  {
   "cell_type": "code",
   "execution_count": null,
   "metadata": {},
   "outputs": [],
   "source": [
    "import cv2\n",
    "import matplotlib.pyplot as plt\n",
    "import os\n",
    "from tqdm import tqdm\n",
    "import numpy as np\n",
    "\n",
    "def extract_number_from_filename(filename):\n",
    "    # Extract numbers from the filename\n",
    "    number = int(\"\".join(filter(str.isdigit, filename)))\n",
    "    return number\n",
    "\n",
    "def add_images(images):\n",
    "    summed_image = read_image(images[0])\n",
    "    for image in images[1:]:\n",
    "        summed_image += read_image(image)\n",
    "\n",
    "    # summed_image = cv2.resize(summed_image, dsize=(100, 100))\n",
    "    plt.imshow(summed_image)\n",
    "    return summed_image\n",
    "\n",
    "# 기존 폴더에 있던 이미지들을 전처리 후, 다른 디렉토리에 옮긴다.\n",
    "# top_level_folder_dir : 최상위 폴더 디렉토리 (예시 : C:\\dataset_final\\CHALLENGER)\n",
    "# interval : 나눌 시간대, seconds (단위는 초) , 해당 시간대에 맞게 묶어서 이미지들의 원소들을 합산 평균할 것임.\n",
    "# total_interval : 해당 데이터셋의 전체 타임 시간대 (여기서는 default 600s == 10분)\n",
    "def sum_and_avg_images(top_level_folder_dir, start, end, interval, total_interval=600):\n",
    "\n",
    "    # 옮겨서 저장할 최상위 위치 \n",
    "    try:\n",
    "        os.mkdir(r'C:\\dataset_final\\CHALLENGER_S')\n",
    "    except:\n",
    "         pass\n",
    "    target_top_level_dir = r'C:\\dataset_final\\CHALLENGER_S'\n",
    "\n",
    "    # 생성되는 그룹 개수\n",
    "    n_group = total_interval // interval\n",
    "    # 1 덩어리로 묶을 파일 갯수 \n",
    "    \n",
    "    # chunk_size = 379//n_group\n",
    "\n",
    "    # match 폴더이름들 받아오기\n",
    "    match_ids = [file for file in os.listdir(r'C:\\dataset_final\\CHALLENGER') if file.startswith('KR')]\n",
    "\n",
    "    # print(match_ids)\n",
    "\n",
    "    for match_id in tqdm(match_ids[start:end]):\n",
    "            blue_dir = os.path.join(top_level_folder_dir, match_id, 'Blue', 'black')\n",
    "            red_dir = os.path.join(top_level_folder_dir, match_id, 'Red', 'black')\n",
    "\n",
    "            os.mkdir(os.path.join(target_top_level_dir, match_id))\n",
    "            os.mkdir(os.path.join(target_top_level_dir, match_id, 'Blue'))\n",
    "            os.mkdir(os.path.join(target_top_level_dir, match_id, 'Blue', 'black'))\n",
    "            os.mkdir(os.path.join(target_top_level_dir, match_id, 'Red'))\n",
    "            os.mkdir(os.path.join(target_top_level_dir, match_id, 'Red', 'black'))\n",
    "\n",
    "            os.mkdir(os.path.join(target_top_level_dir, match_id, 'Other'))\n",
    "            os.mkdir(os.path.join(target_top_level_dir, match_id, 'Other', 'black'))\n",
    "\n",
    "            '''target_blue_dir = os.path.join(target_top_level_dir, match_id, 'Blue', 'black')\n",
    "            target_red_dir = os.path.join(target_top_level_dir, match_id, 'Red', 'black')'''\n",
    "\n",
    "            target_other_dir = os.path.join(target_top_level_dir, match_id, 'Other', 'black')\n",
    "\n",
    "            #blue_image_paths = sorted([os.path.join(blue_dir, img) for img in os.listdir(blue_dir) if os.listdir(blue_dir).index(img)] )\n",
    "            blue_image_paths = sorted([os.path.join(blue_dir, img) for img in os.listdir(blue_dir)] , key=extract_number_from_filename)\n",
    "            # Divide the list into 10 divisions\n",
    "            divided_list_blue = divide_list(blue_image_paths, 379)\n",
    "\n",
    "            '''# Print the divided list\n",
    "            for i, division in enumerate(divided_list_blue):\n",
    "                #print(f\"Division {i + 1}: {division}\")\n",
    "                cv2.imwrite(rf'{target_blue_dir}\\{i}.png', add_images(division))'''\n",
    "                \n",
    "\n",
    "            red_image_paths = sorted([os.path.join(red_dir, img) for img in os.listdir(red_dir)] , key=extract_number_from_filename) \n",
    "            # Divide the list into 10 divisions\n",
    "            divided_list_red = divide_list(red_image_paths, 379)\n",
    "            '''# Print the divided list\n",
    "            for i, division in enumerate(divided_list_red):\n",
    "                #print(f\"Division {i + 1}: {division}\")\n",
    "                cv2.imwrite(rf'{target_red_dir}\\{i}.png', add_images(division))'''\n",
    "               \n",
    "\n",
    "            \n",
    "            \n",
    "            # Print the divided list\n",
    "            for i, (division_blue, division_red) in enumerate(zip(divided_list_blue,divided_list_red)):\n",
    "                #print(f\"Division {i + 1}: {division}\")\n",
    "                cv2.imwrite(rf'{target_other_dir}\\{i}.png', add_images(division_blue) - add_images(division_red) + 127 )  \n",
    "            "
   ]
  },
  {
   "cell_type": "code",
   "execution_count": null,
   "metadata": {},
   "outputs": [],
   "source": [
    "sum_and_avg_images(r'C:\\dataset_final\\CHALLENGER', 800, 900 , 60, total_interval=600)"
   ]
  },
  {
   "cell_type": "code",
   "execution_count": null,
   "metadata": {},
   "outputs": [],
   "source": [
    "sum_and_avg_images(r'C:\\dataset_final\\CHALLENGER', 401, 550 , 60, total_interval=600)"
   ]
  },
  {
   "cell_type": "code",
   "execution_count": null,
   "metadata": {},
   "outputs": [],
   "source": [
    "sum_and_avg_images(r'C:\\dataset_final\\CHALLENGER', 550, 700 , 60, total_interval=600)"
   ]
  },
  {
   "cell_type": "code",
   "execution_count": null,
   "metadata": {},
   "outputs": [],
   "source": [
    "sum_and_avg_images(r'C:\\dataset_final\\CHALLENGER', 700, 850 , 60, total_interval=600)"
   ]
  },
  {
   "cell_type": "code",
   "execution_count": null,
   "metadata": {},
   "outputs": [],
   "source": [
    "sum_and_avg_images(r'C:\\dataset_final\\CHALLENGER', 850, 1000 , 60, total_interval=600)"
   ]
  },
  {
   "cell_type": "code",
   "execution_count": null,
   "metadata": {},
   "outputs": [],
   "source": [
    "##### 응애 라벨링\n",
    "import os\n",
    "import requests\n",
    "import csv\n",
    "from tqdm import tqdm\n",
    "\n",
    "def download_labels():\n",
    "\n",
    "    dir = r'C:\\dataset_final\\CHALLENGER'\n",
    "    API_KEY = 'RGAPI-1a1d24de-0002-4894-85cc-6deaf6ec560e'\n",
    "\n",
    "    matchIds = [file for file in os.listdir(dir) if file.startswith('KR')]\n",
    "    f = open('labels.csv','a', newline='')\n",
    "    wr = csv.writer(f)\n",
    "\n",
    "    wr.writerow(['matchid','label'])\n",
    "\n",
    "    for matchid in tqdm(matchIds):\n",
    "        matchid = matchid.replace('-','_')\n",
    "        is_blue_win =  1 if requests.get(f'https://asia.api.riotgames.com/lol/match/v5/matches/{matchid}?api_key={API_KEY}').json()['info']['teams'][0]['win'] == True else 0\n",
    "\n",
    "        label = is_blue_win\n",
    "        # print(matchid,label)\n",
    "        wr.writerow([matchid,label])\n",
    "        \n",
    "   \n",
    "    f.close()\n",
    "\n",
    "    print('csv write complete')"
   ]
  },
  {
   "cell_type": "code",
   "execution_count": null,
   "metadata": {},
   "outputs": [
    {
     "name": "stderr",
     "output_type": "stream",
     "text": [
      "100%|██████████| 2062/2062 [13:41<00:00,  2.51it/s] "
     ]
    },
    {
     "name": "stdout",
     "output_type": "stream",
     "text": [
      "csv write complete\n"
     ]
    },
    {
     "name": "stderr",
     "output_type": "stream",
     "text": [
      "\n"
     ]
    }
   ],
   "source": [
    "download_labels()"
   ]
  },
  {
   "cell_type": "code",
   "execution_count": null,
   "metadata": {},
   "outputs": [
    {
     "name": "stderr",
     "output_type": "stream",
     "text": [
      "WARNING:root:Limited tf.compat.v2.summary API due to missing TensorBoard installation.\n",
      "WARNING:root:Limited tf.compat.v2.summary API due to missing TensorBoard installation.\n",
      "WARNING:root:Limited tf.compat.v2.summary API due to missing TensorBoard installation.\n",
      "WARNING:root:Limited tf.summary API due to missing TensorBoard installation.\n",
      "WARNING:root:Limited tf.compat.v2.summary API due to missing TensorBoard installation.\n",
      "WARNING:root:Limited tf.compat.v2.summary API due to missing TensorBoard installation.\n",
      "WARNING:root:Limited tf.compat.v2.summary API due to missing TensorBoard installation.\n"
     ]
    },
    {
     "data": {
      "text/plain": [
       "\"\\ntier = 'C:\\\\dataset_final\\\\CHALLENGER_S'\\nmatch_ids = [filename for filename in os.listdir(tier)]   # ['match_id_1', 'match_id_2', 'match_id_3']  List your match_ids\\nprint(len(match_ids))\\ndataset = create_dataset(tier, match_ids)\""
      ]
     },
     "execution_count": 1,
     "metadata": {},
     "output_type": "execute_result"
    }
   ],
   "source": [
    "import os\n",
    "import tensorflow as tf\n",
    "import requests\n",
    "from tqdm import tqdm\n",
    "from functools import reduce\n",
    "import pandas as pd\n",
    "\n",
    "API_KEY = 'RGAPI-1a1d24de-0002-4894-85cc-6deaf6ec560e'\n",
    "\n",
    "from autoLeague.dataset.riotapi import RiotAPI as ra\n",
    "\n",
    "ra.__init__(ra , api_key=API_KEY)\n",
    "\n",
    "\n",
    "import cv2\n",
    "\n",
    "def max_pooling(img, pool_size):\n",
    "    # Calculate the new dimensions after Max Pooling\n",
    "    new_height = img.shape[0] // pool_size\n",
    "    new_width = img.shape[1] // pool_size\n",
    "\n",
    "    # Apply Max Pooling using cv2.resize with INTER_NEAREST interpolation\n",
    "    max_pooled_img = cv2.resize(img, (new_width, new_height), interpolation=cv2.INTER_NEAREST)\n",
    "\n",
    "    return max_pooled_img\n",
    "\n",
    "###################################################\n",
    "###################################################\n",
    "###################################################\n",
    "###################################################\n",
    "###################################################\n",
    "###################################################\n",
    "\n",
    "def average_pooling(image, kernel_size):\n",
    "    \"\"\"\n",
    "    Perform average pooling on an image using OpenCV.\n",
    "    \n",
    "    Args:\n",
    "        image (numpy.ndarray): An image.\n",
    "        kernel_size (int): The size of the pooling kernel.\n",
    "        \n",
    "    Returns:\n",
    "        numpy.ndarray: The pooled image.\n",
    "    \"\"\"\n",
    "    return cv2.blur(image, (kernel_size, kernel_size))\n",
    "\n",
    "# Example usage:\n",
    "# Load an image (OpenCV loads images as NumPy arrays)\n",
    "'''image = cv2.imread('path_to_your_image.jpg', cv2.IMREAD_GRAYSCALE)\n",
    "\n",
    "# Perform average pooling on the image\n",
    "pooled_image = average_pooling(image, 13)'''\n",
    "\n",
    "# Save the pooled image\n",
    "# cv2.imwrite('pooled_image.jpg', pooled_image)\n",
    "\n",
    "###################################################\n",
    "###################################################\n",
    "###################################################\n",
    "###################################################\n",
    "###################################################\n",
    "###################################################\n",
    "\n",
    "# 게임 유저들의 동선을 시계열로 수집, 반환\n",
    "def get_champ_movements(matchId):\n",
    "\n",
    "    data = requests.get(f\"https://asia.api.riotgames.com/lol/match/v5/matches/{matchId}/timeline?api_key=RGAPI-1a1d24de-0002-4894-85cc-6deaf6ec560e\").json()\n",
    "\n",
    "    # 해당 경가에서의 Blue 팀 5 ~ 15분까지의 위치 반환\n",
    "    frames = data['info']['frames']\n",
    "    for frame in frames[6:16]:\n",
    "        # 플레이어들 프레임들 (블루 5명, 레드 5명)\n",
    "        p_frames = frame['participantFrames']\n",
    "\n",
    "        for p_frame in p_frames:\n",
    "            print(round(p_frames[p_frame]['position']['x']/16000 , 3), round(p_frames[p_frame]['position']['y']/16000 , 3) )\n",
    "            \n",
    "            \n",
    "\n",
    "    # 해당 경가에서의 Red  팀 5 ~ 15분까지의 위치 반환\n",
    "\n",
    "\n",
    "\n",
    "# label 을 riot api로 호출하는 것이 아닌, 미리 수집한 데이터프레임에서 읽어오는 방식을 채택하여, http error 를 해결.\n",
    "# 이전 부분은 주석처리\n",
    "def get_labels_and_features_from_api(match_id):\n",
    "\n",
    "    def get_label(matchId):\n",
    "        df = pd.read_csv('labels.csv')\n",
    "        return df[df.matchid == matchId]['label']\n",
    "\n",
    "    match_id = match_id.replace('-','_')\n",
    "    '''is_blue_win =  1 if requests.get(f'https://asia.api.riotgames.com/lol/match/v5/matches/{match_id}?api_key={API_KEY}').json()['info']['teams'][0]['win'] == True else 0'''\n",
    "\n",
    "    is_blue_win = get_label(match_id)\n",
    "\n",
    "    label = is_blue_win\n",
    "    \n",
    "    # features = getMatchData(match_id)\n",
    "    return label #, features \n",
    "\n",
    "def load_image_pair(blue_path):\n",
    "    img = tf.io.read_file(blue_path)\n",
    "    img = tf.image.decode_image(img, channels=1, dtype=tf.float32, expand_animations=False)\n",
    "    img = tf.image.resize(img, [840, 840]).numpy().astype(np.float64)\n",
    "\n",
    "\n",
    "    img = img[90:740, 90:740]           # (650,650)\n",
    "    img = max_pooling(img,13)           # (50,50)\n",
    "    # img = average_pooling(img , 13)\n",
    "\n",
    "    img = ( img - 127 )/ 128.0  # Normalize the blue image\n",
    "    # plt.imshow(img)\n",
    "    img = tf.expand_dims(img, axis=0)  # Add batch dimension\n",
    "    \n",
    "    return img\n",
    "\n",
    "def extract_number_from_filename(filename):\n",
    "    # Extract numbers from the filename\n",
    "    number = int(\"\".join(filter(str.isdigit, filename)))\n",
    "    return number\n",
    "\n",
    "\n",
    "import os\n",
    "import numpy as np\n",
    "from tensorflow.keras.utils import Sequence\n",
    "\n",
    "class CustomDataGenerator(Sequence):\n",
    "    def __init__(self, tier, match_ids, other_folder='Other', n_frames=379, batch_size=1):\n",
    "        self.tier = tier\n",
    "        self.match_ids = match_ids\n",
    "        self.other_folder = other_folder\n",
    "        self.n_frames = n_frames\n",
    "        self.batch_size = batch_size\n",
    "\n",
    "    def __len__(self):\n",
    "        return len(self.match_ids)\n",
    "\n",
    "    def __getitem__(self, index):\n",
    "        match_id = self.match_ids[index]\n",
    "        other_dir = os.path.join(self.tier, match_id, self.other_folder, 'black')\n",
    "        other_image_paths = sorted([os.path.join(other_dir, img) for img in os.listdir(other_dir)], key=extract_number_from_filename)\n",
    "\n",
    "        images = []\n",
    "        for path in other_image_paths[:self.n_frames]:\n",
    "            img = load_image_pair(path)\n",
    "            images.append(img.numpy())\n",
    "\n",
    "        x = np.stack(images, axis=0)  # Stack 10 frames along the time dimension\n",
    "        x = np.expand_dims(x, axis=0)  # Add batch dimension\n",
    "        x = np.squeeze(x, axis=2)  # Remove the unnecessary dimension\n",
    "\n",
    "        label = get_labels_and_features_from_api(match_id)\n",
    "        y = np.array([label])\n",
    "\n",
    "        # print(\"X shape:\", x.shape, \"y shape:\", y.shape)  # Add this line to print shapes\n",
    "\n",
    "        return x, y\n",
    "\n",
    "\n",
    "tier = 'C:\\dataset_final\\CHALLENGER_S'\n",
    "match_ids = [filename for filename in os.listdir(tier)]   # ['match_id_1', 'match_id_2', 'match_id_3']  List your match_ids\n",
    "\n",
    "from sklearn.model_selection import train_test_split\n",
    "# Split the match_ids into train and validation sets (80% train, 20% validation)\n",
    "train_match_ids, valid_match_ids = train_test_split(match_ids, test_size=0.2, random_state=42 , shuffle=True)\n",
    "\n",
    "train_generator = CustomDataGenerator(tier, train_match_ids)\n",
    "valid_generator = CustomDataGenerator(tier, valid_match_ids)\n",
    "\n",
    "\n",
    "'''\n",
    "tier = 'C:\\dataset_final\\CHALLENGER_S'\n",
    "match_ids = [filename for filename in os.listdir(tier)]   # ['match_id_1', 'match_id_2', 'match_id_3']  List your match_ids\n",
    "print(len(match_ids))\n",
    "dataset = create_dataset(tier, match_ids)'''\n",
    "\n"
   ]
  },
  {
   "cell_type": "code",
   "execution_count": null,
   "metadata": {},
   "outputs": [
    {
     "data": {
      "text/plain": [
       "<matplotlib.image.AxesImage at 0x22d8a4d2040>"
      ]
     },
     "execution_count": 30,
     "metadata": {},
     "output_type": "execute_result"
    },
    {
     "data": {
      "image/png": "[encoded data removed]",
      "text/plain": [
       "<Figure size 640x480 with 1 Axes>"
      ]
     },
     "metadata": {},
     "output_type": "display_data"
    }
   ],
   "source": [
    "import matplotlib.pyplot as plt\n",
    "\n",
    "image_path = r'C:\\dataset_final\\CHALLENGER_S\\KR-6416300268\\Other\\black\\1.png'\n",
    "img = tf.io.read_file(image_path)\n",
    "img = tf.image.decode_image(img, channels=1, dtype=tf.float32, expand_animations=False)\n",
    "img = tf.image.resize(img, [840, 840]).numpy().astype(np.float64)\n",
    "\n",
    "img = average_pooling(img, 13)\n",
    "\n",
    "\n",
    "plt.imshow(img)"
   ]
  },
  {
   "cell_type": "code",
   "execution_count": null,
   "metadata": {},
   "outputs": [],
   "source": [
    "import cv2\n",
    "\n",
    "def max_pooling(img, pool_size):\n",
    "    # Calculate the new dimensions after Max Pooling\n",
    "    new_height = img.shape[0] // pool_size\n",
    "    new_width = img.shape[1] // pool_size\n",
    "\n",
    "    # Apply Max Pooling using cv2.resize with INTER_NEAREST interpolation\n",
    "    max_pooled_img = cv2.resize(img, (new_width, new_height), interpolation=cv2.INTER_NEAREST)\n",
    "\n",
    "    return max_pooled_img\n",
    "\n",
    "# Read the image\n",
    "image_path = r'C:\\dataset_final\\CHALLENGER_S\\KR-6416300268\\Other\\black\\1.png'\n",
    "image = cv2.imread(image_path)[90:740, 90:740]\n",
    "\n",
    "# Max Pool the image\n",
    "pool_size = 13\n",
    "max_pooled_image = max_pooling(image, pool_size)\n",
    "\n",
    "# Display the original and max pooled images\n",
    "cv2.imshow('Original Image', image)\n",
    "cv2.imshow('Max Pooled Image', max_pooled_image)\n",
    "\n",
    "# Wait for a key press and close the windows\n",
    "cv2.waitKey(0)\n",
    "cv2.destroyAllWindows()\n"
   ]
  },
  {
   "cell_type": "code",
   "execution_count": null,
   "metadata": {},
   "outputs": [
    {
     "name": "stdout",
     "output_type": "stream",
     "text": [
      "KerasTensor(type_spec=TensorSpec(shape=(None, 1), dtype=tf.float32, name=None), name='dense_13/Sigmoid:0', description=\"created by layer 'dense_13'\")\n"
     ]
    }
   ],
   "source": [
    "import tensorflow as tf\n",
    "from tensorflow.keras import Model, Input\n",
    "from tensorflow.keras.layers import (Dense, Concatenate, ConvLSTM2D, AveragePooling2D, AveragePooling3D, Flatten,\n",
    "                                     Conv3D, MaxPooling3D, LSTM, BatchNormalization , GlobalAveragePooling2D, Dropout)\n",
    "from keras.layers import TimeDistributed\n",
    "\n",
    "# num_features=6, time_steps=10\n",
    "def build_combined_model(input_shape=(379, 50, 50, 1)):\n",
    "    # Define the first model (ConvLSTM2D)\n",
    "    img_input = Input(shape=input_shape)\n",
    "    \n",
    "    '''x = MaxPooling3D(pool_size=(1, 4, 4), padding='same')(img_input)\n",
    "    x = AveragePooling3D(pool_size=(1, 3, 3), padding='same')(x)\n",
    "    '''\n",
    "    # Add Conv3D and MaxPooling3D layers near the input\n",
    "    '''x = Conv3D(filters=1024, kernel_size=(1, 3, 3),padding='same', activation='relu', input_shape=input_shape)(img_input)\n",
    "    x = BatchNormalization()(x)\n",
    "    x = MaxPooling3D(pool_size=(1, 2, 2), padding='same')(x)'''\n",
    "\n",
    "    x = Conv3D(filters=3, kernel_size=(1, 3, 3),padding='same', activation='relu', input_shape=input_shape)(img_input)\n",
    "    x = MaxPooling3D(pool_size=(1, 2, 2), padding='same')(x)\n",
    "    x = BatchNormalization()(x)\n",
    "\n",
    "    x = ConvLSTM2D(filters=3, kernel_size=(3, 3), padding='same', activation='linear', return_sequences=True)(x)\n",
    "    x = AveragePooling3D(pool_size=(1, 2, 2), padding='same')(x)\n",
    "    x = BatchNormalization()(x)\n",
    "\n",
    "    x = ConvLSTM2D(filters=3, kernel_size=(3, 3), padding='same', activation='linear', return_sequences=True)(x)\n",
    "    x = AveragePooling3D(pool_size=(1, 2, 2), padding='same')(x)\n",
    "    x = BatchNormalization()(x)\n",
    "    \n",
    "    x = ConvLSTM2D(filters=3, kernel_size=(3, 3), padding='same', activation='linear', return_sequences=False)(x)\n",
    "    x = AveragePooling2D(pool_size=(2, 2), padding='same')(x)\n",
    "    x = BatchNormalization()(x)\n",
    "\n",
    "    #x = GlobalAveragePooling2D()(x)\n",
    "\n",
    "    x = Flatten()(x)\n",
    "\n",
    "    x= Dense(90, activation='relu')(x)\n",
    "    x = BatchNormalization()(x)\n",
    "\n",
    "    x = Dropout(0.5)(x)\n",
    "\n",
    "    # Output layer for binary classification\n",
    "    output = Dense(1, activation='sigmoid')(x)\n",
    "\n",
    "    print(output)\n",
    "    # Create the combined model\n",
    "    model = Model(inputs=img_input, outputs=output)\n",
    "\n",
    "\n",
    "    return model\n",
    "\n",
    "\n",
    "# Build the combined model\n",
    "model = build_combined_model()\n",
    "\n"
   ]
  },
  {
   "cell_type": "code",
   "execution_count": null,
   "metadata": {},
   "outputs": [
    {
     "name": "stdout",
     "output_type": "stream",
     "text": [
      "Model: \"model_4\"\n",
      "__________________________________________________________________________________________________\n",
      " Layer (type)                   Output Shape         Param #     Connected to                     \n",
      "==================================================================================================\n",
      " input_7 (InputLayer)           [(None, 379, 50, 50  0           []                               \n",
      "                                , 1)]                                                             \n",
      "                                                                                                  \n",
      " conv_lstm2d_13 (ConvLSTM2D)    (None, 379, 50, 50,  1184        ['input_7[0][0]']                \n",
      "                                 8)                                                               \n",
      "                                                                                                  \n",
      " max_pooling3d_12 (MaxPooling3D  (None, 379, 10, 10,  0          ['conv_lstm2d_13[0][0]']         \n",
      " )                               8)                                                               \n",
      "                                                                                                  \n",
      " batch_normalization_11 (BatchN  (None, 379, 10, 10,  32         ['max_pooling3d_12[0][0]']       \n",
      " ormalization)                   8)                                                               \n",
      "                                                                                                  \n",
      " conv_lstm2d_14 (ConvLSTM2D)    (None, 379, 10, 10,  6208        ['batch_normalization_11[0][0]'] \n",
      "                                 16)                                                              \n",
      "                                                                                                  \n",
      " max_pooling3d_13 (MaxPooling3D  (None, 379, 4, 4, 1  0          ['conv_lstm2d_14[0][0]']         \n",
      " )                              6)                                                                \n",
      "                                                                                                  \n",
      " batch_normalization_12 (BatchN  (None, 379, 4, 4, 1  64         ['max_pooling3d_13[0][0]']       \n",
      " ormalization)                  6)                                                                \n",
      "                                                                                                  \n",
      " conv_lstm2d_15 (ConvLSTM2D)    (None, 379, 4, 4, 3  55424       ['batch_normalization_12[0][0]'] \n",
      "                                2)                                                                \n",
      "                                                                                                  \n",
      " max_pooling3d_14 (MaxPooling3D  (None, 379, 2, 2, 3  0          ['conv_lstm2d_15[0][0]']         \n",
      " )                              2)                                                                \n",
      "                                                                                                  \n",
      " batch_normalization_13 (BatchN  (None, 379, 2, 2, 3  128        ['max_pooling3d_14[0][0]']       \n",
      " ormalization)                  2)                                                                \n",
      "                                                                                                  \n",
      " time_distributed_4 (TimeDistri  (None, 379, 128)    0           ['batch_normalization_13[0][0]'] \n",
      " buted)                                                                                           \n",
      "                                                                                                  \n",
      " additive_attention_4 (Additive  (None, 379, 128)    128         ['time_distributed_4[0][0]',     \n",
      " Attention)                                                       'time_distributed_4[0][0]']     \n",
      "                                                                                                  \n",
      " flatten_9 (Flatten)            (None, 48512)        0           ['additive_attention_4[0][0]']   \n",
      "                                                                                                  \n",
      " dense_5 (Dense)                (None, 1024)         49677312    ['flatten_9[0][0]']              \n",
      "                                                                                                  \n",
      " dense_6 (Dense)                (None, 1)            1025        ['dense_5[0][0]']                \n",
      "                                                                                                  \n",
      "==================================================================================================\n",
      "Total params: 49,741,505\n",
      "Trainable params: 49,741,393\n",
      "Non-trainable params: 112\n",
      "__________________________________________________________________________________________________\n"
     ]
    }
   ],
   "source": [
    "import tensorflow as tf\n",
    "from tensorflow.keras.models import Model\n",
    "from tensorflow.keras.layers import Input, ConvLSTM2D, Dense, Flatten, TimeDistributed, AdditiveAttention, Reshape, MaxPooling3D, BatchNormalization\n",
    "from tensorflow.keras.optimizers import Adam\n",
    "\n",
    "# Input shape: (batch, time, rows, cols, channels)\n",
    "input_layer = Input(shape=(379,50,50,1))\n",
    "\n",
    "# Adding a ConvLSTM layer\n",
    "x = ConvLSTM2D(filters=8, kernel_size=(2,2), padding='same', return_sequences=True)(input_layer)\n",
    "x = MaxPooling3D(pool_size=(1, 5, 5), padding='same')(x)\n",
    "x = BatchNormalization()(x)\n",
    "\n",
    "# Adding a ConvLSTM layer\n",
    "x = ConvLSTM2D(filters=16, kernel_size=(2,2), padding='same', return_sequences=True)(x)\n",
    "x = MaxPooling3D(pool_size=(1, 3, 3), padding='same')(x)\n",
    "x = BatchNormalization()(x)\n",
    "\n",
    "# Adding a ConvLSTM layer\n",
    "x = ConvLSTM2D(filters=32, kernel_size=(3,3), padding='same', return_sequences=True)(x)\n",
    "x = MaxPooling3D(pool_size=(1, 2, 2), padding='same')(x)\n",
    "x = BatchNormalization()(x)\n",
    "\n",
    "\n",
    "# Adding a TimeDistributed layer to apply a same Dense layer to the each temporal slice of an input\n",
    "timedistributed_layer = TimeDistributed(Flatten())(x)\n",
    "\n",
    "# Adding an attention layer\n",
    "attention_layer = AdditiveAttention()([timedistributed_layer, timedistributed_layer])\n",
    "\n",
    "# Flatten before passing to the final Dense layer\n",
    "flatten_layer = Flatten()(attention_layer)\n",
    "\n",
    "# Dense layer \n",
    "dense_layer = Dense(1024, activation='relu')(flatten_layer)\n",
    "\n",
    "# Output layer\n",
    "output_layer = Dense(1, activation='sigmoid')(dense_layer)\n",
    "\n",
    "# Create a model\n",
    "model = Model(inputs=input_layer, outputs=output_layer)\n",
    "\n",
    "# Compile the model\n",
    "# model.compile(loss='binary_crossentropy', optimizer=Adam(), metrics=['accuracy'])\n",
    "\n",
    "# Model summary\n",
    "model.summary()\n"
   ]
  },
  {
   "cell_type": "code",
   "execution_count": null,
   "metadata": {},
   "outputs": [
    {
     "name": "stderr",
     "output_type": "stream",
     "text": [
      "\u001b[34m\u001b[1mwandb\u001b[0m: \u001b[33mWARNING\u001b[0m Calling wandb.login() after wandb.init() has no effect.\n"
     ]
    },
    {
     "name": "stdout",
     "output_type": "stream",
     "text": [
      "env: WANDB_API_KEY=43c7c9707887ea6277ac1ff15c5e47f45a42c1ac\n"
     ]
    },
    {
     "data": {
      "text/plain": [
       "True"
      ]
     },
     "execution_count": 12,
     "metadata": {},
     "output_type": "execute_result"
    }
   ],
   "source": [
    "import wandb\n",
    "import tensorflow as tf\n",
    "\n",
    "%env WANDB_API_KEY=43c7c9707887ea6277ac1ff15c5e47f45a42c1ac\n",
    "\n",
    "from wandb.keras import WandbCallback\n",
    "wandb.login()"
   ]
  },
  {
   "cell_type": "code",
   "execution_count": null,
   "metadata": {},
   "outputs": [
    {
     "data": {
      "text/html": [
       "Finishing last run (ID:flk4wpie) before initializing another..."
      ],
      "text/plain": [
       "<IPython.core.display.HTML object>"
      ]
     },
     "metadata": {},
     "output_type": "display_data"
    },
    {
     "data": {
      "text/html": [
       "Waiting for W&B process to finish... <strong style=\"color:green\">(success).</strong>"
      ],
      "text/plain": [
       "<IPython.core.display.HTML object>"
      ]
     },
     "metadata": {},
     "output_type": "display_data"
    },
    {
     "data": {
      "text/html": [
       "<style>\n",
       "    table.wandb td:nth-child(1) { padding: 0 10px; text-align: left ; width: auto;} td:nth-child(2) {text-align: left ; width: 100%}\n",
       "    .wandb-row { display: flex; flex-direction: row; flex-wrap: wrap; justify-content: flex-start; width: 100% }\n",
       "    .wandb-col { display: flex; flex-direction: column; flex-basis: 100%; flex: 1; padding: 10px; }\n",
       "    </style>\n",
       "<div class=\"wandb-row\"><div class=\"wandb-col\"><h3>Run history:</h3><br/><table class=\"wandb\"><tr><td>batch/accuracy</td><td>▆▅▄▄▄▃▃▃▃▁▄▃▄▄▃▃▃▃█▅▅▄▄▅▄▄▄▂▃▄▄▄▄▄▄▄▇▅▄▄</td></tr><tr><td>batch/batch_step</td><td>▁▁▁▂▂▂▂▂▂▃▃▃▃▃▃▄▄▄▄▄▅▅▅▅▅▅▆▆▆▆▆▇▇▇▇▇▇███</td></tr><tr><td>batch/learning_rate</td><td>▁▁▁▁▁▁▁▁▁▁▁▁▁▁▁▁▁▁▁▁▁▁▁▁▁▁▁▁▁▁▁▁▁▁▁▁▁▁▁▁</td></tr><tr><td>batch/loss</td><td>█▅▅▄▄▄▄▄▃▂▂▃▂▃▂▂▂▂▁▁▁▁▁▁▁▁▁▁▁▁▁▁▁▁▂▂▂▃▃▂</td></tr><tr><td>epoch/accuracy</td><td>▁▁█▄</td></tr><tr><td>epoch/epoch</td><td>▁▃▆█</td></tr><tr><td>epoch/learning_rate</td><td>▁▁▁▁</td></tr><tr><td>epoch/loss</td><td>█▄▁▃</td></tr><tr><td>epoch/val_accuracy</td><td>▁▁█▁</td></tr><tr><td>epoch/val_loss</td><td>▁▂▁█</td></tr></table><br/></div><div class=\"wandb-col\"><h3>Run summary:</h3><br/><table class=\"wandb\"><tr><td>batch/accuracy</td><td>0.5</td></tr><tr><td>batch/batch_step</td><td>3135</td></tr><tr><td>batch/learning_rate</td><td>0.0001</td></tr><tr><td>batch/loss</td><td>2.50993</td></tr><tr><td>epoch/accuracy</td><td>0.50769</td></tr><tr><td>epoch/epoch</td><td>3</td></tr><tr><td>epoch/learning_rate</td><td>0.0001</td></tr><tr><td>epoch/loss</td><td>2.08097</td></tr><tr><td>epoch/val_accuracy</td><td>0.49162</td></tr><tr><td>epoch/val_loss</td><td>6.18687</td></tr></table><br/></div></div>"
      ],
      "text/plain": [
       "<IPython.core.display.HTML object>"
      ]
     },
     "metadata": {},
     "output_type": "display_data"
    },
    {
     "data": {
      "text/html": [
       " View run <strong style=\"color:#cdcd00\">earnest-music-51</strong> at: <a href='https://wandb.ai/pypyp/AlphaLoL/runs/flk4wpie' target=\"_blank\">https://wandb.ai/pypyp/AlphaLoL/runs/flk4wpie</a><br/>Synced 5 W&B file(s), 0 media file(s), 16 artifact file(s) and 0 other file(s)"
      ],
      "text/plain": [
       "<IPython.core.display.HTML object>"
      ]
     },
     "metadata": {},
     "output_type": "display_data"
    },
    {
     "data": {
      "text/html": [
       "Find logs at: <code>.\\wandb\\run-20230515_173043-flk4wpie\\logs</code>"
      ],
      "text/plain": [
       "<IPython.core.display.HTML object>"
      ]
     },
     "metadata": {},
     "output_type": "display_data"
    },
    {
     "data": {
      "text/html": [
       "Successfully finished last run (ID:flk4wpie). Initializing new run:<br/>"
      ],
      "text/plain": [
       "<IPython.core.display.HTML object>"
      ]
     },
     "metadata": {},
     "output_type": "display_data"
    },
    {
     "data": {
      "text/html": [
       "wandb version 0.15.2 is available!  To upgrade, please run:\n",
       " $ pip install wandb --upgrade"
      ],
      "text/plain": [
       "<IPython.core.display.HTML object>"
      ]
     },
     "metadata": {},
     "output_type": "display_data"
    },
    {
     "data": {
      "text/html": [
       "Tracking run with wandb version 0.15.1"
      ],
      "text/plain": [
       "<IPython.core.display.HTML object>"
      ]
     },
     "metadata": {},
     "output_type": "display_data"
    },
    {
     "data": {
      "text/html": [
       "Run data is saved locally in <code>c:\\Users\\김성윤\\Desktop\\pyLoL\\wandb\\run-20230515_210010-3xsffwq5</code>"
      ],
      "text/plain": [
       "<IPython.core.display.HTML object>"
      ]
     },
     "metadata": {},
     "output_type": "display_data"
    },
    {
     "data": {
      "text/html": [
       "Syncing run <strong><a href='https://wandb.ai/pypyp/AlphaLoL/runs/3xsffwq5' target=\"_blank\">absurd-frost-52</a></strong> to <a href='https://wandb.ai/pypyp/AlphaLoL' target=\"_blank\">Weights & Biases</a> (<a href='https://wandb.me/run' target=\"_blank\">docs</a>)<br/>"
      ],
      "text/plain": [
       "<IPython.core.display.HTML object>"
      ]
     },
     "metadata": {},
     "output_type": "display_data"
    },
    {
     "data": {
      "text/html": [
       " View project at <a href='https://wandb.ai/pypyp/AlphaLoL' target=\"_blank\">https://wandb.ai/pypyp/AlphaLoL</a>"
      ],
      "text/plain": [
       "<IPython.core.display.HTML object>"
      ]
     },
     "metadata": {},
     "output_type": "display_data"
    },
    {
     "data": {
      "text/html": [
       " View run at <a href='https://wandb.ai/pypyp/AlphaLoL/runs/3xsffwq5' target=\"_blank\">https://wandb.ai/pypyp/AlphaLoL/runs/3xsffwq5</a>"
      ],
      "text/plain": [
       "<IPython.core.display.HTML object>"
      ]
     },
     "metadata": {},
     "output_type": "display_data"
    }
   ],
   "source": [
    "import wandb\n",
    "from wandb.keras import WandbMetricsLogger, WandbModelCheckpoint\n",
    "\n",
    "import random\n",
    "import numpy as np\n",
    "import tensorflow as tf\n",
    "\n",
    "\n",
    "wandb.init(\n",
    "    # set the wandb project where this run will be logged\n",
    "    project=\"AlphaLoL\",\n",
    "\n",
    "    # track hyperparameters and run metadata with wandb.config\n",
    "    config={\n",
    "        #\"layer_1\": 512,\n",
    "        #\"activation_1\": \"relu\",\n",
    "        #\"dropout\": random.uniform(0.01, 0.80),\n",
    "        #\"layer_2\": 10,\n",
    "        #\"activation_2\": \"softmax\",\n",
    "        \"optimizer\": \"Adam\",\n",
    "        \"loss\": \"binary_crossentropy\",\n",
    "        \"metric\": \"accuracy\",\n",
    "        \"epoch\": 20,\n",
    "        \"batch_size\": 4\n",
    "    }\n",
    ")\n",
    "\n",
    "# [optional] use wandb.config as your config\n",
    "config = wandb.config\n",
    "optimizer = tf.keras.optimizers.Adam(learning_rate=0.0001)\n",
    "# Compile the model with a binary classification loss function and metric\n",
    "# combined_model.compile(optimizer=optimizer , loss='binary_crossentropy', metrics=['accuracy'])\n",
    "model.compile(optimizer=optimizer , loss='binary_crossentropy', metrics=['accuracy'])"
   ]
  },
  {
   "cell_type": "code",
   "execution_count": null,
   "metadata": {},
   "outputs": [
    {
     "name": "stdout",
     "output_type": "stream",
     "text": [
      "Epoch 1/60\n",
      "715/715 [==============================] - ETA: 0s - loss: 1.7895 - accuracy: 0.5357INFO:tensorflow:Assets written to: models\\assets\n"
     ]
    },
    {
     "name": "stderr",
     "output_type": "stream",
     "text": [
      "INFO:tensorflow:Assets written to: models\\assets\n",
      "\u001b[34m\u001b[1mwandb\u001b[0m: Adding directory to artifact (.\\models)... Done. 0.8s\n"
     ]
    },
    {
     "name": "stdout",
     "output_type": "stream",
     "text": [
      "715/715 [==============================] - 4012s 6s/step - loss: 1.7895 - accuracy: 0.5357 - val_loss: 3.4238 - val_accuracy: 0.5084\n",
      "Epoch 2/60\n",
      "715/715 [==============================] - ETA: 0s - loss: 1.0641 - accuracy: 0.5203INFO:tensorflow:Assets written to: models\\assets\n"
     ]
    },
    {
     "name": "stderr",
     "output_type": "stream",
     "text": [
      "INFO:tensorflow:Assets written to: models\\assets\n",
      "\u001b[34m\u001b[1mwandb\u001b[0m: Adding directory to artifact (.\\models)... Done. 0.8s\n"
     ]
    },
    {
     "name": "stdout",
     "output_type": "stream",
     "text": [
      "715/715 [==============================] - 4169s 6s/step - loss: 1.0641 - accuracy: 0.5203 - val_loss: 0.7843 - val_accuracy: 0.5084\n",
      "Epoch 3/60\n",
      "715/715 [==============================] - ETA: 0s - loss: 0.9260 - accuracy: 0.4909INFO:tensorflow:Assets written to: models\\assets\n"
     ]
    },
    {
     "name": "stderr",
     "output_type": "stream",
     "text": [
      "INFO:tensorflow:Assets written to: models\\assets\n",
      "\u001b[34m\u001b[1mwandb\u001b[0m: Adding directory to artifact (.\\models)... Done. 0.8s\n"
     ]
    },
    {
     "name": "stdout",
     "output_type": "stream",
     "text": [
      "715/715 [==============================] - 3912s 5s/step - loss: 0.9260 - accuracy: 0.4909 - val_loss: 0.7057 - val_accuracy: 0.4916\n",
      "Epoch 4/60\n",
      "715/715 [==============================] - ETA: 0s - loss: 0.9903 - accuracy: 0.5175INFO:tensorflow:Assets written to: models\\assets\n"
     ]
    },
    {
     "name": "stderr",
     "output_type": "stream",
     "text": [
      "INFO:tensorflow:Assets written to: models\\assets\n",
      "\u001b[34m\u001b[1mwandb\u001b[0m: Adding directory to artifact (.\\models)... Done. 0.8s\n"
     ]
    },
    {
     "name": "stdout",
     "output_type": "stream",
     "text": [
      "715/715 [==============================] - 3922s 5s/step - loss: 0.9903 - accuracy: 0.5175 - val_loss: 0.7188 - val_accuracy: 0.5084\n",
      "Epoch 5/60\n",
      "715/715 [==============================] - ETA: 0s - loss: 0.7603 - accuracy: 0.5105INFO:tensorflow:Assets written to: models\\assets\n"
     ]
    },
    {
     "name": "stderr",
     "output_type": "stream",
     "text": [
      "INFO:tensorflow:Assets written to: models\\assets\n",
      "\u001b[34m\u001b[1mwandb\u001b[0m: Adding directory to artifact (.\\models)... Done. 0.9s\n"
     ]
    },
    {
     "name": "stdout",
     "output_type": "stream",
     "text": [
      "715/715 [==============================] - 3937s 6s/step - loss: 0.7603 - accuracy: 0.5105 - val_loss: 0.7288 - val_accuracy: 0.5084\n",
      "Epoch 6/60\n",
      "715/715 [==============================] - ETA: 0s - loss: 0.8294 - accuracy: 0.4895INFO:tensorflow:Assets written to: models\\assets\n"
     ]
    },
    {
     "name": "stderr",
     "output_type": "stream",
     "text": [
      "INFO:tensorflow:Assets written to: models\\assets\n",
      "\u001b[34m\u001b[1mwandb\u001b[0m: Adding directory to artifact (.\\models)... Done. 0.8s\n"
     ]
    },
    {
     "name": "stdout",
     "output_type": "stream",
     "text": [
      "715/715 [==============================] - 3941s 6s/step - loss: 0.8294 - accuracy: 0.4895 - val_loss: 1.4300 - val_accuracy: 0.4916\n",
      "Epoch 7/60\n",
      "715/715 [==============================] - ETA: 0s - loss: 0.8098 - accuracy: 0.5049INFO:tensorflow:Assets written to: models\\assets\n"
     ]
    },
    {
     "name": "stderr",
     "output_type": "stream",
     "text": [
      "INFO:tensorflow:Assets written to: models\\assets\n",
      "\u001b[34m\u001b[1mwandb\u001b[0m: Adding directory to artifact (.\\models)... Done. 0.8s\n"
     ]
    },
    {
     "name": "stdout",
     "output_type": "stream",
     "text": [
      "715/715 [==============================] - 3932s 5s/step - loss: 0.8098 - accuracy: 0.5049 - val_loss: 0.6950 - val_accuracy: 0.5084\n",
      "Epoch 8/60\n",
      "715/715 [==============================] - ETA: 0s - loss: 0.7253 - accuracy: 0.4909INFO:tensorflow:Assets written to: models\\assets\n"
     ]
    },
    {
     "name": "stderr",
     "output_type": "stream",
     "text": [
      "INFO:tensorflow:Assets written to: models\\assets\n",
      "\u001b[34m\u001b[1mwandb\u001b[0m: Adding directory to artifact (.\\models)... Done. 0.8s\n"
     ]
    },
    {
     "name": "stdout",
     "output_type": "stream",
     "text": [
      "715/715 [==============================] - 3924s 5s/step - loss: 0.7253 - accuracy: 0.4909 - val_loss: 0.6963 - val_accuracy: 0.4916\n",
      "Epoch 9/60\n",
      "715/715 [==============================] - ETA: 0s - loss: 0.8334 - accuracy: 0.4783INFO:tensorflow:Assets written to: models\\assets\n"
     ]
    },
    {
     "name": "stderr",
     "output_type": "stream",
     "text": [
      "INFO:tensorflow:Assets written to: models\\assets\n",
      "\u001b[34m\u001b[1mwandb\u001b[0m: Adding directory to artifact (.\\models)... Done. 0.9s\n"
     ]
    },
    {
     "name": "stdout",
     "output_type": "stream",
     "text": [
      "715/715 [==============================] - 3918s 5s/step - loss: 0.8334 - accuracy: 0.4783 - val_loss: 0.8912 - val_accuracy: 0.4916\n",
      "Epoch 10/60\n",
      "715/715 [==============================] - ETA: 0s - loss: 0.7662 - accuracy: 0.4979INFO:tensorflow:Assets written to: models\\assets\n"
     ]
    },
    {
     "name": "stderr",
     "output_type": "stream",
     "text": [
      "INFO:tensorflow:Assets written to: models\\assets\n",
      "\u001b[34m\u001b[1mwandb\u001b[0m: Adding directory to artifact (.\\models)... Done. 0.8s\n"
     ]
    },
    {
     "name": "stdout",
     "output_type": "stream",
     "text": [
      "715/715 [==============================] - 3918s 5s/step - loss: 0.7662 - accuracy: 0.4979 - val_loss: 0.6931 - val_accuracy: 0.5084\n",
      "Epoch 11/60\n",
      "715/715 [==============================] - ETA: 0s - loss: 0.7176 - accuracy: 0.4825INFO:tensorflow:Assets written to: models\\assets\n"
     ]
    },
    {
     "name": "stderr",
     "output_type": "stream",
     "text": [
      "INFO:tensorflow:Assets written to: models\\assets\n",
      "\u001b[34m\u001b[1mwandb\u001b[0m: Adding directory to artifact (.\\models)... Done. 0.8s\n"
     ]
    },
    {
     "name": "stdout",
     "output_type": "stream",
     "text": [
      "715/715 [==============================] - 3932s 5s/step - loss: 0.7176 - accuracy: 0.4825 - val_loss: 0.7133 - val_accuracy: 0.5084\n",
      "Epoch 12/60\n",
      "715/715 [==============================] - ETA: 0s - loss: 0.8032 - accuracy: 0.5147INFO:tensorflow:Assets written to: models\\assets\n"
     ]
    },
    {
     "name": "stderr",
     "output_type": "stream",
     "text": [
      "INFO:tensorflow:Assets written to: models\\assets\n",
      "\u001b[34m\u001b[1mwandb\u001b[0m: Adding directory to artifact (.\\models)... Done. 0.8s\n"
     ]
    },
    {
     "name": "stdout",
     "output_type": "stream",
     "text": [
      "715/715 [==============================] - 3910s 5s/step - loss: 0.8032 - accuracy: 0.5147 - val_loss: 0.7871 - val_accuracy: 0.5084\n",
      "Epoch 13/60\n",
      "715/715 [==============================] - ETA: 0s - loss: 0.7044 - accuracy: 0.5105INFO:tensorflow:Assets written to: models\\assets\n"
     ]
    },
    {
     "name": "stderr",
     "output_type": "stream",
     "text": [
      "INFO:tensorflow:Assets written to: models\\assets\n",
      "\u001b[34m\u001b[1mwandb\u001b[0m: Adding directory to artifact (.\\models)... Done. 0.8s\n"
     ]
    },
    {
     "name": "stdout",
     "output_type": "stream",
     "text": [
      "715/715 [==============================] - 3929s 5s/step - loss: 0.7044 - accuracy: 0.5105 - val_loss: 0.7251 - val_accuracy: 0.4916\n",
      "Epoch 14/60\n",
      "715/715 [==============================] - ETA: 0s - loss: 0.8117 - accuracy: 0.4965INFO:tensorflow:Assets written to: models\\assets\n"
     ]
    },
    {
     "name": "stderr",
     "output_type": "stream",
     "text": [
      "INFO:tensorflow:Assets written to: models\\assets\n",
      "\u001b[34m\u001b[1mwandb\u001b[0m: Adding directory to artifact (.\\models)... Done. 1.2s\n"
     ]
    },
    {
     "name": "stdout",
     "output_type": "stream",
     "text": [
      "715/715 [==============================] - 5921s 8s/step - loss: 0.8117 - accuracy: 0.4965 - val_loss: 0.6945 - val_accuracy: 0.5084\n",
      "Epoch 15/60\n",
      "715/715 [==============================] - ETA: 0s - loss: 0.7044 - accuracy: 0.5371INFO:tensorflow:Assets written to: models\\assets\n"
     ]
    },
    {
     "name": "stderr",
     "output_type": "stream",
     "text": [
      "INFO:tensorflow:Assets written to: models\\assets\n",
      "\u001b[34m\u001b[1mwandb\u001b[0m: Adding directory to artifact (.\\models)... Done. 1.2s\n"
     ]
    },
    {
     "name": "stdout",
     "output_type": "stream",
     "text": [
      "715/715 [==============================] - 6268s 9s/step - loss: 0.7044 - accuracy: 0.5371 - val_loss: 0.7186 - val_accuracy: 0.5084\n",
      "Epoch 16/60\n",
      "514/715 [====================>.........] - ETA: 24:13 - loss: 0.7052 - accuracy: 0.4767"
     ]
    },
    {
     "ename": "KeyboardInterrupt",
     "evalue": "",
     "output_type": "error",
     "traceback": [
      "\u001b[1;31m---------------------------------------------------------------------------\u001b[0m",
      "\u001b[1;31mKeyboardInterrupt\u001b[0m                         Traceback (most recent call last)",
      "Cell \u001b[1;32mIn[14], line 3\u001b[0m\n\u001b[0;32m      1\u001b[0m \u001b[39m# Train the model using the data generator\u001b[39;00m\n\u001b[0;32m      2\u001b[0m epochs \u001b[39m=\u001b[39m \u001b[39m60\u001b[39m   \u001b[39m# Number of epochs, modify this according to your problem\u001b[39;00m\n\u001b[1;32m----> 3\u001b[0m model\u001b[39m.\u001b[39;49mfit(train_generator, epochs\u001b[39m=\u001b[39;49mepochs, validation_data\u001b[39m=\u001b[39;49mvalid_generator , batch_size\u001b[39m=\u001b[39;49m \u001b[39m4\u001b[39;49m ,\n\u001b[0;32m      4\u001b[0m                     callbacks\u001b[39m=\u001b[39;49m[\n\u001b[0;32m      5\u001b[0m                       WandbMetricsLogger(log_freq\u001b[39m=\u001b[39;49m\u001b[39m1\u001b[39;49m),\n\u001b[0;32m      6\u001b[0m                       WandbModelCheckpoint(\u001b[39m\"\u001b[39;49m\u001b[39mmodels\u001b[39;49m\u001b[39m\"\u001b[39;49m)\n\u001b[0;32m      7\u001b[0m                     ])\n",
      "File \u001b[1;32m~\\AppData\\Roaming\\Python\\Python39\\site-packages\\wandb\\integration\\keras\\keras.py:174\u001b[0m, in \u001b[0;36mpatch_tf_keras.<locals>.new_v2\u001b[1;34m(*args, **kwargs)\u001b[0m\n\u001b[0;32m    172\u001b[0m     \u001b[39mfor\u001b[39;00m cbk \u001b[39min\u001b[39;00m cbks:\n\u001b[0;32m    173\u001b[0m         set_wandb_attrs(cbk, val_data)\n\u001b[1;32m--> 174\u001b[0m \u001b[39mreturn\u001b[39;00m old_v2(\u001b[39m*\u001b[39margs, \u001b[39m*\u001b[39m\u001b[39m*\u001b[39mkwargs)\n",
      "File \u001b[1;32m~\\AppData\\Roaming\\Python\\Python39\\site-packages\\wandb\\integration\\keras\\keras.py:174\u001b[0m, in \u001b[0;36mpatch_tf_keras.<locals>.new_v2\u001b[1;34m(*args, **kwargs)\u001b[0m\n\u001b[0;32m    172\u001b[0m     \u001b[39mfor\u001b[39;00m cbk \u001b[39min\u001b[39;00m cbks:\n\u001b[0;32m    173\u001b[0m         set_wandb_attrs(cbk, val_data)\n\u001b[1;32m--> 174\u001b[0m \u001b[39mreturn\u001b[39;00m old_v2(\u001b[39m*\u001b[39margs, \u001b[39m*\u001b[39m\u001b[39m*\u001b[39mkwargs)\n",
      "File \u001b[1;32m~\\AppData\\Roaming\\Python\\Python39\\site-packages\\wandb\\integration\\keras\\keras.py:174\u001b[0m, in \u001b[0;36mpatch_tf_keras.<locals>.new_v2\u001b[1;34m(*args, **kwargs)\u001b[0m\n\u001b[0;32m    172\u001b[0m     \u001b[39mfor\u001b[39;00m cbk \u001b[39min\u001b[39;00m cbks:\n\u001b[0;32m    173\u001b[0m         set_wandb_attrs(cbk, val_data)\n\u001b[1;32m--> 174\u001b[0m \u001b[39mreturn\u001b[39;00m old_v2(\u001b[39m*\u001b[39margs, \u001b[39m*\u001b[39m\u001b[39m*\u001b[39mkwargs)\n",
      "File \u001b[1;32m~\\AppData\\Roaming\\Python\\Python39\\site-packages\\keras\\utils\\traceback_utils.py:65\u001b[0m, in \u001b[0;36mfilter_traceback.<locals>.error_handler\u001b[1;34m(*args, **kwargs)\u001b[0m\n\u001b[0;32m     63\u001b[0m filtered_tb \u001b[39m=\u001b[39m \u001b[39mNone\u001b[39;00m\n\u001b[0;32m     64\u001b[0m \u001b[39mtry\u001b[39;00m:\n\u001b[1;32m---> 65\u001b[0m     \u001b[39mreturn\u001b[39;00m fn(\u001b[39m*\u001b[39margs, \u001b[39m*\u001b[39m\u001b[39m*\u001b[39mkwargs)\n\u001b[0;32m     66\u001b[0m \u001b[39mexcept\u001b[39;00m \u001b[39mException\u001b[39;00m \u001b[39mas\u001b[39;00m e:\n\u001b[0;32m     67\u001b[0m     filtered_tb \u001b[39m=\u001b[39m _process_traceback_frames(e\u001b[39m.\u001b[39m__traceback__)\n",
      "File \u001b[1;32m~\\AppData\\Roaming\\Python\\Python39\\site-packages\\keras\\engine\\training.py:1564\u001b[0m, in \u001b[0;36mModel.fit\u001b[1;34m(self, x, y, batch_size, epochs, verbose, callbacks, validation_split, validation_data, shuffle, class_weight, sample_weight, initial_epoch, steps_per_epoch, validation_steps, validation_batch_size, validation_freq, max_queue_size, workers, use_multiprocessing)\u001b[0m\n\u001b[0;32m   1556\u001b[0m \u001b[39mwith\u001b[39;00m tf\u001b[39m.\u001b[39mprofiler\u001b[39m.\u001b[39mexperimental\u001b[39m.\u001b[39mTrace(\n\u001b[0;32m   1557\u001b[0m     \u001b[39m\"\u001b[39m\u001b[39mtrain\u001b[39m\u001b[39m\"\u001b[39m,\n\u001b[0;32m   1558\u001b[0m     epoch_num\u001b[39m=\u001b[39mepoch,\n\u001b[1;32m   (...)\u001b[0m\n\u001b[0;32m   1561\u001b[0m     _r\u001b[39m=\u001b[39m\u001b[39m1\u001b[39m,\n\u001b[0;32m   1562\u001b[0m ):\n\u001b[0;32m   1563\u001b[0m     callbacks\u001b[39m.\u001b[39mon_train_batch_begin(step)\n\u001b[1;32m-> 1564\u001b[0m     tmp_logs \u001b[39m=\u001b[39m \u001b[39mself\u001b[39;49m\u001b[39m.\u001b[39;49mtrain_function(iterator)\n\u001b[0;32m   1565\u001b[0m     \u001b[39mif\u001b[39;00m data_handler\u001b[39m.\u001b[39mshould_sync:\n\u001b[0;32m   1566\u001b[0m         context\u001b[39m.\u001b[39masync_wait()\n",
      "File \u001b[1;32m~\\AppData\\Roaming\\Python\\Python39\\site-packages\\tensorflow\\python\\util\\traceback_utils.py:150\u001b[0m, in \u001b[0;36mfilter_traceback.<locals>.error_handler\u001b[1;34m(*args, **kwargs)\u001b[0m\n\u001b[0;32m    148\u001b[0m filtered_tb \u001b[39m=\u001b[39m \u001b[39mNone\u001b[39;00m\n\u001b[0;32m    149\u001b[0m \u001b[39mtry\u001b[39;00m:\n\u001b[1;32m--> 150\u001b[0m   \u001b[39mreturn\u001b[39;00m fn(\u001b[39m*\u001b[39margs, \u001b[39m*\u001b[39m\u001b[39m*\u001b[39mkwargs)\n\u001b[0;32m    151\u001b[0m \u001b[39mexcept\u001b[39;00m \u001b[39mException\u001b[39;00m \u001b[39mas\u001b[39;00m e:\n\u001b[0;32m    152\u001b[0m   filtered_tb \u001b[39m=\u001b[39m _process_traceback_frames(e\u001b[39m.\u001b[39m__traceback__)\n",
      "File \u001b[1;32m~\\AppData\\Roaming\\Python\\Python39\\site-packages\\tensorflow\\python\\eager\\def_function.py:915\u001b[0m, in \u001b[0;36mFunction.__call__\u001b[1;34m(self, *args, **kwds)\u001b[0m\n\u001b[0;32m    912\u001b[0m compiler \u001b[39m=\u001b[39m \u001b[39m\"\u001b[39m\u001b[39mxla\u001b[39m\u001b[39m\"\u001b[39m \u001b[39mif\u001b[39;00m \u001b[39mself\u001b[39m\u001b[39m.\u001b[39m_jit_compile \u001b[39melse\u001b[39;00m \u001b[39m\"\u001b[39m\u001b[39mnonXla\u001b[39m\u001b[39m\"\u001b[39m\n\u001b[0;32m    914\u001b[0m \u001b[39mwith\u001b[39;00m OptionalXlaContext(\u001b[39mself\u001b[39m\u001b[39m.\u001b[39m_jit_compile):\n\u001b[1;32m--> 915\u001b[0m   result \u001b[39m=\u001b[39m \u001b[39mself\u001b[39m\u001b[39m.\u001b[39m_call(\u001b[39m*\u001b[39margs, \u001b[39m*\u001b[39m\u001b[39m*\u001b[39mkwds)\n\u001b[0;32m    917\u001b[0m new_tracing_count \u001b[39m=\u001b[39m \u001b[39mself\u001b[39m\u001b[39m.\u001b[39mexperimental_get_tracing_count()\n\u001b[0;32m    918\u001b[0m without_tracing \u001b[39m=\u001b[39m (tracing_count \u001b[39m==\u001b[39m new_tracing_count)\n",
      "File \u001b[1;32m~\\AppData\\Roaming\\Python\\Python39\\site-packages\\tensorflow\\python\\eager\\def_function.py:947\u001b[0m, in \u001b[0;36mFunction._call\u001b[1;34m(self, *args, **kwds)\u001b[0m\n\u001b[0;32m    944\u001b[0m   \u001b[39mself\u001b[39m\u001b[39m.\u001b[39m_lock\u001b[39m.\u001b[39mrelease()\n\u001b[0;32m    945\u001b[0m   \u001b[39m# In this case we have created variables on the first call, so we run the\u001b[39;00m\n\u001b[0;32m    946\u001b[0m   \u001b[39m# defunned version which is guaranteed to never create variables.\u001b[39;00m\n\u001b[1;32m--> 947\u001b[0m   \u001b[39mreturn\u001b[39;00m \u001b[39mself\u001b[39m\u001b[39m.\u001b[39m_stateless_fn(\u001b[39m*\u001b[39margs, \u001b[39m*\u001b[39m\u001b[39m*\u001b[39mkwds)  \u001b[39m# pylint: disable=not-callable\u001b[39;00m\n\u001b[0;32m    948\u001b[0m \u001b[39melif\u001b[39;00m \u001b[39mself\u001b[39m\u001b[39m.\u001b[39m_stateful_fn \u001b[39mis\u001b[39;00m \u001b[39mnot\u001b[39;00m \u001b[39mNone\u001b[39;00m:\n\u001b[0;32m    949\u001b[0m   \u001b[39m# Release the lock early so that multiple threads can perform the call\u001b[39;00m\n\u001b[0;32m    950\u001b[0m   \u001b[39m# in parallel.\u001b[39;00m\n\u001b[0;32m    951\u001b[0m   \u001b[39mself\u001b[39m\u001b[39m.\u001b[39m_lock\u001b[39m.\u001b[39mrelease()\n",
      "File \u001b[1;32m~\\AppData\\Roaming\\Python\\Python39\\site-packages\\tensorflow\\python\\eager\\function.py:2496\u001b[0m, in \u001b[0;36mFunction.__call__\u001b[1;34m(self, *args, **kwargs)\u001b[0m\n\u001b[0;32m   2493\u001b[0m \u001b[39mwith\u001b[39;00m \u001b[39mself\u001b[39m\u001b[39m.\u001b[39m_lock:\n\u001b[0;32m   2494\u001b[0m   (graph_function,\n\u001b[0;32m   2495\u001b[0m    filtered_flat_args) \u001b[39m=\u001b[39m \u001b[39mself\u001b[39m\u001b[39m.\u001b[39m_maybe_define_function(args, kwargs)\n\u001b[1;32m-> 2496\u001b[0m \u001b[39mreturn\u001b[39;00m graph_function\u001b[39m.\u001b[39;49m_call_flat(\n\u001b[0;32m   2497\u001b[0m     filtered_flat_args, captured_inputs\u001b[39m=\u001b[39;49mgraph_function\u001b[39m.\u001b[39;49mcaptured_inputs)\n",
      "File \u001b[1;32m~\\AppData\\Roaming\\Python\\Python39\\site-packages\\tensorflow\\python\\eager\\function.py:1862\u001b[0m, in \u001b[0;36mConcreteFunction._call_flat\u001b[1;34m(self, args, captured_inputs, cancellation_manager)\u001b[0m\n\u001b[0;32m   1858\u001b[0m possible_gradient_type \u001b[39m=\u001b[39m gradients_util\u001b[39m.\u001b[39mPossibleTapeGradientTypes(args)\n\u001b[0;32m   1859\u001b[0m \u001b[39mif\u001b[39;00m (possible_gradient_type \u001b[39m==\u001b[39m gradients_util\u001b[39m.\u001b[39mPOSSIBLE_GRADIENT_TYPES_NONE\n\u001b[0;32m   1860\u001b[0m     \u001b[39mand\u001b[39;00m executing_eagerly):\n\u001b[0;32m   1861\u001b[0m   \u001b[39m# No tape is watching; skip to running the function.\u001b[39;00m\n\u001b[1;32m-> 1862\u001b[0m   \u001b[39mreturn\u001b[39;00m \u001b[39mself\u001b[39m\u001b[39m.\u001b[39m_build_call_outputs(\u001b[39mself\u001b[39;49m\u001b[39m.\u001b[39;49m_inference_function\u001b[39m.\u001b[39;49mcall(\n\u001b[0;32m   1863\u001b[0m       ctx, args, cancellation_manager\u001b[39m=\u001b[39;49mcancellation_manager))\n\u001b[0;32m   1864\u001b[0m forward_backward \u001b[39m=\u001b[39m \u001b[39mself\u001b[39m\u001b[39m.\u001b[39m_select_forward_and_backward_functions(\n\u001b[0;32m   1865\u001b[0m     args,\n\u001b[0;32m   1866\u001b[0m     possible_gradient_type,\n\u001b[0;32m   1867\u001b[0m     executing_eagerly)\n\u001b[0;32m   1868\u001b[0m forward_function, args_with_tangents \u001b[39m=\u001b[39m forward_backward\u001b[39m.\u001b[39mforward()\n",
      "File \u001b[1;32m~\\AppData\\Roaming\\Python\\Python39\\site-packages\\tensorflow\\python\\eager\\function.py:499\u001b[0m, in \u001b[0;36m_EagerDefinedFunction.call\u001b[1;34m(self, ctx, args, cancellation_manager)\u001b[0m\n\u001b[0;32m    497\u001b[0m \u001b[39mwith\u001b[39;00m _InterpolateFunctionError(\u001b[39mself\u001b[39m):\n\u001b[0;32m    498\u001b[0m   \u001b[39mif\u001b[39;00m cancellation_manager \u001b[39mis\u001b[39;00m \u001b[39mNone\u001b[39;00m:\n\u001b[1;32m--> 499\u001b[0m     outputs \u001b[39m=\u001b[39m execute\u001b[39m.\u001b[39;49mexecute(\n\u001b[0;32m    500\u001b[0m         \u001b[39mstr\u001b[39;49m(\u001b[39mself\u001b[39;49m\u001b[39m.\u001b[39;49msignature\u001b[39m.\u001b[39;49mname),\n\u001b[0;32m    501\u001b[0m         num_outputs\u001b[39m=\u001b[39;49m\u001b[39mself\u001b[39;49m\u001b[39m.\u001b[39;49m_num_outputs,\n\u001b[0;32m    502\u001b[0m         inputs\u001b[39m=\u001b[39;49margs,\n\u001b[0;32m    503\u001b[0m         attrs\u001b[39m=\u001b[39;49mattrs,\n\u001b[0;32m    504\u001b[0m         ctx\u001b[39m=\u001b[39;49mctx)\n\u001b[0;32m    505\u001b[0m   \u001b[39melse\u001b[39;00m:\n\u001b[0;32m    506\u001b[0m     outputs \u001b[39m=\u001b[39m execute\u001b[39m.\u001b[39mexecute_with_cancellation(\n\u001b[0;32m    507\u001b[0m         \u001b[39mstr\u001b[39m(\u001b[39mself\u001b[39m\u001b[39m.\u001b[39msignature\u001b[39m.\u001b[39mname),\n\u001b[0;32m    508\u001b[0m         num_outputs\u001b[39m=\u001b[39m\u001b[39mself\u001b[39m\u001b[39m.\u001b[39m_num_outputs,\n\u001b[1;32m   (...)\u001b[0m\n\u001b[0;32m    511\u001b[0m         ctx\u001b[39m=\u001b[39mctx,\n\u001b[0;32m    512\u001b[0m         cancellation_manager\u001b[39m=\u001b[39mcancellation_manager)\n",
      "File \u001b[1;32m~\\AppData\\Roaming\\Python\\Python39\\site-packages\\tensorflow\\python\\eager\\execute.py:54\u001b[0m, in \u001b[0;36mquick_execute\u001b[1;34m(op_name, num_outputs, inputs, attrs, ctx, name)\u001b[0m\n\u001b[0;32m     52\u001b[0m \u001b[39mtry\u001b[39;00m:\n\u001b[0;32m     53\u001b[0m   ctx\u001b[39m.\u001b[39mensure_initialized()\n\u001b[1;32m---> 54\u001b[0m   tensors \u001b[39m=\u001b[39m pywrap_tfe\u001b[39m.\u001b[39;49mTFE_Py_Execute(ctx\u001b[39m.\u001b[39;49m_handle, device_name, op_name,\n\u001b[0;32m     55\u001b[0m                                       inputs, attrs, num_outputs)\n\u001b[0;32m     56\u001b[0m \u001b[39mexcept\u001b[39;00m core\u001b[39m.\u001b[39m_NotOkStatusException \u001b[39mas\u001b[39;00m e:\n\u001b[0;32m     57\u001b[0m   \u001b[39mif\u001b[39;00m name \u001b[39mis\u001b[39;00m \u001b[39mnot\u001b[39;00m \u001b[39mNone\u001b[39;00m:\n",
      "\u001b[1;31mKeyboardInterrupt\u001b[0m: "
     ]
    }
   ],
   "source": [
    "# Train the model using the data generator\n",
    "epochs = 60   # Number of epochs, modify this according to your problem\n",
    "model.fit(train_generator, epochs=epochs, validation_data=valid_generator , batch_size= 4 ,\n",
    "                    callbacks=[\n",
    "                      WandbMetricsLogger(log_freq=1),\n",
    "                      WandbModelCheckpoint(\"models\")\n",
    "                    ])"
   ]
  },
  {
   "cell_type": "code",
   "execution_count": null,
   "metadata": {},
   "outputs": [
    {
     "data": {
      "text/plain": [
       "-0.3010299956639812"
      ]
     },
     "execution_count": 43,
     "metadata": {},
     "output_type": "execute_result"
    }
   ],
   "source": [
    "np.log10(1/2)"
   ]
  },
  {
   "cell_type": "code",
   "execution_count": null,
   "metadata": {},
   "outputs": [],
   "source": [
    "import tensorflow as tf\n",
    "\n",
    "# Parameters\n",
    "input_shape = (10, 840, 840, 1)  # Replace this with the shape of your input images\n",
    "epochs = 10\n",
    "learning_rate = 0.001\n",
    "\n",
    "# Compile the combined model\n",
    "'''combined_model.compile(optimizer=tf.keras.optimizers.Adam(learning_rate=learning_rate),\n",
    "                       loss='binary_crossentropy',\n",
    "                       metrics=['accuracy'])'''\n",
    "\n",
    "with tf.device('/GPU:0'):\n",
    "    # Train the model using the dataset iterator\n",
    "    for epoch in range(epochs):\n",
    "        print(f\"Epoch {epoch + 1}/{epochs}\")\n",
    "\n",
    "        train_dataset_iter, val_dataset_iter = create_dataset_iter(tier, match_ids)\n",
    "\n",
    "        # Training phase\n",
    "        for dataset in train_dataset_iter:\n",
    "            for (x_imgs, x_features), y in dataset:\n",
    "                x_imgs = tf.expand_dims(x_imgs, axis=0)  # Add batch dimension\n",
    "                combined_model.train_on_batch([x_imgs, x_features], y)\n",
    "\n",
    "        # Validation phase\n",
    "        val_loss = []\n",
    "        val_acc = []\n",
    "        for dataset in val_dataset_iter:\n",
    "            for (x_imgs, x_features), y in dataset:\n",
    "                x_imgs = tf.expand_dims(x_imgs, axis=0)  # Add batch dimension\n",
    "                logs = combined_model.test_on_batch([x_imgs, x_features], y)\n",
    "                val_loss.append(logs[0])\n",
    "                val_acc.append(logs[1])\n",
    "\n",
    "        avg_val_loss = sum(val_loss) / len(val_loss)\n",
    "        avg_val_acc = sum(val_acc) / len(val_acc)\n",
    "        print(f\"Validation Loss: {avg_val_loss:.4f}, Validation Accuracy: {avg_val_acc:.4f}\")"
   ]
  },
  {
   "cell_type": "code",
   "execution_count": null,
   "metadata": {},
   "outputs": [],
   "source": [
    "import os\n",
    "import tensorflow as tf\n",
    "import requests\n",
    "from tqdm import tqdm\n",
    "from functools import reduce\n",
    "\n",
    "API_KEY = 'RGAPI-1a1d24de-0002-4894-85cc-6deaf6ec560e'\n",
    "\n",
    "from autoLeague.dataset.riotapi import RiotAPI as ra\n",
    "\n",
    "ra.__init__(ra , api_key=API_KEY)\n",
    "\n",
    "\n",
    "def get_labels_and_features_from_api(match_id):\n",
    "    match_id = match_id.replace('-','_')\n",
    "    is_blue_win =  1 if requests.get(f'https://asia.api.riotgames.com/lol/match/v5/matches/{match_id}?api_key={API_KEY}').json()['info']['teams'][0]['win'] == True else 0\n",
    "    label = is_blue_win\n",
    "\n",
    "    features = getMatchData(match_id)\n",
    "    return label , features\n",
    "\n",
    "def load_image_pair(blue_path, red_path):\n",
    "    blue_img = tf.io.read_file(blue_path)\n",
    "    blue_img = tf.image.decode_image(blue_img, channels=1, dtype=tf.float32, expand_animations=False)\n",
    "    blue_img = tf.image.resize(blue_img,(105,105))\n",
    "    blue_img = blue_img / 255.0  # Normalize the blue image\n",
    "\n",
    "    # Crop a 100x100 square from the center of the blue image\n",
    "    # blue_img = tf.image.crop_to_bounding_box(blue_img, 25, 25, 160, 160)\n",
    "    \n",
    "    red_img = tf.io.read_file(red_path)\n",
    "    red_img = tf.image.decode_image(red_img, channels=1, dtype=tf.float32, expand_animations=False)\n",
    "    red_img = tf.image.resize(red_img,(105,105))\n",
    "    red_img = red_img / 255.0  # Normalize the red image\n",
    "\n",
    "    # Crop a 100x100 square from the center of the red image\n",
    "    # red_img = tf.image.crop_to_bounding_box(red_img, 25, 25, 160, 160)\n",
    "    \n",
    "    stacked_img = tf.concat([blue_img, red_img], axis=-1)\n",
    "\n",
    "    return stacked_img\n",
    "\n",
    "def extract_number_from_filename(filename):\n",
    "    # Extract numbers from the filename\n",
    "    number = int(\"\".join(filter(str.isdigit, filename)))\n",
    "    return number\n",
    "\n",
    "\n",
    "def create_dataset_iter(tier, match_ids, blue_folder='Blue', red_folder='Red', n_frames=239, validation_split=0.2):\n",
    "\n",
    "    num_validation = int(validation_split * len(match_ids))\n",
    "    train_match_ids = match_ids[num_validation:]\n",
    "    val_match_ids = match_ids[:num_validation]\n",
    "\n",
    "    def generate_data(match_ids):\n",
    "        for match_id in tqdm(match_ids):\n",
    "            blue_dir = os.path.join(tier, match_id, blue_folder, 'black')\n",
    "            red_dir = os.path.join(tier, match_id, red_folder, 'black')\n",
    "\n",
    "            #blue_image_paths = sorted([os.path.join(blue_dir, img) for img in os.listdir(blue_dir) if os.listdir(blue_dir).index(img)] )\n",
    "            blue_image_paths = sorted([os.path.join(blue_dir, img) for img in os.listdir(blue_dir)] , key=extract_number_from_filename)\n",
    "            # blue_image_paths = [path for path in blue_image_paths if blue_image_paths.index(path)%3 == 0 ]\n",
    "\n",
    "            red_image_paths = sorted([os.path.join(red_dir, img) for img in os.listdir(red_dir)] , key=extract_number_from_filename) \n",
    "            # red_image_paths = [path for path in red_image_paths if red_image_paths.index(path)%3 == 0 ]\n",
    "\n",
    "            dataset = tf.data.Dataset.from_tensor_slices((blue_image_paths, red_image_paths))\n",
    "            dataset = dataset.map(load_image_pair, num_parallel_calls=tf.data.experimental.AUTOTUNE)\n",
    "            dataset = dataset.batch(n_frames)\n",
    "\n",
    "            # Fetch label and features from the API\n",
    "            label , features = get_labels_and_features_from_api(match_id)\n",
    "            label = tf.expand_dims(label, axis=0)  # Add batch dimension\n",
    "            features = tf.expand_dims(features, axis=0)  # Add batch dimension\n",
    "            dataset = dataset.map(lambda x: ((x, features), label))\n",
    "\n",
    "            yield dataset\n",
    "\n",
    "\n",
    "    return generate_data(train_match_ids), generate_data(val_match_ids)\n",
    "            \n",
    "  \n",
    "\n",
    "tier = 'C:\\dataset'\n",
    "match_ids = [filename for filename in os.listdir(tier)]   # ['match_id_1', 'match_id_2', 'match_id_3']  List your match_ids\n",
    "\n",
    "train_dataset, val_dataset = create_dataset_iter(tier, match_ids)\n"
   ]
  },
  {
   "cell_type": "code",
   "execution_count": null,
   "metadata": {},
   "outputs": [],
   "source": [
    "import tensorflow as tf\n",
    "from tensorflow.keras import Model, Input\n",
    "from tensorflow.keras.layers import (Dense, Concatenate, ConvLSTM2D, AveragePooling3D, Flatten,\n",
    "                                     Conv3D, MaxPooling3D, LSTM, BatchNormalization , GlobalAveragePooling3D, Dropout)\n",
    "# num_features=6, time_steps=10\n",
    "def build_combined_model(input_shape=(239, 105, 105, 2), num_features=60, time_steps=10):\n",
    "    # Define the first model (ConvLSTM2D)\n",
    "    img_input = Input(shape=input_shape)\n",
    "\n",
    "    # Add Conv3D and MaxPooling3D layers near the input\n",
    "    x = Conv3D(filters=64, kernel_size=(1, 3, 3),padding='same', activation='relu', input_shape=input_shape)(img_input)\n",
    "    x = BatchNormalization()(x)\n",
    "    x = MaxPooling3D(pool_size=(1, 2, 2), padding='same')(x)\n",
    "\n",
    "    x = Conv3D(filters=128, kernel_size=(1, 3, 3), padding='same', activation='relu')(x)\n",
    "    x = BatchNormalization()(x)\n",
    "    x = MaxPooling3D(pool_size=(1, 2, 2), padding='same')(x)\n",
    "\n",
    "    x = Conv3D(filters=256, kernel_size=(1, 3, 3), padding='same', activation='relu')(x)\n",
    "    x = BatchNormalization()(x)\n",
    "    x = MaxPooling3D(pool_size=(1, 2, 2), padding='same')(x)\n",
    "    \n",
    "    x = ConvLSTM2D(filters=128, kernel_size=(3, 3), padding='same', activation='relu', return_sequences=True)(x)\n",
    "    x = BatchNormalization()(x)\n",
    "    x = MaxPooling3D(pool_size=(1, 2, 2), padding='same')(x)\n",
    "\n",
    "    x = ConvLSTM2D(filters=128, kernel_size=(2, 2), padding='same', activation='relu', return_sequences=True)(x)\n",
    "    x = BatchNormalization()(x)\n",
    "    x = MaxPooling3D(pool_size=(1, 2, 2), padding='same')(x)\n",
    "    \n",
    "    x = AveragePooling3D(pool_size=(1, 2, 2), padding='same')(x)\n",
    "    x = ConvLSTM2D(filters=192, kernel_size=(2, 2), padding='same', activation='relu', return_sequences=True)(x)\n",
    "    x = BatchNormalization()(x)\n",
    "\n",
    "    x = AveragePooling3D(pool_size=(1, 2, 2), padding='same')(x)\n",
    "    x = ConvLSTM2D(filters=256, kernel_size=(2, 2), padding='same', activation='relu', return_sequences=True)(x)\n",
    "    x = BatchNormalization()(x)\n",
    "\n",
    "    x = GlobalAveragePooling3D()(x)\n",
    "    \n",
    "    x = Flatten()(x)\n",
    "    \n",
    "    # Define the second model (for the additional 5 features as a sequence)\n",
    "    # feature_input = Input(shape=(num_features,))\n",
    "    feature_input = Input(shape=(num_features,))\n",
    "    \n",
    "    # y = Flatten(feature_input)\n",
    "    '''\n",
    "    y = LSTM(10, activation='relu', return_sequences=False)(feature_input)\n",
    "    y = BatchNormalization()(y)'''\n",
    "    \n",
    "    # Concatenate the two models\n",
    "    combined = Concatenate()([x, feature_input ])\n",
    "\n",
    "    # Add fully connected layers\n",
    "    # x = Dense(20, activation='relu')(combined)\n",
    "\n",
    "    x = Dense(160, activation='relu')(combined)\n",
    "    # Output layer for binary classification\n",
    "    output = Dense(1, activation='sigmoid')(x)\n",
    "\n",
    "    # Create the combined model\n",
    "    model = Model(inputs=[img_input, feature_input], outputs=output)\n",
    "\n",
    "    return model\n",
    "\n",
    "# Build the combined model\n",
    "combined_model = build_combined_model()\n",
    "\n",
    "\n",
    "# Build the combined model\n",
    "combined_model = build_combined_model()\n",
    "\n",
    "# Compile the model with a binary classification loss function and metric\n",
    "combined_model.compile(optimizer='adam', loss='binary_crossentropy', metrics=['accuracy'])"
   ]
  },
  {
   "cell_type": "code",
   "execution_count": null,
   "metadata": {},
   "outputs": [
    {
     "name": "stderr",
     "output_type": "stream",
     "text": [
      "  0%|          | 0/115 [00:43<?, ?it/s]\n"
     ]
    },
    {
     "name": "stdout",
     "output_type": "stream",
     "text": [
      "Epoch 1/10\n"
     ]
    },
    {
     "name": "stderr",
     "output_type": "stream",
     "text": [
      "100%|██████████| 115/115 [07:30<00:00,  3.92s/it]\n",
      "100%|██████████| 28/28 [00:48<00:00,  1.72s/it]\n"
     ]
    },
    {
     "name": "stdout",
     "output_type": "stream",
     "text": [
      "Validation Loss: nan, Validation Accuracy: 0.6071\n",
      "Epoch 2/10\n"
     ]
    },
    {
     "name": "stderr",
     "output_type": "stream",
     "text": [
      "100%|██████████| 115/115 [07:29<00:00,  3.91s/it]\n",
      "100%|██████████| 28/28 [00:47<00:00,  1.69s/it]\n"
     ]
    },
    {
     "name": "stdout",
     "output_type": "stream",
     "text": [
      "Validation Loss: nan, Validation Accuracy: 0.6071\n",
      "Epoch 3/10\n"
     ]
    },
    {
     "name": "stderr",
     "output_type": "stream",
     "text": [
      "100%|██████████| 115/115 [07:47<00:00,  4.06s/it]\n",
      "100%|██████████| 28/28 [01:58<00:00,  4.24s/it]\n"
     ]
    },
    {
     "name": "stdout",
     "output_type": "stream",
     "text": [
      "Validation Loss: nan, Validation Accuracy: 0.6071\n",
      "Epoch 4/10\n"
     ]
    },
    {
     "name": "stderr",
     "output_type": "stream",
     "text": [
      "100%|██████████| 115/115 [07:51<00:00,  4.10s/it]\n",
      "100%|██████████| 28/28 [01:18<00:00,  2.80s/it]\n"
     ]
    },
    {
     "name": "stdout",
     "output_type": "stream",
     "text": [
      "Validation Loss: nan, Validation Accuracy: 0.6071\n",
      "Epoch 5/10\n"
     ]
    },
    {
     "name": "stderr",
     "output_type": "stream",
     "text": [
      "100%|██████████| 115/115 [08:00<00:00,  4.17s/it]\n",
      "100%|██████████| 28/28 [00:45<00:00,  1.62s/it]\n"
     ]
    },
    {
     "name": "stdout",
     "output_type": "stream",
     "text": [
      "Validation Loss: nan, Validation Accuracy: 0.6071\n",
      "Epoch 6/10\n"
     ]
    },
    {
     "name": "stderr",
     "output_type": "stream",
     "text": [
      "  7%|▋         | 8/115 [00:42<09:23,  5.27s/it]"
     ]
    },
    {
     "ename": "KeyboardInterrupt",
     "evalue": "",
     "output_type": "error",
     "traceback": [
      "\u001b[1;31m---------------------------------------------------------------------------\u001b[0m",
      "\u001b[1;31mKeyboardInterrupt\u001b[0m                         Traceback (most recent call last)",
      "\u001b[1;32mc:\\Users\\김성윤\\Desktop\\pyLoL\\replay_scraper.ipynb Cell 54\u001b[0m line \u001b[0;36m2\n\u001b[0;32m     <a href='vscode-notebook-cell:/c%3A/Users/%EA%B9%80%EC%84%B1%EC%9C%A4/Desktop/pyLoL/replay_scraper.ipynb#Y103sZmlsZQ%3D%3D?line=21'>22</a>\u001b[0m     \u001b[39mfor\u001b[39;00m (x_imgs, x_features), y \u001b[39min\u001b[39;00m dataset:\n\u001b[0;32m     <a href='vscode-notebook-cell:/c%3A/Users/%EA%B9%80%EC%84%B1%EC%9C%A4/Desktop/pyLoL/replay_scraper.ipynb#Y103sZmlsZQ%3D%3D?line=22'>23</a>\u001b[0m         x_imgs \u001b[39m=\u001b[39m tf\u001b[39m.\u001b[39mexpand_dims(x_imgs, axis\u001b[39m=\u001b[39m\u001b[39m0\u001b[39m)  \u001b[39m# Add batch dimension\u001b[39;00m\n\u001b[1;32m---> <a href='vscode-notebook-cell:/c%3A/Users/%EA%B9%80%EC%84%B1%EC%9C%A4/Desktop/pyLoL/replay_scraper.ipynb#Y103sZmlsZQ%3D%3D?line=23'>24</a>\u001b[0m         combined_model\u001b[39m.\u001b[39;49mtrain_on_batch([x_imgs, x_features], y)\n\u001b[0;32m     <a href='vscode-notebook-cell:/c%3A/Users/%EA%B9%80%EC%84%B1%EC%9C%A4/Desktop/pyLoL/replay_scraper.ipynb#Y103sZmlsZQ%3D%3D?line=25'>26</a>\u001b[0m \u001b[39m# Validation phase\u001b[39;00m\n\u001b[0;32m     <a href='vscode-notebook-cell:/c%3A/Users/%EA%B9%80%EC%84%B1%EC%9C%A4/Desktop/pyLoL/replay_scraper.ipynb#Y103sZmlsZQ%3D%3D?line=26'>27</a>\u001b[0m val_loss \u001b[39m=\u001b[39m []\n",
      "File \u001b[1;32m~\\AppData\\Roaming\\Python\\Python39\\site-packages\\keras\\engine\\training.py:2381\u001b[0m, in \u001b[0;36mModel.train_on_batch\u001b[1;34m(self, x, y, sample_weight, class_weight, reset_metrics, return_dict)\u001b[0m\n\u001b[0;32m   2377\u001b[0m     iterator \u001b[39m=\u001b[39m data_adapter\u001b[39m.\u001b[39msingle_batch_iterator(\n\u001b[0;32m   2378\u001b[0m         \u001b[39mself\u001b[39m\u001b[39m.\u001b[39mdistribute_strategy, x, y, sample_weight, class_weight\n\u001b[0;32m   2379\u001b[0m     )\n\u001b[0;32m   2380\u001b[0m     \u001b[39mself\u001b[39m\u001b[39m.\u001b[39mtrain_function \u001b[39m=\u001b[39m \u001b[39mself\u001b[39m\u001b[39m.\u001b[39mmake_train_function()\n\u001b[1;32m-> 2381\u001b[0m     logs \u001b[39m=\u001b[39m \u001b[39mself\u001b[39;49m\u001b[39m.\u001b[39;49mtrain_function(iterator)\n\u001b[0;32m   2383\u001b[0m logs \u001b[39m=\u001b[39m tf_utils\u001b[39m.\u001b[39msync_to_numpy_or_python_type(logs)\n\u001b[0;32m   2384\u001b[0m \u001b[39mif\u001b[39;00m return_dict:\n",
      "File \u001b[1;32m~\\AppData\\Roaming\\Python\\Python39\\site-packages\\tensorflow\\python\\util\\traceback_utils.py:150\u001b[0m, in \u001b[0;36mfilter_traceback.<locals>.error_handler\u001b[1;34m(*args, **kwargs)\u001b[0m\n\u001b[0;32m    148\u001b[0m filtered_tb \u001b[39m=\u001b[39m \u001b[39mNone\u001b[39;00m\n\u001b[0;32m    149\u001b[0m \u001b[39mtry\u001b[39;00m:\n\u001b[1;32m--> 150\u001b[0m   \u001b[39mreturn\u001b[39;00m fn(\u001b[39m*\u001b[39margs, \u001b[39m*\u001b[39m\u001b[39m*\u001b[39mkwargs)\n\u001b[0;32m    151\u001b[0m \u001b[39mexcept\u001b[39;00m \u001b[39mException\u001b[39;00m \u001b[39mas\u001b[39;00m e:\n\u001b[0;32m    152\u001b[0m   filtered_tb \u001b[39m=\u001b[39m _process_traceback_frames(e\u001b[39m.\u001b[39m__traceback__)\n",
      "File \u001b[1;32m~\\AppData\\Roaming\\Python\\Python39\\site-packages\\tensorflow\\python\\eager\\def_function.py:915\u001b[0m, in \u001b[0;36mFunction.__call__\u001b[1;34m(self, *args, **kwds)\u001b[0m\n\u001b[0;32m    912\u001b[0m compiler \u001b[39m=\u001b[39m \u001b[39m\"\u001b[39m\u001b[39mxla\u001b[39m\u001b[39m\"\u001b[39m \u001b[39mif\u001b[39;00m \u001b[39mself\u001b[39m\u001b[39m.\u001b[39m_jit_compile \u001b[39melse\u001b[39;00m \u001b[39m\"\u001b[39m\u001b[39mnonXla\u001b[39m\u001b[39m\"\u001b[39m\n\u001b[0;32m    914\u001b[0m \u001b[39mwith\u001b[39;00m OptionalXlaContext(\u001b[39mself\u001b[39m\u001b[39m.\u001b[39m_jit_compile):\n\u001b[1;32m--> 915\u001b[0m   result \u001b[39m=\u001b[39m \u001b[39mself\u001b[39m\u001b[39m.\u001b[39m_call(\u001b[39m*\u001b[39margs, \u001b[39m*\u001b[39m\u001b[39m*\u001b[39mkwds)\n\u001b[0;32m    917\u001b[0m new_tracing_count \u001b[39m=\u001b[39m \u001b[39mself\u001b[39m\u001b[39m.\u001b[39mexperimental_get_tracing_count()\n\u001b[0;32m    918\u001b[0m without_tracing \u001b[39m=\u001b[39m (tracing_count \u001b[39m==\u001b[39m new_tracing_count)\n",
      "File \u001b[1;32m~\\AppData\\Roaming\\Python\\Python39\\site-packages\\tensorflow\\python\\eager\\def_function.py:947\u001b[0m, in \u001b[0;36mFunction._call\u001b[1;34m(self, *args, **kwds)\u001b[0m\n\u001b[0;32m    944\u001b[0m   \u001b[39mself\u001b[39m\u001b[39m.\u001b[39m_lock\u001b[39m.\u001b[39mrelease()\n\u001b[0;32m    945\u001b[0m   \u001b[39m# In this case we have created variables on the first call, so we run the\u001b[39;00m\n\u001b[0;32m    946\u001b[0m   \u001b[39m# defunned version which is guaranteed to never create variables.\u001b[39;00m\n\u001b[1;32m--> 947\u001b[0m   \u001b[39mreturn\u001b[39;00m \u001b[39mself\u001b[39m\u001b[39m.\u001b[39m_stateless_fn(\u001b[39m*\u001b[39margs, \u001b[39m*\u001b[39m\u001b[39m*\u001b[39mkwds)  \u001b[39m# pylint: disable=not-callable\u001b[39;00m\n\u001b[0;32m    948\u001b[0m \u001b[39melif\u001b[39;00m \u001b[39mself\u001b[39m\u001b[39m.\u001b[39m_stateful_fn \u001b[39mis\u001b[39;00m \u001b[39mnot\u001b[39;00m \u001b[39mNone\u001b[39;00m:\n\u001b[0;32m    949\u001b[0m   \u001b[39m# Release the lock early so that multiple threads can perform the call\u001b[39;00m\n\u001b[0;32m    950\u001b[0m   \u001b[39m# in parallel.\u001b[39;00m\n\u001b[0;32m    951\u001b[0m   \u001b[39mself\u001b[39m\u001b[39m.\u001b[39m_lock\u001b[39m.\u001b[39mrelease()\n",
      "File \u001b[1;32m~\\AppData\\Roaming\\Python\\Python39\\site-packages\\tensorflow\\python\\eager\\function.py:2496\u001b[0m, in \u001b[0;36mFunction.__call__\u001b[1;34m(self, *args, **kwargs)\u001b[0m\n\u001b[0;32m   2493\u001b[0m \u001b[39mwith\u001b[39;00m \u001b[39mself\u001b[39m\u001b[39m.\u001b[39m_lock:\n\u001b[0;32m   2494\u001b[0m   (graph_function,\n\u001b[0;32m   2495\u001b[0m    filtered_flat_args) \u001b[39m=\u001b[39m \u001b[39mself\u001b[39m\u001b[39m.\u001b[39m_maybe_define_function(args, kwargs)\n\u001b[1;32m-> 2496\u001b[0m \u001b[39mreturn\u001b[39;00m graph_function\u001b[39m.\u001b[39;49m_call_flat(\n\u001b[0;32m   2497\u001b[0m     filtered_flat_args, captured_inputs\u001b[39m=\u001b[39;49mgraph_function\u001b[39m.\u001b[39;49mcaptured_inputs)\n",
      "File \u001b[1;32m~\\AppData\\Roaming\\Python\\Python39\\site-packages\\tensorflow\\python\\eager\\function.py:1862\u001b[0m, in \u001b[0;36mConcreteFunction._call_flat\u001b[1;34m(self, args, captured_inputs, cancellation_manager)\u001b[0m\n\u001b[0;32m   1858\u001b[0m possible_gradient_type \u001b[39m=\u001b[39m gradients_util\u001b[39m.\u001b[39mPossibleTapeGradientTypes(args)\n\u001b[0;32m   1859\u001b[0m \u001b[39mif\u001b[39;00m (possible_gradient_type \u001b[39m==\u001b[39m gradients_util\u001b[39m.\u001b[39mPOSSIBLE_GRADIENT_TYPES_NONE\n\u001b[0;32m   1860\u001b[0m     \u001b[39mand\u001b[39;00m executing_eagerly):\n\u001b[0;32m   1861\u001b[0m   \u001b[39m# No tape is watching; skip to running the function.\u001b[39;00m\n\u001b[1;32m-> 1862\u001b[0m   \u001b[39mreturn\u001b[39;00m \u001b[39mself\u001b[39m\u001b[39m.\u001b[39m_build_call_outputs(\u001b[39mself\u001b[39;49m\u001b[39m.\u001b[39;49m_inference_function\u001b[39m.\u001b[39;49mcall(\n\u001b[0;32m   1863\u001b[0m       ctx, args, cancellation_manager\u001b[39m=\u001b[39;49mcancellation_manager))\n\u001b[0;32m   1864\u001b[0m forward_backward \u001b[39m=\u001b[39m \u001b[39mself\u001b[39m\u001b[39m.\u001b[39m_select_forward_and_backward_functions(\n\u001b[0;32m   1865\u001b[0m     args,\n\u001b[0;32m   1866\u001b[0m     possible_gradient_type,\n\u001b[0;32m   1867\u001b[0m     executing_eagerly)\n\u001b[0;32m   1868\u001b[0m forward_function, args_with_tangents \u001b[39m=\u001b[39m forward_backward\u001b[39m.\u001b[39mforward()\n",
      "File \u001b[1;32m~\\AppData\\Roaming\\Python\\Python39\\site-packages\\tensorflow\\python\\eager\\function.py:499\u001b[0m, in \u001b[0;36m_EagerDefinedFunction.call\u001b[1;34m(self, ctx, args, cancellation_manager)\u001b[0m\n\u001b[0;32m    497\u001b[0m \u001b[39mwith\u001b[39;00m _InterpolateFunctionError(\u001b[39mself\u001b[39m):\n\u001b[0;32m    498\u001b[0m   \u001b[39mif\u001b[39;00m cancellation_manager \u001b[39mis\u001b[39;00m \u001b[39mNone\u001b[39;00m:\n\u001b[1;32m--> 499\u001b[0m     outputs \u001b[39m=\u001b[39m execute\u001b[39m.\u001b[39;49mexecute(\n\u001b[0;32m    500\u001b[0m         \u001b[39mstr\u001b[39;49m(\u001b[39mself\u001b[39;49m\u001b[39m.\u001b[39;49msignature\u001b[39m.\u001b[39;49mname),\n\u001b[0;32m    501\u001b[0m         num_outputs\u001b[39m=\u001b[39;49m\u001b[39mself\u001b[39;49m\u001b[39m.\u001b[39;49m_num_outputs,\n\u001b[0;32m    502\u001b[0m         inputs\u001b[39m=\u001b[39;49margs,\n\u001b[0;32m    503\u001b[0m         attrs\u001b[39m=\u001b[39;49mattrs,\n\u001b[0;32m    504\u001b[0m         ctx\u001b[39m=\u001b[39;49mctx)\n\u001b[0;32m    505\u001b[0m   \u001b[39melse\u001b[39;00m:\n\u001b[0;32m    506\u001b[0m     outputs \u001b[39m=\u001b[39m execute\u001b[39m.\u001b[39mexecute_with_cancellation(\n\u001b[0;32m    507\u001b[0m         \u001b[39mstr\u001b[39m(\u001b[39mself\u001b[39m\u001b[39m.\u001b[39msignature\u001b[39m.\u001b[39mname),\n\u001b[0;32m    508\u001b[0m         num_outputs\u001b[39m=\u001b[39m\u001b[39mself\u001b[39m\u001b[39m.\u001b[39m_num_outputs,\n\u001b[1;32m   (...)\u001b[0m\n\u001b[0;32m    511\u001b[0m         ctx\u001b[39m=\u001b[39mctx,\n\u001b[0;32m    512\u001b[0m         cancellation_manager\u001b[39m=\u001b[39mcancellation_manager)\n",
      "File \u001b[1;32m~\\AppData\\Roaming\\Python\\Python39\\site-packages\\tensorflow\\python\\eager\\execute.py:54\u001b[0m, in \u001b[0;36mquick_execute\u001b[1;34m(op_name, num_outputs, inputs, attrs, ctx, name)\u001b[0m\n\u001b[0;32m     52\u001b[0m \u001b[39mtry\u001b[39;00m:\n\u001b[0;32m     53\u001b[0m   ctx\u001b[39m.\u001b[39mensure_initialized()\n\u001b[1;32m---> 54\u001b[0m   tensors \u001b[39m=\u001b[39m pywrap_tfe\u001b[39m.\u001b[39;49mTFE_Py_Execute(ctx\u001b[39m.\u001b[39;49m_handle, device_name, op_name,\n\u001b[0;32m     55\u001b[0m                                       inputs, attrs, num_outputs)\n\u001b[0;32m     56\u001b[0m \u001b[39mexcept\u001b[39;00m core\u001b[39m.\u001b[39m_NotOkStatusException \u001b[39mas\u001b[39;00m e:\n\u001b[0;32m     57\u001b[0m   \u001b[39mif\u001b[39;00m name \u001b[39mis\u001b[39;00m \u001b[39mnot\u001b[39;00m \u001b[39mNone\u001b[39;00m:\n",
      "\u001b[1;31mKeyboardInterrupt\u001b[0m: "
     ]
    }
   ],
   "source": [
    "import tensorflow as tf\n",
    "\n",
    "# Parameters\n",
    "# input_shape = (239, 160, 160, 2)  # Replace this with the shape of your input images\n",
    "epochs = 10\n",
    "learning_rate = 0.000001\n",
    "\n",
    "# Compile the combined model\n",
    "'''combined_model.compile(optimizer=tf.keras.optimizers.Adam(learning_rate=learning_rate),\n",
    "                       loss='binary_crossentropy',\n",
    "                       metrics=['accuracy'])'''\n",
    "\n",
    "with tf.device('/GPU:0'):\n",
    "    # Train the model using the dataset iterator\n",
    "    for epoch in range(epochs):\n",
    "        print(f\"Epoch {epoch + 1}/{epochs}\")\n",
    "\n",
    "        train_dataset_iter, val_dataset_iter = create_dataset_iter(tier, match_ids)\n",
    "\n",
    "        # Training phase\n",
    "        for dataset in train_dataset_iter:\n",
    "            for (x_imgs, x_features), y in dataset:\n",
    "                x_imgs = tf.expand_dims(x_imgs, axis=0)  # Add batch dimension\n",
    "                combined_model.train_on_batch([x_imgs, x_features], y)\n",
    "\n",
    "        # Validation phase\n",
    "        val_loss = []\n",
    "        val_acc = []\n",
    "        for dataset in val_dataset_iter:\n",
    "            for (x_imgs, x_features), y in dataset:\n",
    "                x_imgs = tf.expand_dims(x_imgs, axis=0)  # Add batch dimension\n",
    "                logs = combined_model.test_on_batch([x_imgs, x_features], y)\n",
    "                val_loss.append(logs[0])\n",
    "                val_acc.append(logs[1])\n",
    "\n",
    "        avg_val_loss = sum(val_loss) / len(val_loss)\n",
    "        avg_val_acc = sum(val_acc) / len(val_acc)\n",
    "        print(f\"Validation Loss: {avg_val_loss:.4f}, Validation Accuracy: {avg_val_acc:.4f}\")\n"
   ]
  },
  {
   "cell_type": "code",
   "execution_count": null,
   "metadata": {},
   "outputs": [
    {
     "ename": "NameError",
     "evalue": "name 'build_autoencoder' is not defined",
     "output_type": "error",
     "traceback": [
      "\u001b[1;31m---------------------------------------------------------------------------\u001b[0m",
      "\u001b[1;31mNameError\u001b[0m                                 Traceback (most recent call last)",
      "\u001b[1;32mc:\\Users\\김성윤\\Desktop\\pyLoL\\replay_scraper.ipynb Cell 55\u001b[0m line \u001b[0;36m1\n\u001b[0;32m      <a href='vscode-notebook-cell:/c%3A/Users/%EA%B9%80%EC%84%B1%EC%9C%A4/Desktop/pyLoL/replay_scraper.ipynb#Y144sZmlsZQ%3D%3D?line=5'>6</a>\u001b[0m learning_rate \u001b[39m=\u001b[39m \u001b[39m0.000001\u001b[39m\n\u001b[0;32m      <a href='vscode-notebook-cell:/c%3A/Users/%EA%B9%80%EC%84%B1%EC%9C%A4/Desktop/pyLoL/replay_scraper.ipynb#Y144sZmlsZQ%3D%3D?line=7'>8</a>\u001b[0m \u001b[39m# Assuming build_combined_model is the function you use to get your compiled model\u001b[39;00m\n\u001b[0;32m      <a href='vscode-notebook-cell:/c%3A/Users/%EA%B9%80%EC%84%B1%EC%9C%A4/Desktop/pyLoL/replay_scraper.ipynb#Y144sZmlsZQ%3D%3D?line=8'>9</a>\u001b[0m \u001b[39m# You might need to pass appropriate arguments based on your function definition\u001b[39;00m\n\u001b[1;32m---> <a href='vscode-notebook-cell:/c%3A/Users/%EA%B9%80%EC%84%B1%EC%9C%A4/Desktop/pyLoL/replay_scraper.ipynb#Y144sZmlsZQ%3D%3D?line=9'>10</a>\u001b[0m encoder \u001b[39m=\u001b[39m build_autoencoder(input_shape\u001b[39m=\u001b[39m(\u001b[39m239\u001b[39m, \u001b[39m105\u001b[39m, \u001b[39m105\u001b[39m, \u001b[39m2\u001b[39m))\n\u001b[0;32m     <a href='vscode-notebook-cell:/c%3A/Users/%EA%B9%80%EC%84%B1%EC%9C%A4/Desktop/pyLoL/replay_scraper.ipynb#Y144sZmlsZQ%3D%3D?line=10'>11</a>\u001b[0m mlp \u001b[39m=\u001b[39m build_mlp(input_shape\u001b[39m=\u001b[39m(\u001b[39m60\u001b[39m,))\n\u001b[0;32m     <a href='vscode-notebook-cell:/c%3A/Users/%EA%B9%80%EC%84%B1%EC%9C%A4/Desktop/pyLoL/replay_scraper.ipynb#Y144sZmlsZQ%3D%3D?line=11'>12</a>\u001b[0m combined_model \u001b[39m=\u001b[39m build_combined_model(encoder, mlp)\n",
      "\u001b[1;31mNameError\u001b[0m: name 'build_autoencoder' is not defined"
     ]
    }
   ],
   "source": [
    "import tensorflow as tf\n",
    "import numpy as np\n",
    "\n",
    "# Parameters\n",
    "epochs = 10\n",
    "learning_rate = 0.000001\n",
    "\n",
    "# Assuming build_combined_model is the function you use to get your compiled model\n",
    "# You might need to pass appropriate arguments based on your function definition\n",
    "encoder = build_autoencoder(input_shape=(239, 105, 105, 2))\n",
    "mlp = build_mlp(input_shape=(60,))\n",
    "combined_model = build_combined_model(encoder, mlp)\n",
    "\n",
    "# If your model isn't already compiled, compile it\n",
    "combined_model.compile(optimizer=tf.keras.optimizers.Adam(learning_rate=learning_rate),\n",
    "                       loss='binary_crossentropy',\n",
    "                       metrics=['accuracy'])\n",
    "\n",
    "with tf.device('/GPU:0'):\n",
    "    # Train the model using the dataset iterator\n",
    "    for epoch in range(epochs):\n",
    "        print(f\"Epoch {epoch + 1}/{epochs}\")\n",
    "\n",
    "        train_dataset_iter, val_dataset_iter = create_dataset_iter(tier, match_ids)\n",
    "\n",
    "        # Training phase\n",
    "        for dataset in train_dataset_iter:\n",
    "            for (x_imgs, x_features), y in dataset:\n",
    "                x_imgs = tf.expand_dims(x_imgs, axis=0)  # Add batch dimension\n",
    "                combined_model.train_on_batch([x_imgs, x_features], y)\n",
    "\n",
    "        # Validation phase\n",
    "        val_loss = []\n",
    "        val_acc = []\n",
    "        for dataset in val_dataset_iter:\n",
    "            for (x_imgs, x_features), y in dataset:\n",
    "                x_imgs = tf.expand_dims(x_imgs, axis=0)  # Add batch dimension\n",
    "                logs = combined_model.test_on_batch([x_imgs, x_features], y)\n",
    "                val_loss.append(logs[0])\n",
    "                val_acc.append(logs[1])\n",
    "\n",
    "        avg_val_loss = sum(val_loss) / len(val_loss)\n",
    "        avg_val_acc = sum(val_acc) / len(val_acc)\n",
    "        print(f\"Validation Loss: {avg_val_loss:.4f}, Validation Accuracy: {avg_val_acc:.4f}\")\n"
   ]
  },
  {
   "cell_type": "code",
   "execution_count": null,
   "metadata": {},
   "outputs": [],
   "source": [
    "import tensorflow as tf\n",
    "\n",
    "# Parameters\n",
    "# input_shape = (239, 160, 160, 2)  # Replace this with the shape of your input images\n",
    "epochs = 10\n",
    "learning_rate = 0.000001\n",
    "\n",
    "# Compile the combined model\n",
    "'''combined_model.compile(optimizer=tf.keras.optimizers.Adam(learning_rate=learning_rate),\n",
    "                       loss='binary_crossentropy',\n",
    "                       metrics=['accuracy'])'''\n",
    "\n",
    "with tf.device('/GPU:0'):\n",
    "    # Train the model using the dataset iterator\n",
    "    for epoch in range(epochs):\n",
    "        print(f\"Epoch {epoch + 1}/{epochs}\")\n",
    "\n",
    "        train_dataset_iter, val_dataset_iter = create_dataset_iter(tier, match_ids)\n",
    "\n",
    "        # Training phase\n",
    "        for dataset in train_dataset_iter:\n",
    "            for (x_imgs, x_features), y in dataset:\n",
    "                x_imgs = tf.expand_dims(x_imgs, axis=0)  # Add batch dimension\n",
    "                combined_model.train_on_batch([x_imgs, x_features], y)\n",
    "\n",
    "        # Validation phase\n",
    "        val_loss = []\n",
    "        val_acc = []\n",
    "        for dataset in val_dataset_iter:\n",
    "            for (x_imgs, x_features), y in dataset:\n",
    "                x_imgs = tf.expand_dims(x_imgs, axis=0)  # Add batch dimension\n",
    "                logs = combined_model.test_on_batch([x_imgs, x_features], y)\n",
    "                val_loss.append(logs[0])\n",
    "                val_acc.append(logs[1])\n",
    "\n",
    "        avg_val_loss = sum(val_loss) / len(val_loss)\n",
    "        avg_val_acc = sum(val_acc) / len(val_acc)\n",
    "        print(f\"Validation Loss: {avg_val_loss:.4f}, Validation Accuracy: {avg_val_acc:.4f}\")"
   ]
  },
  {
   "cell_type": "code",
   "execution_count": null,
   "metadata": {},
   "outputs": [],
   "source": [
    "import os\n",
    "from tqdm import tqdm\n",
    "from PIL import Image, ImageDraw\n",
    "# Example usage\n",
    "POLYGON_POINTS = [(100, 100), (200, 100), (300, 200), (200, 300), (100, 200)]\n",
    "\n",
    "def add_black_polygon(image_path, points):\n",
    "    # Open the image\n",
    "    image = Image.open(image_path)\n",
    "    \n",
    "    # Create a drawing context\n",
    "    draw = ImageDraw.Draw(image)\n",
    "    \n",
    "    # Draw the black polygon on the image\n",
    "    draw.polygon(points, fill=\"black\")\n",
    "    \n",
    "    # Save the image with the black polygon mask\n",
    "    image.save(\"masked_image.png\")\n",
    "\n",
    "\n",
    "def maskingFucntion(dir):\n",
    "    match_ids = os.listdir(dir)\n",
    "    for match_id in tqdm(match_ids):\n",
    "            \n",
    "            # 원래 이미지 파일 폴더 디렉토리\n",
    "            blue_origin_dir = os.path.join(dir, match_id, 'Blue', 'black')\n",
    "            red_origin_dir = os.path.join(dir, match_id, 'Red', 'black')\n",
    "            \n",
    "            # 변환 후 저장할 이미지 파일 폴더 디렉토리\n",
    "            blue_trans_dir = os.path.join(dir, match_id, 'Blue_1', 'black')\n",
    "            red_trans_dir = os.path.join(dir, match_id, 'Red_1', 'black')\n",
    "            \n",
    "            # 새로 만드므로 디렉토리 생성\n",
    "            os.mkdir(os.path.join(dir, match_id, 'Blue_1'))\n",
    "            os.mkdir(os.path.join(dir, match_id, 'Blue_1', 'black'))\n",
    "            os.mkdir(os.path.join(dir, match_id, 'Red_1'))\n",
    "            os.mkdir(os.path.join(dir, match_id, 'Red_1', 'black'))\n",
    "\n",
    "            # 원래 이미지 파일 경로\n",
    "            blue_origin_image_paths = sorted([os.path.join(blue_origin_dir, img) for img in os.listdir(blue_origin_dir)])\n",
    "            red_origin_image_paths = sorted([os.path.join(red_origin_dir, img) for img in os.listdir(red_origin_dir)])\n",
    "            \n",
    "            # 변환 후 저장할 이미지 파일 숫자 ( == 원래 이미지 파일 숫자)\n",
    "            blue_origin_image_paths = sorted(os.listdir(blue_origin_dir))\n",
    "            red_origin_image_paths = sorted(os.listdir(red_origin_dir))\n",
    "\n",
    "\n",
    "            for blue_image_path in blue_origin_image_paths:\n",
    "                 add_black_polygon(blue_image_path, POLYGON_POINTS)\n",
    "            for red_image_path in red_origin_image_paths:\n",
    "                 add_black_polygon(red_image_path, POLYGON_POINTS)\n",
    "          \n",
    "\n",
    "            \n",
    "\n",
    "\n",
    "\n",
    "    \n",
    "add_black_polygon(\"example_image.jpg\", polygon_points)\n",
    "\n"
   ]
  },
  {
   "cell_type": "code",
   "execution_count": null,
   "metadata": {},
   "outputs": [
    {
     "name": "stdout",
     "output_type": "stream",
     "text": [
      "['1.png', '2.png', '3.png', '4.png', '5.png', '6.png', '7.png', '8.png', '9.png', '10.png', '11.png', '12.png', '13.png', '14.png', '15.png', '17.png', '18.png', '19.png', '20.png', '21.png', '22.png', '23.png', '24.png', '25.png', '26.png', '27.png', '28.png', '29.png', '30.png', '31.png', '33.png', '34.png', '35.png', '36.png', '37.png', '38.png', '39.png', '40.png', '41.png', '42.png', '43.png', '44.png', '45.png', '46.png', '47.png', '49.png', '50.png', '51.png', '52.png', '53.png', '54.png', '55.png', '56.png', '57.png', '58.png', '59.png', '60.png', '61.png', '62.png', '63.png', '65.png', '66.png', '67.png', '68.png', '69.png', '70.png', '71.png', '72.png', '73.png', '74.png', '75.png', '76.png', '77.png', '78.png', '79.png', '81.png', '82.png', '83.png', '84.png', '85.png', '86.png', '87.png', '88.png', '89.png', '90.png', '91.png', '92.png', '93.png', '94.png', '95.png', '97.png', '98.png', '99.png', '100.png', '101.png', '102.png', '103.png', '104.png', '105.png', '106.png', '107.png', '108.png', '109.png', '110.png', '111.png', '113.png', '114.png', '115.png', '116.png', '117.png', '118.png', '119.png', '120.png', '121.png', '122.png', '123.png', '124.png', '125.png', '126.png', '127.png', '129.png', '130.png', '131.png', '132.png', '133.png', '134.png', '135.png', '136.png', '137.png', '138.png', '139.png', '140.png', '141.png', '142.png', '143.png', '145.png', '146.png', '147.png', '148.png', '149.png', '150.png', '151.png', '152.png', '153.png', '154.png', '155.png', '156.png', '157.png', '158.png', '159.png', '161.png', '162.png', '163.png', '164.png', '165.png', '166.png', '167.png', '168.png', '169.png', '170.png', '171.png', '172.png', '173.png', '174.png', '175.png', '177.png', '178.png', '179.png', '180.png', '181.png', '182.png', '183.png', '184.png', '185.png', '186.png', '187.png', '188.png', '189.png', '190.png', '191.png', '193.png', '194.png', '195.png', '196.png', '197.png', '198.png', '199.png', '200.png', '201.png', '202.png', '203.png', '204.png', '205.png', '206.png', '207.png', '209.png', '210.png', '211.png', '212.png', '213.png', '214.png', '215.png', '216.png', '217.png', '218.png', '219.png', '220.png', '221.png', '222.png', '223.png', '225.png', '226.png', '227.png', '228.png', '229.png', '230.png', '231.png', '232.png', '233.png', '234.png', '235.png', '236.png', '237.png', '238.png', '239.png', '241.png', '242.png', '243.png', '244.png', '245.png', '246.png', '247.png', '248.png', '249.png', '250.png', '251.png', '252.png', '253.png', '254.png', '255.png', '257.png', '258.png', '259.png', '260.png', '261.png', '262.png', '263.png', '264.png', '265.png', '266.png', '267.png', '268.png', '269.png', '270.png', '271.png', '273.png', '274.png', '275.png', '276.png', '277.png', '278.png', '279.png', '280.png', '281.png', '282.png', '283.png', '284.png', '285.png', '286.png', '287.png', '289.png', '290.png', '291.png', '292.png', '293.png', '294.png', '295.png', '296.png', '297.png', '298.png', '299.png', '300.png', '301.png', '302.png', '303.png', '305.png', '306.png', '307.png', '308.png', '309.png', '310.png', '311.png', '312.png', '313.png', '314.png', '315.png', '316.png', '317.png', '318.png', '319.png', '321.png', '322.png', '323.png', '324.png', '325.png', '326.png', '327.png', '328.png', '329.png', '330.png', '331.png', '332.png', '333.png', '334.png', '335.png', '337.png', '338.png', '339.png', '340.png', '341.png', '342.png', '343.png', '344.png', '345.png', '346.png', '347.png', '348.png', '349.png', '350.png', '351.png', '353.png', '354.png', '355.png', '356.png', '357.png', '358.png', '359.png', '360.png', '361.png', '362.png', '363.png', '364.png', '365.png', '366.png', '367.png', '369.png', '370.png', '371.png', '372.png', '373.png', '374.png', '375.png', '376.png', '377.png', '378.png', '379.png', '380.png', '381.png', '382.png', '383.png', '385.png', '386.png', '387.png', '388.png', '389.png', '390.png', '391.png', '392.png', '393.png', '394.png', '395.png', '396.png', '397.png', '398.png', '399.png', '400.png', '401.png', '402.png', '403.png']\n"
     ]
    }
   ],
   "source": [
    "import os\n",
    "\n",
    "def extract_number_from_filename(filename):\n",
    "    # Extract numbers from the filename\n",
    "    number = int(\"\".join(filter(str.isdigit, filename)))\n",
    "    return number\n",
    "\n",
    "directory = r\"C:\\dataset_final\\CHALLENGER II\\KR-6415876608\\Blue\\black\"\n",
    "file_list = os.listdir(directory)\n",
    "\n",
    "# Sort the file list based on the numeric value in the filename\n",
    "sorted_file_list = sorted(file_list, key=extract_number_from_filename)\n",
    "\n",
    "print(sorted_file_list)\n"
   ]
  },
  {
   "cell_type": "code",
   "execution_count": null,
   "metadata": {},
   "outputs": [],
   "source": [
    "maskingFucntion(r'C:\\dataset_final\\CHALLENGER II')"
   ]
  },
  {
   "cell_type": "code",
   "execution_count": null,
   "metadata": {},
   "outputs": [
    {
     "data": {
      "text/plain": [
       "<keras.engine.functional.Functional at 0x1c886da3d00>"
      ]
     },
     "execution_count": 74,
     "metadata": {},
     "output_type": "execute_result"
    }
   ],
   "source": [
    "combined_model"
   ]
  },
  {
   "attachments": {},
   "cell_type": "markdown",
   "metadata": {},
   "source": [
    "#### SHAP Visualize"
   ]
  },
  {
   "cell_type": "code",
   "execution_count": null,
   "metadata": {},
   "outputs": [],
   "source": [
    "data = requests.get(f\"https://asia.api.riotgames.com/lol/match/v5/matches/KR_6415928037/timeline?api_key=RGAPI-1a1d24de-0002-4894-85cc-6deaf6ec560e\").json()"
   ]
  },
  {
   "cell_type": "code",
   "execution_count": null,
   "metadata": {},
   "outputs": [
    {
     "name": "stdout",
     "output_type": "stream",
     "text": [
      "Model: \"sequential\"\n",
      "_________________________________________________________________\n",
      " Layer (type)                Output Shape              Param #   \n",
      "=================================================================\n",
      " conv_lstm2d (ConvLSTM2D)    (None, 120, 140, 140, 1)  112       \n",
      "                                                                 \n",
      " average_pooling3d (AverageP  (None, 120, 70, 70, 1)   0         \n",
      " ooling3D)                                                       \n",
      "                                                                 \n",
      " conv_lstm2d_1 (ConvLSTM2D)  (None, 120, 70, 70, 2)    224       \n",
      "                                                                 \n",
      " average_pooling3d_1 (Averag  (None, 120, 35, 35, 2)   0         \n",
      " ePooling3D)                                                     \n",
      "                                                                 \n",
      " conv_lstm2d_2 (ConvLSTM2D)  (None, 120, 35, 35, 3)    552       \n",
      "                                                                 \n",
      " average_pooling3d_2 (Averag  (None, 120, 18, 18, 3)   0         \n",
      " ePooling3D)                                                     \n",
      "                                                                 \n",
      " conv_lstm2d_3 (ConvLSTM2D)  (None, 120, 18, 18, 4)    1024      \n",
      "                                                                 \n",
      " average_pooling3d_3 (Averag  (None, 120, 9, 9, 4)     0         \n",
      " ePooling3D)                                                     \n",
      "                                                                 \n",
      " conv_lstm2d_4 (ConvLSTM2D)  (None, 120, 9, 9, 6)      2184      \n",
      "                                                                 \n",
      " average_pooling3d_4 (Averag  (None, 120, 5, 5, 6)     0         \n",
      " ePooling3D)                                                     \n",
      "                                                                 \n",
      " conv_lstm2d_5 (ConvLSTM2D)  (None, 120, 5, 5, 8)      4064      \n",
      "                                                                 \n",
      " average_pooling3d_5 (Averag  (None, 120, 3, 3, 8)     0         \n",
      " ePooling3D)                                                     \n",
      "                                                                 \n",
      " conv_lstm2d_6 (ConvLSTM2D)  (None, 120, 3, 3, 10)     6520      \n",
      "                                                                 \n",
      " average_pooling3d_6 (Averag  (None, 120, 2, 2, 10)    0         \n",
      " ePooling3D)                                                     \n",
      "                                                                 \n",
      " average_pooling3d_7 (Averag  (None, 120, 1, 1, 10)    0         \n",
      " ePooling3D)                                                     \n",
      "                                                                 \n",
      " flatten (Flatten)           (None, 1200)              0         \n",
      "                                                                 \n",
      " dense (Dense)               (None, 1)                 1201      \n",
      "                                                                 \n",
      "=================================================================\n",
      "Total params: 15,881\n",
      "Trainable params: 15,881\n",
      "Non-trainable params: 0\n",
      "_________________________________________________________________\n"
     ]
    }
   ],
   "source": [
    "import tensorflow as tf\n",
    "from tensorflow.keras.models import Sequential\n",
    "from tensorflow.keras.layers import ConvLSTM2D, AveragePooling3D, Flatten, Dense\n",
    "\n",
    "def build_model(input_shape=(120, 140, 140, 2)):\n",
    "    model = Sequential([\n",
    "        # Add ConvLSTM2D layers with return_sequences=True\n",
    "        ConvLSTM2D(filters=1, kernel_size=(3, 3), padding='same', activation='relu', return_sequences=True, input_shape=input_shape),\n",
    "        AveragePooling3D(pool_size=(1, 2, 2), padding='same'),\n",
    "       \n",
    "        ConvLSTM2D(filters=2, kernel_size=(3, 3), padding='same', activation='relu', return_sequences=True),\n",
    "        AveragePooling3D(pool_size=(1, 2, 2), padding='same'),\n",
    "        \n",
    "        ConvLSTM2D(filters=3, kernel_size=(3, 3), padding='same', activation='relu', return_sequences=True),\n",
    "        AveragePooling3D(pool_size=(1, 2, 2), padding='same'),\n",
    "\n",
    "        ConvLSTM2D(filters=4, kernel_size=(3, 3), padding='same', activation='relu', return_sequences=True),\n",
    "        AveragePooling3D(pool_size=(1, 2, 2), padding='same'),\n",
    "\n",
    "        ConvLSTM2D(filters=6, kernel_size=(3, 3), padding='same', activation='relu', return_sequences=True),\n",
    "        AveragePooling3D(pool_size=(1, 2, 2), padding='same'),\n",
    "\n",
    "        ConvLSTM2D(filters=8, kernel_size=(3, 3), padding='same', activation='relu', return_sequences=True),\n",
    "        AveragePooling3D(pool_size=(1, 2, 2), padding='same'),\n",
    "\n",
    "        ConvLSTM2D(filters=10, kernel_size=(3, 3), padding='same', activation='relu', return_sequences=True),\n",
    "        AveragePooling3D(pool_size=(1, 2, 2), padding='same'),\n",
    "        AveragePooling3D(pool_size=(1, 2, 2), padding='same'),\n",
    "        \n",
    "        # Average the sequence and flatten\n",
    "        #AveragePooling3D(pool_size=(input_shape[0], 1, 1)),\n",
    "        Flatten(),\n",
    "\n",
    "        # Output layer for binary classification\n",
    "        Dense(1, activation='sigmoid')\n",
    "    ])\n",
    "    \n",
    "    return model\n",
    "\n",
    "# Build the model\n",
    "model = build_model()\n",
    "\n",
    "# Compile the model with a binary classification loss function and metric\n",
    "model.compile(optimizer='adam', loss='binary_crossentropy', metrics=['accuracy'])\n",
    "\n",
    "# Model summary\n",
    "model.summary()"
   ]
  },
  {
   "cell_type": "code",
   "execution_count": null,
   "metadata": {},
   "outputs": [
    {
     "name": "stdout",
     "output_type": "stream",
     "text": [
      "GPU is available.\n",
      "Num GPUs Available:  1\n",
      "GPU Device Name:  /device:GPU:0\n"
     ]
    }
   ],
   "source": [
    "import tensorflow as tf\n",
    "\n",
    "# Check if GPU is available\n",
    "if tf.test.is_gpu_available():\n",
    "    print(\"GPU is available.\")\n",
    "    print(\"Num GPUs Available: \", len(tf.config.list_physical_devices('GPU')))\n",
    "    print(\"GPU Device Name: \", tf.test.gpu_device_name())\n",
    "else:\n",
    "    print(\"GPU is not available.\")"
   ]
  },
  {
   "cell_type": "code",
   "execution_count": null,
   "metadata": {},
   "outputs": [],
   "source": [
    "import os\n",
    "os.environ[\"CUDA_VISIBLE_DEVICES\"] = \"0\""
   ]
  },
  {
   "cell_type": "code",
   "execution_count": null,
   "metadata": {},
   "outputs": [],
   "source": [
    "tf.debugging.set_log_device_placement(True)"
   ]
  },
  {
   "cell_type": "code",
   "execution_count": null,
   "metadata": {},
   "outputs": [
    {
     "name": "stderr",
     "output_type": "stream",
     "text": [
      "  0%|          | 0/1652 [01:48<?, ?it/s]\n"
     ]
    },
    {
     "name": "stdout",
     "output_type": "stream",
     "text": [
      "Epoch 1/3\n"
     ]
    },
    {
     "name": "stderr",
     "output_type": "stream",
     "text": [
      "100%|██████████| 1858/1858 [23:53<00:00,  1.30it/s]\n",
      "100%|██████████| 206/206 [02:06<00:00,  1.63it/s]\n"
     ]
    },
    {
     "name": "stdout",
     "output_type": "stream",
     "text": [
      "Validation Loss: 0.6900, Validation Accuracy: 0.5680\n",
      "Epoch 2/3\n"
     ]
    },
    {
     "name": "stderr",
     "output_type": "stream",
     "text": [
      "  1%|          | 21/1858 [00:16<24:41,  1.24it/s]\n"
     ]
    },
    {
     "ename": "KeyboardInterrupt",
     "evalue": "",
     "output_type": "error",
     "traceback": [
      "\u001b[1;31m---------------------------------------------------------------------------\u001b[0m",
      "\u001b[1;31mKeyboardInterrupt\u001b[0m                         Traceback (most recent call last)",
      "Cell \u001b[1;32mIn[40], line 14\u001b[0m\n\u001b[0;32m     11\u001b[0m train_dataset_iter, val_dataset_iter \u001b[39m=\u001b[39m create_dataset_iter(tier, match_ids)\n\u001b[0;32m     13\u001b[0m \u001b[39m# Training phase\u001b[39;00m\n\u001b[1;32m---> 14\u001b[0m \u001b[39mfor\u001b[39;00m dataset \u001b[39min\u001b[39;00m train_dataset_iter:\n\u001b[0;32m     15\u001b[0m     \u001b[39mfor\u001b[39;00m x, y \u001b[39min\u001b[39;00m dataset:\n\u001b[0;32m     16\u001b[0m         x \u001b[39m=\u001b[39m tf\u001b[39m.\u001b[39mexpand_dims(x, axis\u001b[39m=\u001b[39m\u001b[39m0\u001b[39m)  \u001b[39m# Add batch dimension\u001b[39;00m\n",
      "Cell \u001b[1;32mIn[38], line 56\u001b[0m, in \u001b[0;36mcreate_dataset_iter.<locals>.generate_data\u001b[1;34m(match_ids)\u001b[0m\n\u001b[0;32m     53\u001b[0m dataset \u001b[39m=\u001b[39m dataset\u001b[39m.\u001b[39mbatch(n_frames)\n\u001b[0;32m     55\u001b[0m \u001b[39m# Fetch label from the API and assign it to the dataset\u001b[39;00m\n\u001b[1;32m---> 56\u001b[0m label \u001b[39m=\u001b[39m get_labels_from_api(match_id)\n\u001b[0;32m     57\u001b[0m label \u001b[39m=\u001b[39m tf\u001b[39m.\u001b[39mexpand_dims(label, axis\u001b[39m=\u001b[39m\u001b[39m0\u001b[39m)  \u001b[39m# Add batch dimension\u001b[39;00m\n\u001b[0;32m     58\u001b[0m dataset \u001b[39m=\u001b[39m dataset\u001b[39m.\u001b[39mmap(\u001b[39mlambda\u001b[39;00m x: (x, label))\n",
      "Cell \u001b[1;32mIn[38], line 10\u001b[0m, in \u001b[0;36mget_labels_from_api\u001b[1;34m(match_id)\u001b[0m\n\u001b[0;32m      8\u001b[0m \u001b[39mdef\u001b[39;00m \u001b[39mget_labels_from_api\u001b[39m(match_id):\n\u001b[0;32m      9\u001b[0m     match_id \u001b[39m=\u001b[39m match_id\u001b[39m.\u001b[39mreplace(\u001b[39m'\u001b[39m\u001b[39m-\u001b[39m\u001b[39m'\u001b[39m,\u001b[39m'\u001b[39m\u001b[39m_\u001b[39m\u001b[39m'\u001b[39m)\n\u001b[1;32m---> 10\u001b[0m     is_blue_win \u001b[39m=\u001b[39m  \u001b[39m1\u001b[39m \u001b[39mif\u001b[39;00m requests\u001b[39m.\u001b[39;49mget(\u001b[39mf\u001b[39;49m\u001b[39m'\u001b[39;49m\u001b[39mhttps://asia.api.riotgames.com/lol/match/v5/matches/\u001b[39;49m\u001b[39m{\u001b[39;49;00mmatch_id\u001b[39m}\u001b[39;49;00m\u001b[39m?api_key=\u001b[39;49m\u001b[39m{\u001b[39;49;00mAPI_KEY\u001b[39m}\u001b[39;49;00m\u001b[39m'\u001b[39;49m)\u001b[39m.\u001b[39mjson()[\u001b[39m'\u001b[39m\u001b[39minfo\u001b[39m\u001b[39m'\u001b[39m][\u001b[39m'\u001b[39m\u001b[39mteams\u001b[39m\u001b[39m'\u001b[39m][\u001b[39m0\u001b[39m][\u001b[39m'\u001b[39m\u001b[39mwin\u001b[39m\u001b[39m'\u001b[39m] \u001b[39m==\u001b[39m \u001b[39mTrue\u001b[39;00m \u001b[39melse\u001b[39;00m \u001b[39m0\u001b[39m\n\u001b[0;32m     11\u001b[0m     label \u001b[39m=\u001b[39m is_blue_win\n\u001b[0;32m     13\u001b[0m     \u001b[39mreturn\u001b[39;00m label\n",
      "File \u001b[1;32m~\\AppData\\Roaming\\Python\\Python39\\site-packages\\requests\\api.py:73\u001b[0m, in \u001b[0;36mget\u001b[1;34m(url, params, **kwargs)\u001b[0m\n\u001b[0;32m     62\u001b[0m \u001b[39mdef\u001b[39;00m \u001b[39mget\u001b[39m(url, params\u001b[39m=\u001b[39m\u001b[39mNone\u001b[39;00m, \u001b[39m*\u001b[39m\u001b[39m*\u001b[39mkwargs):\n\u001b[0;32m     63\u001b[0m \u001b[39m    \u001b[39m\u001b[39mr\u001b[39m\u001b[39m\"\"\"Sends a GET request.\u001b[39;00m\n\u001b[0;32m     64\u001b[0m \n\u001b[0;32m     65\u001b[0m \u001b[39m    :param url: URL for the new :class:`Request` object.\u001b[39;00m\n\u001b[1;32m   (...)\u001b[0m\n\u001b[0;32m     70\u001b[0m \u001b[39m    :rtype: requests.Response\u001b[39;00m\n\u001b[0;32m     71\u001b[0m \u001b[39m    \"\"\"\u001b[39;00m\n\u001b[1;32m---> 73\u001b[0m     \u001b[39mreturn\u001b[39;00m request(\u001b[39m\"\u001b[39m\u001b[39mget\u001b[39m\u001b[39m\"\u001b[39m, url, params\u001b[39m=\u001b[39mparams, \u001b[39m*\u001b[39m\u001b[39m*\u001b[39mkwargs)\n",
      "File \u001b[1;32m~\\AppData\\Roaming\\Python\\Python39\\site-packages\\requests\\api.py:59\u001b[0m, in \u001b[0;36mrequest\u001b[1;34m(method, url, **kwargs)\u001b[0m\n\u001b[0;32m     55\u001b[0m \u001b[39m# By using the 'with' statement we are sure the session is closed, thus we\u001b[39;00m\n\u001b[0;32m     56\u001b[0m \u001b[39m# avoid leaving sockets open which can trigger a ResourceWarning in some\u001b[39;00m\n\u001b[0;32m     57\u001b[0m \u001b[39m# cases, and look like a memory leak in others.\u001b[39;00m\n\u001b[0;32m     58\u001b[0m \u001b[39mwith\u001b[39;00m sessions\u001b[39m.\u001b[39mSession() \u001b[39mas\u001b[39;00m session:\n\u001b[1;32m---> 59\u001b[0m     \u001b[39mreturn\u001b[39;00m session\u001b[39m.\u001b[39mrequest(method\u001b[39m=\u001b[39mmethod, url\u001b[39m=\u001b[39murl, \u001b[39m*\u001b[39m\u001b[39m*\u001b[39mkwargs)\n",
      "File \u001b[1;32m~\\AppData\\Roaming\\Python\\Python39\\site-packages\\requests\\sessions.py:587\u001b[0m, in \u001b[0;36mSession.request\u001b[1;34m(self, method, url, params, data, headers, cookies, files, auth, timeout, allow_redirects, proxies, hooks, stream, verify, cert, json)\u001b[0m\n\u001b[0;32m    582\u001b[0m send_kwargs \u001b[39m=\u001b[39m {\n\u001b[0;32m    583\u001b[0m     \u001b[39m\"\u001b[39m\u001b[39mtimeout\u001b[39m\u001b[39m\"\u001b[39m: timeout,\n\u001b[0;32m    584\u001b[0m     \u001b[39m\"\u001b[39m\u001b[39mallow_redirects\u001b[39m\u001b[39m\"\u001b[39m: allow_redirects,\n\u001b[0;32m    585\u001b[0m }\n\u001b[0;32m    586\u001b[0m send_kwargs\u001b[39m.\u001b[39mupdate(settings)\n\u001b[1;32m--> 587\u001b[0m resp \u001b[39m=\u001b[39m \u001b[39mself\u001b[39m\u001b[39m.\u001b[39msend(prep, \u001b[39m*\u001b[39m\u001b[39m*\u001b[39msend_kwargs)\n\u001b[0;32m    589\u001b[0m \u001b[39mreturn\u001b[39;00m resp\n",
      "File \u001b[1;32m~\\AppData\\Roaming\\Python\\Python39\\site-packages\\requests\\sessions.py:701\u001b[0m, in \u001b[0;36mSession.send\u001b[1;34m(self, request, **kwargs)\u001b[0m\n\u001b[0;32m    698\u001b[0m start \u001b[39m=\u001b[39m preferred_clock()\n\u001b[0;32m    700\u001b[0m \u001b[39m# Send the request\u001b[39;00m\n\u001b[1;32m--> 701\u001b[0m r \u001b[39m=\u001b[39m adapter\u001b[39m.\u001b[39msend(request, \u001b[39m*\u001b[39m\u001b[39m*\u001b[39mkwargs)\n\u001b[0;32m    703\u001b[0m \u001b[39m# Total elapsed time of the request (approximately)\u001b[39;00m\n\u001b[0;32m    704\u001b[0m elapsed \u001b[39m=\u001b[39m preferred_clock() \u001b[39m-\u001b[39m start\n",
      "File \u001b[1;32m~\\AppData\\Roaming\\Python\\Python39\\site-packages\\requests\\adapters.py:489\u001b[0m, in \u001b[0;36mHTTPAdapter.send\u001b[1;34m(self, request, stream, timeout, verify, cert, proxies)\u001b[0m\n\u001b[0;32m    487\u001b[0m \u001b[39mtry\u001b[39;00m:\n\u001b[0;32m    488\u001b[0m     \u001b[39mif\u001b[39;00m \u001b[39mnot\u001b[39;00m chunked:\n\u001b[1;32m--> 489\u001b[0m         resp \u001b[39m=\u001b[39m conn\u001b[39m.\u001b[39;49murlopen(\n\u001b[0;32m    490\u001b[0m             method\u001b[39m=\u001b[39;49mrequest\u001b[39m.\u001b[39;49mmethod,\n\u001b[0;32m    491\u001b[0m             url\u001b[39m=\u001b[39;49murl,\n\u001b[0;32m    492\u001b[0m             body\u001b[39m=\u001b[39;49mrequest\u001b[39m.\u001b[39;49mbody,\n\u001b[0;32m    493\u001b[0m             headers\u001b[39m=\u001b[39;49mrequest\u001b[39m.\u001b[39;49mheaders,\n\u001b[0;32m    494\u001b[0m             redirect\u001b[39m=\u001b[39;49m\u001b[39mFalse\u001b[39;49;00m,\n\u001b[0;32m    495\u001b[0m             assert_same_host\u001b[39m=\u001b[39;49m\u001b[39mFalse\u001b[39;49;00m,\n\u001b[0;32m    496\u001b[0m             preload_content\u001b[39m=\u001b[39;49m\u001b[39mFalse\u001b[39;49;00m,\n\u001b[0;32m    497\u001b[0m             decode_content\u001b[39m=\u001b[39;49m\u001b[39mFalse\u001b[39;49;00m,\n\u001b[0;32m    498\u001b[0m             retries\u001b[39m=\u001b[39;49m\u001b[39mself\u001b[39;49m\u001b[39m.\u001b[39;49mmax_retries,\n\u001b[0;32m    499\u001b[0m             timeout\u001b[39m=\u001b[39;49mtimeout,\n\u001b[0;32m    500\u001b[0m         )\n\u001b[0;32m    502\u001b[0m     \u001b[39m# Send the request.\u001b[39;00m\n\u001b[0;32m    503\u001b[0m     \u001b[39melse\u001b[39;00m:\n\u001b[0;32m    504\u001b[0m         \u001b[39mif\u001b[39;00m \u001b[39mhasattr\u001b[39m(conn, \u001b[39m\"\u001b[39m\u001b[39mproxy_pool\u001b[39m\u001b[39m\"\u001b[39m):\n",
      "File \u001b[1;32m~\\AppData\\Roaming\\Python\\Python39\\site-packages\\urllib3\\connectionpool.py:703\u001b[0m, in \u001b[0;36mHTTPConnectionPool.urlopen\u001b[1;34m(self, method, url, body, headers, retries, redirect, assert_same_host, timeout, pool_timeout, release_conn, chunked, body_pos, **response_kw)\u001b[0m\n\u001b[0;32m    700\u001b[0m     \u001b[39mself\u001b[39m\u001b[39m.\u001b[39m_prepare_proxy(conn)\n\u001b[0;32m    702\u001b[0m \u001b[39m# Make the request on the httplib connection object.\u001b[39;00m\n\u001b[1;32m--> 703\u001b[0m httplib_response \u001b[39m=\u001b[39m \u001b[39mself\u001b[39;49m\u001b[39m.\u001b[39;49m_make_request(\n\u001b[0;32m    704\u001b[0m     conn,\n\u001b[0;32m    705\u001b[0m     method,\n\u001b[0;32m    706\u001b[0m     url,\n\u001b[0;32m    707\u001b[0m     timeout\u001b[39m=\u001b[39;49mtimeout_obj,\n\u001b[0;32m    708\u001b[0m     body\u001b[39m=\u001b[39;49mbody,\n\u001b[0;32m    709\u001b[0m     headers\u001b[39m=\u001b[39;49mheaders,\n\u001b[0;32m    710\u001b[0m     chunked\u001b[39m=\u001b[39;49mchunked,\n\u001b[0;32m    711\u001b[0m )\n\u001b[0;32m    713\u001b[0m \u001b[39m# If we're going to release the connection in ``finally:``, then\u001b[39;00m\n\u001b[0;32m    714\u001b[0m \u001b[39m# the response doesn't need to know about the connection. Otherwise\u001b[39;00m\n\u001b[0;32m    715\u001b[0m \u001b[39m# it will also try to release it and we'll have a double-release\u001b[39;00m\n\u001b[0;32m    716\u001b[0m \u001b[39m# mess.\u001b[39;00m\n\u001b[0;32m    717\u001b[0m response_conn \u001b[39m=\u001b[39m conn \u001b[39mif\u001b[39;00m \u001b[39mnot\u001b[39;00m release_conn \u001b[39melse\u001b[39;00m \u001b[39mNone\u001b[39;00m\n",
      "File \u001b[1;32m~\\AppData\\Roaming\\Python\\Python39\\site-packages\\urllib3\\connectionpool.py:386\u001b[0m, in \u001b[0;36mHTTPConnectionPool._make_request\u001b[1;34m(self, conn, method, url, timeout, chunked, **httplib_request_kw)\u001b[0m\n\u001b[0;32m    384\u001b[0m \u001b[39m# Trigger any extra validation we need to do.\u001b[39;00m\n\u001b[0;32m    385\u001b[0m \u001b[39mtry\u001b[39;00m:\n\u001b[1;32m--> 386\u001b[0m     \u001b[39mself\u001b[39;49m\u001b[39m.\u001b[39;49m_validate_conn(conn)\n\u001b[0;32m    387\u001b[0m \u001b[39mexcept\u001b[39;00m (SocketTimeout, BaseSSLError) \u001b[39mas\u001b[39;00m e:\n\u001b[0;32m    388\u001b[0m     \u001b[39m# Py2 raises this as a BaseSSLError, Py3 raises it as socket timeout.\u001b[39;00m\n\u001b[0;32m    389\u001b[0m     \u001b[39mself\u001b[39m\u001b[39m.\u001b[39m_raise_timeout(err\u001b[39m=\u001b[39me, url\u001b[39m=\u001b[39murl, timeout_value\u001b[39m=\u001b[39mconn\u001b[39m.\u001b[39mtimeout)\n",
      "File \u001b[1;32m~\\AppData\\Roaming\\Python\\Python39\\site-packages\\urllib3\\connectionpool.py:1042\u001b[0m, in \u001b[0;36mHTTPSConnectionPool._validate_conn\u001b[1;34m(self, conn)\u001b[0m\n\u001b[0;32m   1040\u001b[0m \u001b[39m# Force connect early to allow us to validate the connection.\u001b[39;00m\n\u001b[0;32m   1041\u001b[0m \u001b[39mif\u001b[39;00m \u001b[39mnot\u001b[39;00m \u001b[39mgetattr\u001b[39m(conn, \u001b[39m\"\u001b[39m\u001b[39msock\u001b[39m\u001b[39m\"\u001b[39m, \u001b[39mNone\u001b[39;00m):  \u001b[39m# AppEngine might not have  `.sock`\u001b[39;00m\n\u001b[1;32m-> 1042\u001b[0m     conn\u001b[39m.\u001b[39;49mconnect()\n\u001b[0;32m   1044\u001b[0m \u001b[39mif\u001b[39;00m \u001b[39mnot\u001b[39;00m conn\u001b[39m.\u001b[39mis_verified:\n\u001b[0;32m   1045\u001b[0m     warnings\u001b[39m.\u001b[39mwarn(\n\u001b[0;32m   1046\u001b[0m         (\n\u001b[0;32m   1047\u001b[0m             \u001b[39m\"\u001b[39m\u001b[39mUnverified HTTPS request is being made to host \u001b[39m\u001b[39m'\u001b[39m\u001b[39m%s\u001b[39;00m\u001b[39m'\u001b[39m\u001b[39m. \u001b[39m\u001b[39m\"\u001b[39m\n\u001b[1;32m   (...)\u001b[0m\n\u001b[0;32m   1052\u001b[0m         InsecureRequestWarning,\n\u001b[0;32m   1053\u001b[0m     )\n",
      "File \u001b[1;32m~\\AppData\\Roaming\\Python\\Python39\\site-packages\\urllib3\\connection.py:419\u001b[0m, in \u001b[0;36mHTTPSConnection.connect\u001b[1;34m(self)\u001b[0m\n\u001b[0;32m    410\u001b[0m \u001b[39mif\u001b[39;00m (\n\u001b[0;32m    411\u001b[0m     \u001b[39mnot\u001b[39;00m \u001b[39mself\u001b[39m\u001b[39m.\u001b[39mca_certs\n\u001b[0;32m    412\u001b[0m     \u001b[39mand\u001b[39;00m \u001b[39mnot\u001b[39;00m \u001b[39mself\u001b[39m\u001b[39m.\u001b[39mca_cert_dir\n\u001b[1;32m   (...)\u001b[0m\n\u001b[0;32m    415\u001b[0m     \u001b[39mand\u001b[39;00m \u001b[39mhasattr\u001b[39m(context, \u001b[39m\"\u001b[39m\u001b[39mload_default_certs\u001b[39m\u001b[39m\"\u001b[39m)\n\u001b[0;32m    416\u001b[0m ):\n\u001b[0;32m    417\u001b[0m     context\u001b[39m.\u001b[39mload_default_certs()\n\u001b[1;32m--> 419\u001b[0m \u001b[39mself\u001b[39m\u001b[39m.\u001b[39msock \u001b[39m=\u001b[39m ssl_wrap_socket(\n\u001b[0;32m    420\u001b[0m     sock\u001b[39m=\u001b[39;49mconn,\n\u001b[0;32m    421\u001b[0m     keyfile\u001b[39m=\u001b[39;49m\u001b[39mself\u001b[39;49m\u001b[39m.\u001b[39;49mkey_file,\n\u001b[0;32m    422\u001b[0m     certfile\u001b[39m=\u001b[39;49m\u001b[39mself\u001b[39;49m\u001b[39m.\u001b[39;49mcert_file,\n\u001b[0;32m    423\u001b[0m     key_password\u001b[39m=\u001b[39;49m\u001b[39mself\u001b[39;49m\u001b[39m.\u001b[39;49mkey_password,\n\u001b[0;32m    424\u001b[0m     ca_certs\u001b[39m=\u001b[39;49m\u001b[39mself\u001b[39;49m\u001b[39m.\u001b[39;49mca_certs,\n\u001b[0;32m    425\u001b[0m     ca_cert_dir\u001b[39m=\u001b[39;49m\u001b[39mself\u001b[39;49m\u001b[39m.\u001b[39;49mca_cert_dir,\n\u001b[0;32m    426\u001b[0m     ca_cert_data\u001b[39m=\u001b[39;49m\u001b[39mself\u001b[39;49m\u001b[39m.\u001b[39;49mca_cert_data,\n\u001b[0;32m    427\u001b[0m     server_hostname\u001b[39m=\u001b[39;49mserver_hostname,\n\u001b[0;32m    428\u001b[0m     ssl_context\u001b[39m=\u001b[39;49mcontext,\n\u001b[0;32m    429\u001b[0m     tls_in_tls\u001b[39m=\u001b[39;49mtls_in_tls,\n\u001b[0;32m    430\u001b[0m )\n\u001b[0;32m    432\u001b[0m \u001b[39m# If we're using all defaults and the connection\u001b[39;00m\n\u001b[0;32m    433\u001b[0m \u001b[39m# is TLSv1 or TLSv1.1 we throw a DeprecationWarning\u001b[39;00m\n\u001b[0;32m    434\u001b[0m \u001b[39m# for the host.\u001b[39;00m\n\u001b[0;32m    435\u001b[0m \u001b[39mif\u001b[39;00m (\n\u001b[0;32m    436\u001b[0m     default_ssl_context\n\u001b[0;32m    437\u001b[0m     \u001b[39mand\u001b[39;00m \u001b[39mself\u001b[39m\u001b[39m.\u001b[39mssl_version \u001b[39mis\u001b[39;00m \u001b[39mNone\u001b[39;00m\n\u001b[0;32m    438\u001b[0m     \u001b[39mand\u001b[39;00m \u001b[39mhasattr\u001b[39m(\u001b[39mself\u001b[39m\u001b[39m.\u001b[39msock, \u001b[39m\"\u001b[39m\u001b[39mversion\u001b[39m\u001b[39m\"\u001b[39m)\n\u001b[0;32m    439\u001b[0m     \u001b[39mand\u001b[39;00m \u001b[39mself\u001b[39m\u001b[39m.\u001b[39msock\u001b[39m.\u001b[39mversion() \u001b[39min\u001b[39;00m {\u001b[39m\"\u001b[39m\u001b[39mTLSv1\u001b[39m\u001b[39m\"\u001b[39m, \u001b[39m\"\u001b[39m\u001b[39mTLSv1.1\u001b[39m\u001b[39m\"\u001b[39m}\n\u001b[0;32m    440\u001b[0m ):\n",
      "File \u001b[1;32m~\\AppData\\Roaming\\Python\\Python39\\site-packages\\urllib3\\util\\ssl_.py:449\u001b[0m, in \u001b[0;36mssl_wrap_socket\u001b[1;34m(sock, keyfile, certfile, cert_reqs, ca_certs, server_hostname, ssl_version, ciphers, ssl_context, ca_cert_dir, key_password, ca_cert_data, tls_in_tls)\u001b[0m\n\u001b[0;32m    437\u001b[0m     warnings\u001b[39m.\u001b[39mwarn(\n\u001b[0;32m    438\u001b[0m         \u001b[39m\"\u001b[39m\u001b[39mAn HTTPS request has been made, but the SNI (Server Name \u001b[39m\u001b[39m\"\u001b[39m\n\u001b[0;32m    439\u001b[0m         \u001b[39m\"\u001b[39m\u001b[39mIndication) extension to TLS is not available on this platform. \u001b[39m\u001b[39m\"\u001b[39m\n\u001b[1;32m   (...)\u001b[0m\n\u001b[0;32m    445\u001b[0m         SNIMissingWarning,\n\u001b[0;32m    446\u001b[0m     )\n\u001b[0;32m    448\u001b[0m \u001b[39mif\u001b[39;00m send_sni:\n\u001b[1;32m--> 449\u001b[0m     ssl_sock \u001b[39m=\u001b[39m _ssl_wrap_socket_impl(\n\u001b[0;32m    450\u001b[0m         sock, context, tls_in_tls, server_hostname\u001b[39m=\u001b[39;49mserver_hostname\n\u001b[0;32m    451\u001b[0m     )\n\u001b[0;32m    452\u001b[0m \u001b[39melse\u001b[39;00m:\n\u001b[0;32m    453\u001b[0m     ssl_sock \u001b[39m=\u001b[39m _ssl_wrap_socket_impl(sock, context, tls_in_tls)\n",
      "File \u001b[1;32m~\\AppData\\Roaming\\Python\\Python39\\site-packages\\urllib3\\util\\ssl_.py:493\u001b[0m, in \u001b[0;36m_ssl_wrap_socket_impl\u001b[1;34m(sock, ssl_context, tls_in_tls, server_hostname)\u001b[0m\n\u001b[0;32m    490\u001b[0m     \u001b[39mreturn\u001b[39;00m SSLTransport(sock, ssl_context, server_hostname)\n\u001b[0;32m    492\u001b[0m \u001b[39mif\u001b[39;00m server_hostname:\n\u001b[1;32m--> 493\u001b[0m     \u001b[39mreturn\u001b[39;00m ssl_context\u001b[39m.\u001b[39;49mwrap_socket(sock, server_hostname\u001b[39m=\u001b[39;49mserver_hostname)\n\u001b[0;32m    494\u001b[0m \u001b[39melse\u001b[39;00m:\n\u001b[0;32m    495\u001b[0m     \u001b[39mreturn\u001b[39;00m ssl_context\u001b[39m.\u001b[39mwrap_socket(sock)\n",
      "File \u001b[1;32mc:\\Users\\김성윤\\.conda\\envs\\lolpago\\lib\\ssl.py:500\u001b[0m, in \u001b[0;36mSSLContext.wrap_socket\u001b[1;34m(self, sock, server_side, do_handshake_on_connect, suppress_ragged_eofs, server_hostname, session)\u001b[0m\n\u001b[0;32m    494\u001b[0m \u001b[39mdef\u001b[39;00m \u001b[39mwrap_socket\u001b[39m(\u001b[39mself\u001b[39m, sock, server_side\u001b[39m=\u001b[39m\u001b[39mFalse\u001b[39;00m,\n\u001b[0;32m    495\u001b[0m                 do_handshake_on_connect\u001b[39m=\u001b[39m\u001b[39mTrue\u001b[39;00m,\n\u001b[0;32m    496\u001b[0m                 suppress_ragged_eofs\u001b[39m=\u001b[39m\u001b[39mTrue\u001b[39;00m,\n\u001b[0;32m    497\u001b[0m                 server_hostname\u001b[39m=\u001b[39m\u001b[39mNone\u001b[39;00m, session\u001b[39m=\u001b[39m\u001b[39mNone\u001b[39;00m):\n\u001b[0;32m    498\u001b[0m     \u001b[39m# SSLSocket class handles server_hostname encoding before it calls\u001b[39;00m\n\u001b[0;32m    499\u001b[0m     \u001b[39m# ctx._wrap_socket()\u001b[39;00m\n\u001b[1;32m--> 500\u001b[0m     \u001b[39mreturn\u001b[39;00m \u001b[39mself\u001b[39;49m\u001b[39m.\u001b[39;49msslsocket_class\u001b[39m.\u001b[39;49m_create(\n\u001b[0;32m    501\u001b[0m         sock\u001b[39m=\u001b[39;49msock,\n\u001b[0;32m    502\u001b[0m         server_side\u001b[39m=\u001b[39;49mserver_side,\n\u001b[0;32m    503\u001b[0m         do_handshake_on_connect\u001b[39m=\u001b[39;49mdo_handshake_on_connect,\n\u001b[0;32m    504\u001b[0m         suppress_ragged_eofs\u001b[39m=\u001b[39;49msuppress_ragged_eofs,\n\u001b[0;32m    505\u001b[0m         server_hostname\u001b[39m=\u001b[39;49mserver_hostname,\n\u001b[0;32m    506\u001b[0m         context\u001b[39m=\u001b[39;49m\u001b[39mself\u001b[39;49m,\n\u001b[0;32m    507\u001b[0m         session\u001b[39m=\u001b[39;49msession\n\u001b[0;32m    508\u001b[0m     )\n",
      "File \u001b[1;32mc:\\Users\\김성윤\\.conda\\envs\\lolpago\\lib\\ssl.py:1040\u001b[0m, in \u001b[0;36mSSLSocket._create\u001b[1;34m(cls, sock, server_side, do_handshake_on_connect, suppress_ragged_eofs, server_hostname, context, session)\u001b[0m\n\u001b[0;32m   1037\u001b[0m         \u001b[39mif\u001b[39;00m timeout \u001b[39m==\u001b[39m \u001b[39m0.0\u001b[39m:\n\u001b[0;32m   1038\u001b[0m             \u001b[39m# non-blocking\u001b[39;00m\n\u001b[0;32m   1039\u001b[0m             \u001b[39mraise\u001b[39;00m \u001b[39mValueError\u001b[39;00m(\u001b[39m\"\u001b[39m\u001b[39mdo_handshake_on_connect should not be specified for non-blocking sockets\u001b[39m\u001b[39m\"\u001b[39m)\n\u001b[1;32m-> 1040\u001b[0m         \u001b[39mself\u001b[39;49m\u001b[39m.\u001b[39;49mdo_handshake()\n\u001b[0;32m   1041\u001b[0m \u001b[39mexcept\u001b[39;00m (\u001b[39mOSError\u001b[39;00m, \u001b[39mValueError\u001b[39;00m):\n\u001b[0;32m   1042\u001b[0m     \u001b[39mself\u001b[39m\u001b[39m.\u001b[39mclose()\n",
      "File \u001b[1;32mc:\\Users\\김성윤\\.conda\\envs\\lolpago\\lib\\ssl.py:1309\u001b[0m, in \u001b[0;36mSSLSocket.do_handshake\u001b[1;34m(self, block)\u001b[0m\n\u001b[0;32m   1307\u001b[0m     \u001b[39mif\u001b[39;00m timeout \u001b[39m==\u001b[39m \u001b[39m0.0\u001b[39m \u001b[39mand\u001b[39;00m block:\n\u001b[0;32m   1308\u001b[0m         \u001b[39mself\u001b[39m\u001b[39m.\u001b[39msettimeout(\u001b[39mNone\u001b[39;00m)\n\u001b[1;32m-> 1309\u001b[0m     \u001b[39mself\u001b[39;49m\u001b[39m.\u001b[39;49m_sslobj\u001b[39m.\u001b[39;49mdo_handshake()\n\u001b[0;32m   1310\u001b[0m \u001b[39mfinally\u001b[39;00m:\n\u001b[0;32m   1311\u001b[0m     \u001b[39mself\u001b[39m\u001b[39m.\u001b[39msettimeout(timeout)\n",
      "\u001b[1;31mKeyboardInterrupt\u001b[0m: "
     ]
    }
   ],
   "source": [
    "# Parameters\n",
    "input_shape = (140, 140, 2)  # Replace this with the shape of your input images\n",
    "epochs = 3\n",
    "learning_rate = 0.01\n",
    "\n",
    "with tf.device('/GPU:0'):\n",
    "    # Train the model using the dataset iterator\n",
    "    for epoch in range(epochs):\n",
    "        print(f\"Epoch {epoch + 1}/{epochs}\")\n",
    "\n",
    "        train_dataset_iter, val_dataset_iter = create_dataset_iter(tier, match_ids)\n",
    "\n",
    "        # Training phase\n",
    "        for dataset in train_dataset_iter:\n",
    "            for x, y in dataset:\n",
    "                x = tf.expand_dims(x, axis=0)  # Add batch dimension\n",
    "                model.train_on_batch(x, y)\n",
    "\n",
    "        # Validation phase\n",
    "        val_loss = []\n",
    "        val_acc = []\n",
    "        for dataset in val_dataset_iter:\n",
    "            for x, y in dataset:\n",
    "                x = tf.expand_dims(x, axis=0)  # Add batch dimension\n",
    "                logs = model.test_on_batch(x, y)\n",
    "                val_loss.append(logs[0])\n",
    "                val_acc.append(logs[1])\n",
    "\n",
    "        avg_val_loss = sum(val_loss) / len(val_loss)\n",
    "        avg_val_acc = sum(val_acc) / len(val_acc)\n",
    "        print(f\"Validation Loss: {avg_val_loss:.4f}, Validation Accuracy: {avg_val_acc:.4f}\")\n"
   ]
  },
  {
   "cell_type": "code",
   "execution_count": null,
   "metadata": {},
   "outputs": [
    {
     "name": "stdout",
     "output_type": "stream",
     "text": [
      "Epoch 1/10\n"
     ]
    },
    {
     "name": "stderr",
     "output_type": "stream",
     "text": [
      " 43%|████▎     | 880/2064 [1:35:14<2:16:08,  6.90s/it]"
     ]
    }
   ],
   "source": [
    "# Parameters\n",
    "input_shape = (210, 210, 2)  # Replace this with the shape of your input images\n",
    "epochs = 10\n",
    "learning_rate = 0.001\n",
    "\n",
    "# Train the model using the dataset iterator\n",
    "for epoch in range(epochs):\n",
    "    print(f\"Epoch {epoch + 1}/{epochs}\")\n",
    "\n",
    "    for dataset in create_dataset_iter(tier, match_ids):\n",
    "        for x, y in dataset:\n",
    "            x = tf.expand_dims(x, axis=0)  # Add batch dimension\n",
    "            model.train_on_batch(x, y)\n"
   ]
  },
  {
   "cell_type": "code",
   "execution_count": null,
   "metadata": {},
   "outputs": [],
   "source": [
    "num_samples = 2064\n",
    "batch_size = 8\n",
    "\n",
    "val_fraction = 0.2  # Use 20% of the dataset for validation\n",
    "num_val_samples = int(num_samples * val_fraction)\n",
    "\n",
    "val_dataset = dataset.take(num_val_samples)\n",
    "train_dataset = dataset.skip(num_val_samples)\n",
    "\n",
    "# Calculate the steps_per_epoch and validation_steps\n",
    "steps_per_epoch = (num_samples - num_val_samples) // batch_size\n",
    "validation_steps = num_val_samples // batch_size\n",
    "\n",
    "# Train the model using the data generator\n",
    "epochs = 10  # Number of epochs, modify this according to your problem\n",
    "model.fit(train_dataset, epochs=epochs, validation_data=val_dataset, batch_size=batch_size, steps_per_epoch=steps_per_epoch, validation_steps=validation_steps)\n",
    "\n"
   ]
  },
  {
   "cell_type": "code",
   "execution_count": null,
   "metadata": {},
   "outputs": [
    {
     "name": "stdout",
     "output_type": "stream",
     "text": [
      "Model: \"sequential_4\"\n",
      "_________________________________________________________________\n",
      " Layer (type)                Output Shape              Param #   \n",
      "=================================================================\n",
      " conv_lstm2d_20 (ConvLSTM2D)  (None, 379, 840, 840, 4)  880      \n",
      "                                                                 \n",
      " average_pooling3d_24 (Avera  (None, 379, 420, 420, 4)  0        \n",
      " gePooling3D)                                                    \n",
      "                                                                 \n",
      " conv_lstm2d_21 (ConvLSTM2D)  (None, 379, 420, 420, 8)  3488     \n",
      "                                                                 \n",
      " average_pooling3d_25 (Avera  (None, 379, 210, 210, 8)  0        \n",
      " gePooling3D)                                                    \n",
      "                                                                 \n",
      " conv_lstm2d_22 (ConvLSTM2D)  (None, 379, 210, 210, 16  13888    \n",
      "                             )                                   \n",
      "                                                                 \n",
      " average_pooling3d_26 (Avera  (None, 379, 105, 105, 16  0        \n",
      " gePooling3D)                )                                   \n",
      "                                                                 \n",
      " conv_lstm2d_23 (ConvLSTM2D)  (None, 379, 105, 105, 32  55424    \n",
      "                             )                                   \n",
      "                                                                 \n",
      " average_pooling3d_27 (Avera  (None, 379, 53, 53, 32)  0         \n",
      " gePooling3D)                                                    \n",
      "                                                                 \n",
      " conv_lstm2d_24 (ConvLSTM2D)  (None, 379, 53, 53, 64)  221440    \n",
      "                                                                 \n",
      " average_pooling3d_28 (Avera  (None, 379, 27, 27, 64)  0         \n",
      " gePooling3D)                                                    \n",
      "                                                                 \n",
      " average_pooling3d_29 (Avera  (None, 1, 27, 27, 64)    0         \n",
      " gePooling3D)                                                    \n",
      "                                                                 \n",
      " flatten_4 (Flatten)         (None, 46656)             0         \n",
      "                                                                 \n",
      " dense_4 (Dense)             (None, 1)                 46657     \n",
      "                                                                 \n",
      "=================================================================\n",
      "Total params: 341,777\n",
      "Trainable params: 341,777\n",
      "Non-trainable params: 0\n",
      "_________________________________________________________________\n"
     ]
    }
   ],
   "source": [
    "import tensorflow as tf\n",
    "from tensorflow.keras.models import Sequential\n",
    "from tensorflow.keras.layers import ConvLSTM2D, AveragePooling3D, Flatten, Dense\n",
    "\n",
    "def build_model(input_shape=(379, 840, 840, 2)):\n",
    "    model = Sequential([\n",
    "        # Add ConvLSTM2D layers with return_sequences=True\n",
    "        ConvLSTM2D(filters=4, kernel_size=(3, 3), padding='same', activation='relu', return_sequences=True, input_shape=input_shape),\n",
    "        AveragePooling3D(pool_size=(1, 2, 2), padding='same'),\n",
    "        \n",
    "        ConvLSTM2D(filters=8, kernel_size=(3, 3), padding='same', activation='relu', return_sequences=True),\n",
    "        AveragePooling3D(pool_size=(1, 2, 2), padding='same'),\n",
    "        \n",
    "        ConvLSTM2D(filters=16, kernel_size=(3, 3), padding='same', activation='relu', return_sequences=True),\n",
    "        AveragePooling3D(pool_size=(1, 2, 2), padding='same'),\n",
    "        \n",
    "        ConvLSTM2D(filters=32, kernel_size=(3, 3), padding='same', activation='relu', return_sequences=True),\n",
    "        AveragePooling3D(pool_size=(1, 2, 2), padding='same'),\n",
    "        \n",
    "        ConvLSTM2D(filters=64, kernel_size=(3, 3), padding='same', activation='relu', return_sequences=True),\n",
    "        AveragePooling3D(pool_size=(1, 2, 2), padding='same'),\n",
    "        \n",
    "        # Average the sequence and flatten\n",
    "        AveragePooling3D(pool_size=(input_shape[0], 1, 1)),\n",
    "        Flatten(),\n",
    "        \n",
    "        # Output layer for binary classification\n",
    "        Dense(1, activation='sigmoid')\n",
    "    ])\n",
    "    \n",
    "    return model\n",
    "\n",
    "# Build the model\n",
    "model = build_model()\n",
    "\n",
    "# Compile the model with a binary classification loss function and metric\n",
    "model.compile(optimizer='adam', loss='binary_crossentropy', metrics=['accuracy'])\n",
    "\n",
    "# Model summary\n",
    "model.summary()"
   ]
  },
  {
   "cell_type": "code",
   "execution_count": null,
   "metadata": {},
   "outputs": [
    {
     "name": "stdout",
     "output_type": "stream",
     "text": [
      "Epoch 1/10\n"
     ]
    },
    {
     "ename": "ValueError",
     "evalue": "in user code:\n\n    File \"C:\\Users\\김성윤\\AppData\\Roaming\\Python\\Python39\\site-packages\\keras\\engine\\training.py\", line 1160, in train_function  *\n        return step_function(self, iterator)\n    File \"C:\\Users\\김성윤\\AppData\\Roaming\\Python\\Python39\\site-packages\\keras\\engine\\training.py\", line 1146, in step_function  **\n        outputs = model.distribute_strategy.run(run_step, args=(data,))\n    File \"C:\\Users\\김성윤\\AppData\\Roaming\\Python\\Python39\\site-packages\\keras\\engine\\training.py\", line 1135, in run_step  **\n        outputs = model.train_step(data)\n    File \"C:\\Users\\김성윤\\AppData\\Roaming\\Python\\Python39\\site-packages\\keras\\engine\\training.py\", line 998, in train_step\n        return self.compute_metrics(x, y, y_pred, sample_weight)\n    File \"C:\\Users\\김성윤\\AppData\\Roaming\\Python\\Python39\\site-packages\\keras\\engine\\training.py\", line 1092, in compute_metrics\n        self.compiled_metrics.update_state(y, y_pred, sample_weight)\n    File \"C:\\Users\\김성윤\\AppData\\Roaming\\Python\\Python39\\site-packages\\keras\\engine\\compile_utils.py\", line 577, in update_state\n        self.build(y_pred, y_true)\n    File \"C:\\Users\\김성윤\\AppData\\Roaming\\Python\\Python39\\site-packages\\keras\\engine\\compile_utils.py\", line 483, in build\n        self._metrics = tf.__internal__.nest.map_structure_up_to(\n    File \"C:\\Users\\김성윤\\AppData\\Roaming\\Python\\Python39\\site-packages\\keras\\engine\\compile_utils.py\", line 631, in _get_metric_objects\n        return [self._get_metric_object(m, y_t, y_p) for m in metrics]\n    File \"C:\\Users\\김성윤\\AppData\\Roaming\\Python\\Python39\\site-packages\\keras\\engine\\compile_utils.py\", line 631, in <listcomp>\n        return [self._get_metric_object(m, y_t, y_p) for m in metrics]\n    File \"C:\\Users\\김성윤\\AppData\\Roaming\\Python\\Python39\\site-packages\\keras\\engine\\compile_utils.py\", line 652, in _get_metric_object\n        y_t_rank = len(y_t.shape.as_list())\n\n    ValueError: as_list() is not defined on an unknown TensorShape.\n",
     "output_type": "error",
     "traceback": [
      "\u001b[1;31m---------------------------------------------------------------------------\u001b[0m",
      "\u001b[1;31mValueError\u001b[0m                                Traceback (most recent call last)",
      "Cell \u001b[1;32mIn[20], line 16\u001b[0m\n\u001b[0;32m     14\u001b[0m \u001b[39m# Train the model using the data generator\u001b[39;00m\n\u001b[0;32m     15\u001b[0m epochs \u001b[39m=\u001b[39m \u001b[39m10\u001b[39m  \u001b[39m# Number of epochs, modify this according to your problem\u001b[39;00m\n\u001b[1;32m---> 16\u001b[0m model\u001b[39m.\u001b[39;49mfit(train_dataset, epochs\u001b[39m=\u001b[39;49mepochs, validation_data\u001b[39m=\u001b[39;49mval_dataset, batch_size\u001b[39m=\u001b[39;49mbatch_size, steps_per_epoch\u001b[39m=\u001b[39;49msteps_per_epoch, validation_steps\u001b[39m=\u001b[39;49mvalidation_steps)\n",
      "File \u001b[1;32m~\\AppData\\Roaming\\Python\\Python39\\site-packages\\keras\\utils\\traceback_utils.py:70\u001b[0m, in \u001b[0;36mfilter_traceback.<locals>.error_handler\u001b[1;34m(*args, **kwargs)\u001b[0m\n\u001b[0;32m     67\u001b[0m     filtered_tb \u001b[39m=\u001b[39m _process_traceback_frames(e\u001b[39m.\u001b[39m__traceback__)\n\u001b[0;32m     68\u001b[0m     \u001b[39m# To get the full stack trace, call:\u001b[39;00m\n\u001b[0;32m     69\u001b[0m     \u001b[39m# `tf.debugging.disable_traceback_filtering()`\u001b[39;00m\n\u001b[1;32m---> 70\u001b[0m     \u001b[39mraise\u001b[39;00m e\u001b[39m.\u001b[39mwith_traceback(filtered_tb) \u001b[39mfrom\u001b[39;00m \u001b[39mNone\u001b[39m\n\u001b[0;32m     71\u001b[0m \u001b[39mfinally\u001b[39;00m:\n\u001b[0;32m     72\u001b[0m     \u001b[39mdel\u001b[39;00m filtered_tb\n",
      "File \u001b[1;32m~\\AppData\\Local\\Temp\\__autograph_generated_file0xk_566y.py:15\u001b[0m, in \u001b[0;36mouter_factory.<locals>.inner_factory.<locals>.tf__train_function\u001b[1;34m(iterator)\u001b[0m\n\u001b[0;32m     13\u001b[0m \u001b[39mtry\u001b[39;00m:\n\u001b[0;32m     14\u001b[0m     do_return \u001b[39m=\u001b[39m \u001b[39mTrue\u001b[39;00m\n\u001b[1;32m---> 15\u001b[0m     retval_ \u001b[39m=\u001b[39m ag__\u001b[39m.\u001b[39mconverted_call(ag__\u001b[39m.\u001b[39mld(step_function), (ag__\u001b[39m.\u001b[39mld(\u001b[39mself\u001b[39m), ag__\u001b[39m.\u001b[39mld(iterator)), \u001b[39mNone\u001b[39;00m, fscope)\n\u001b[0;32m     16\u001b[0m \u001b[39mexcept\u001b[39;00m:\n\u001b[0;32m     17\u001b[0m     do_return \u001b[39m=\u001b[39m \u001b[39mFalse\u001b[39;00m\n",
      "\u001b[1;31mValueError\u001b[0m: in user code:\n\n    File \"C:\\Users\\김성윤\\AppData\\Roaming\\Python\\Python39\\site-packages\\keras\\engine\\training.py\", line 1160, in train_function  *\n        return step_function(self, iterator)\n    File \"C:\\Users\\김성윤\\AppData\\Roaming\\Python\\Python39\\site-packages\\keras\\engine\\training.py\", line 1146, in step_function  **\n        outputs = model.distribute_strategy.run(run_step, args=(data,))\n    File \"C:\\Users\\김성윤\\AppData\\Roaming\\Python\\Python39\\site-packages\\keras\\engine\\training.py\", line 1135, in run_step  **\n        outputs = model.train_step(data)\n    File \"C:\\Users\\김성윤\\AppData\\Roaming\\Python\\Python39\\site-packages\\keras\\engine\\training.py\", line 998, in train_step\n        return self.compute_metrics(x, y, y_pred, sample_weight)\n    File \"C:\\Users\\김성윤\\AppData\\Roaming\\Python\\Python39\\site-packages\\keras\\engine\\training.py\", line 1092, in compute_metrics\n        self.compiled_metrics.update_state(y, y_pred, sample_weight)\n    File \"C:\\Users\\김성윤\\AppData\\Roaming\\Python\\Python39\\site-packages\\keras\\engine\\compile_utils.py\", line 577, in update_state\n        self.build(y_pred, y_true)\n    File \"C:\\Users\\김성윤\\AppData\\Roaming\\Python\\Python39\\site-packages\\keras\\engine\\compile_utils.py\", line 483, in build\n        self._metrics = tf.__internal__.nest.map_structure_up_to(\n    File \"C:\\Users\\김성윤\\AppData\\Roaming\\Python\\Python39\\site-packages\\keras\\engine\\compile_utils.py\", line 631, in _get_metric_objects\n        return [self._get_metric_object(m, y_t, y_p) for m in metrics]\n    File \"C:\\Users\\김성윤\\AppData\\Roaming\\Python\\Python39\\site-packages\\keras\\engine\\compile_utils.py\", line 631, in <listcomp>\n        return [self._get_metric_object(m, y_t, y_p) for m in metrics]\n    File \"C:\\Users\\김성윤\\AppData\\Roaming\\Python\\Python39\\site-packages\\keras\\engine\\compile_utils.py\", line 652, in _get_metric_object\n        y_t_rank = len(y_t.shape.as_list())\n\n    ValueError: as_list() is not defined on an unknown TensorShape.\n"
     ]
    }
   ],
   "source": [
    "num_samples = 2064\n",
    "batch_size = 8\n",
    "\n",
    "val_fraction = 0.2  # Use 20% of the dataset for validation\n",
    "num_val_samples = int(num_samples * val_fraction)\n",
    "\n",
    "val_dataset = dataset.take(num_val_samples)\n",
    "train_dataset = dataset.skip(num_val_samples)\n",
    "\n",
    "# Calculate the steps_per_epoch and validation_steps\n",
    "steps_per_epoch = (num_samples - num_val_samples) // batch_size\n",
    "validation_steps = num_val_samples // batch_size\n",
    "\n",
    "# Train the model using the data generator\n",
    "epochs = 10  # Number of epochs, modify this according to your problem\n",
    "model.fit(train_dataset, epochs=epochs, validation_data=val_dataset, batch_size=batch_size, steps_per_epoch=steps_per_epoch, validation_steps=validation_steps)\n",
    "\n"
   ]
  },
  {
   "cell_type": "code",
   "execution_count": null,
   "metadata": {},
   "outputs": [],
   "source": [
    "def create_dataset(tier, match_ids, blue_folder='Blue', red_folder='Red', n_frames=379):\n",
    "    all_datasets = []\n",
    "\n",
    "    for match_id in tqdm(match_ids):\n",
    "        blue_dir = os.path.join(tier, match_id, blue_folder, 'black')\n",
    "        red_dir = os.path.join(tier, match_id, red_folder, 'black')\n",
    "\n",
    "        blue_image_paths = sorted([os.path.join(blue_dir, img) for img in os.listdir(blue_dir)])\n",
    "        red_image_paths = sorted([os.path.join(red_dir, img) for img in os.listdir(red_dir)])\n",
    "\n",
    "        dataset = tf.data.Dataset.from_tensor_slices((blue_image_paths, red_image_paths))\n",
    "        dataset = dataset.map(load_image_pair, num_parallel_calls=tf.data.experimental.AUTOTUNE)\n",
    "        #dataset = tf.squeeze(dataset, axis=[0])\n",
    "        dataset = dataset.batch(n_frames)\n",
    "        dataset = dataset.batch(1).prefetch(tf.data.experimental.AUTOTUNE)\n",
    "        \n",
    "        # Fetch label from the API and assign it to the dataset\n",
    "        label = get_labels_from_api(match_id)\n",
    "        dataset = dataset.map(lambda x: (x, tf.reshape(label, (1,))))\n",
    "        #tf.reshape(tf.cast(tf.strings.to_number(label), tf.float32), (1,))\n",
    "        #tf.data.experimental.set_shapes(dataset, ((n_frames, 512, 512, 2), ()))\n",
    "        #dataset.element_spec = (tf.TensorShape([n_frames, 512, 512, 2]), tf.TensorShape([]))\n",
    "        \n",
    "        all_datasets.append(dataset)\n",
    "        \n",
    "\n",
    "    combined_dataset = reduce(lambda ds1, ds2: ds1.concatenate(ds2), all_datasets)\n",
    "    return combined_dataset"
   ]
  },
  {
   "cell_type": "code",
   "execution_count": null,
   "metadata": {},
   "outputs": [],
   "source": [
    "import cv2\n",
    "import matplotlib.pyplot as plt\n",
    "\n",
    "img = cv2.imread(r'C:\\dataset_final\\CHALLENGER\\KR-6416887364\\Red\\12.png')\n",
    "red_color = (0,0,255)\n",
    "blue_color = (255,0,0)\n",
    "\n",
    "#### ?\n",
    "img = cv2.line(img,(370,400),(200,300),red_color, 5)\n",
    "img = cv2.line(img,(200,300),(135,165),red_color, 5)\n",
    "img = cv2.line(img,(135,165),(100,200),red_color, 5)\n",
    "img = cv2.line(img,(100,200),(100,550),red_color, 5)\n",
    "img = cv2.line(img,(100,550),(150,550),red_color, 5)\n",
    "img = cv2.line(img,(150,550),(200,575),red_color, 5)\n",
    "img = cv2.line(img,(200,575),(370,400),red_color, 5)\n",
    "\n",
    "img = cv2.line(img,(840-370,830-400),(840-200,830-300),red_color, 5)\n",
    "img = cv2.line(img,(840-200,830-300),(840-135,830-165),red_color, 5)\n",
    "img = cv2.line(img,(840-135,830-165),(840-100,830-200),red_color, 5)\n",
    "img = cv2.line(img,(840-100,830-200),(840-100,830-550),red_color, 5)\n",
    "img = cv2.line(img,(840-100,830-550),(840-150,830-550),red_color, 5)\n",
    "img = cv2.line(img,(840-150,830-550),(840-200,830-575),red_color, 5)\n",
    "img = cv2.line(img,(840-200,830-575),(840-370,830-400),red_color, 5)\n",
    "\n",
    "#### %\n",
    "img = cv2.line(img,(415,365),(350,325),red_color, 5)\n",
    "img = cv2.line(img,(350,325),(300,200),red_color, 5)\n",
    "img = cv2.line(img,(300,200),(210,210),red_color, 5)\n",
    "img = cv2.line(img,(210,210),(200,110),red_color, 5)\n",
    "img = cv2.line(img,(200,110),(230,100),red_color, 5)\n",
    "img = cv2.line(img,(230,100),(550,100),red_color, 5)\n",
    "img = cv2.line(img,(550,100),(550,150),red_color, 5)\n",
    "img = cv2.line(img,(550,150),(575,200),red_color, 5)\n",
    "img = cv2.line(img,(575,200),(415,365),red_color, 5)\n",
    "\n",
    "#### ^^\n",
    "img = cv2.line(img,(840-415,830-365),(840-350,830-325),red_color, 5)\n",
    "img = cv2.line(img,(840-350,830-325),(840-300,830-200),red_color, 5)\n",
    "img = cv2.line(img,(840-300,830-200),(840-210,830-210),red_color, 5)\n",
    "img = cv2.line(img,(840-210,830-210),(840-200,830-110),red_color, 5)\n",
    "img = cv2.line(img,(840-200,830-110),(840-230,830-100),red_color, 5)\n",
    "img = cv2.line(img,(840-230,830-100),(840-550,830-100),red_color, 5)\n",
    "img = cv2.line(img,(840-550,830-100),(840-550,830-150),red_color, 5)\n",
    "img = cv2.line(img,(840-550,830-150),(840-575,830-200),red_color, 5)\n",
    "img = cv2.line(img,(840-575,830-200),(840-415,830-365),red_color, 5)\n",
    "\n",
    "# 시계방향 ####\n",
    "img = cv2.line(img,(370,400),(200,300),blue_color, 5)\n",
    "img = cv2.line(img,(200,300),(135,165),blue_color, 5)\n",
    "img = cv2.line(img,(135,165),(200,110),blue_color, 5)\n",
    "img = cv2.line(img,(200,110),(210,210),blue_color, 5)\n",
    "img = cv2.line(img,(210,210),(300,200),blue_color, 5)\n",
    "img = cv2.line(img,(300,200),(350,325),blue_color, 5)\n",
    "img = cv2.line(img,(350,325),(415,365),blue_color, 5)\n",
    "img = cv2.line(img,(415,365),(370,400),blue_color, 5)\n",
    "\n",
    "####!\n",
    "img = cv2.line(img,(840-370,830-400),(840-200,830-300),blue_color, 5)\n",
    "img = cv2.line(img,(840-200,830-300),(840-135,830-165),blue_color, 5)\n",
    "img = cv2.line(img,(840-135,830-165),(840-200,830-110),blue_color, 5)\n",
    "img = cv2.line(img,(840-200,830-110),(840-210,830-210),blue_color, 5)\n",
    "img = cv2.line(img,(840-210,830-210),(840-300,830-200),blue_color, 5)\n",
    "img = cv2.line(img,(840-300,830-200),(840-350,830-325),blue_color, 5)\n",
    "img = cv2.line(img,(840-350,830-325),(840-415,830-365),blue_color, 5)\n",
    "img = cv2.line(img,(840-415,830-365),(840-370,830-400),blue_color, 5)\n",
    "\n",
    "\n",
    "cv2.imshow(\"f\", img)\n",
    "cv2.waitKey(0)\n",
    "cv2.destroyAllWindows()"
   ]
  },
  {
   "cell_type": "code",
   "execution_count": null,
   "metadata": {},
   "outputs": [
    {
     "data": {
      "text/plain": [
       "'cv2.imshow(\"Triangle ROI\", triangle_roi)\\ncv2.waitKey(0)\\ncv2.destroyAllWindows()'"
      ]
     },
     "execution_count": 1,
     "metadata": {},
     "output_type": "execute_result"
    }
   ],
   "source": [
    "import os\n",
    "import cv2\n",
    "import numpy as np\n",
    "from PIL import Image\n",
    "from tqdm import tqdm\n",
    "import csv\n",
    "import requests\n",
    "\n",
    "\n",
    "def get_triangle_roi(image, points):\n",
    "    mask = np.zeros_like(image)\n",
    "    cv2.fillPoly(mask, [points], (255, 255, 255))\n",
    "    roi = cv2.bitwise_and(image, mask)\n",
    "    return roi\n",
    "\n",
    "def calculate_pixel_sum(image_gray):\n",
    "    pixel_sum = np.sum(image_gray)\n",
    "    return pixel_sum//255\n",
    "\n",
    "\n",
    "blue_jug_near_baron = [(370,400),(200,300),(135,165),(100,200),(100,550),(150,550),(200,575)]\n",
    "\n",
    "blue_jug_near_drake = [(840-415,830-365),(840-350,830-325),(840-300,830-200),(840-210,830-210),(840-200,830-110),(840-230,830-100),(840-550,830-100),(840-550,830-150),(840-575,830-200),(840-415,830-365)]\n",
    "\n",
    "red_jug_near_baron = [(415,365),(350,325),(300,200),(210,210),(200,110),(230,100),(550,100),(550,150),(575,200),(415,365)]\n",
    "\n",
    "red_jug_near_drake = [(840-415,830-365),(840-350,830-325),(840-300,830-200),(840-210,830-210),(840-200,830-110),(840-230,830-100),(840-550,830-100),(840-550,830-150),(840-575,830-200),(840-415,830-365)]\n",
    "\n",
    "river_near_baron = [(370,400),(200,300),(135,165),(200,110),(210,210),(300,200),(350,325),(415,365),(370,400)]\n",
    "\n",
    "river_near_drake = [(840-370,830-400),(840-200,830-300),(840-135,830-165),(840-200,830-110),(840-210,830-210),(840-300,830-200),(840-350,830-325),(840-415,830-365),(840-370,830-400)]\n",
    "\n",
    "\n",
    "def get_is_win(matchid, team_color):\n",
    "    \n",
    "    API_KEY = 'RGAPI-1a1d24de-0002-4894-85cc-6deaf6ec560e'\n",
    "    matchID = matchid.replace('-','_')\n",
    "    if team_color == 'Blue':\n",
    "        return 1 if requests.get(f'https://asia.api.riotgames.com/lol/match/v5/matches/{matchID}?api_key={API_KEY}').json()['info']['teams'][0]['win'] == True else 0\n",
    "    else: \n",
    "        return 1 if requests.get(f'https://asia.api.riotgames.com/lol/match/v5/matches/{matchID}?api_key={API_KEY}').json()['info']['teams'][1]['win'] == True else 0\n",
    "   \n",
    "\n",
    "# 이미지 파일 읽기\n",
    "\n",
    "def get_each_Vision_Area(image_dir):    #image_dir 예시 : r'C:\\dataset\\CHALLENGER\\KR-6415928037\\Blue\\black\\105.png'\n",
    "    \n",
    "    #image = cv2.imread(r'C:\\dataset\\CHALLENGER\\KR-6415928037\\Blue\\black\\105.png')\n",
    "    image = cv2.imread(image_dir)\n",
    "\n",
    "    triangle_BJ_B = get_triangle_roi(image, np.array(blue_jug_near_baron))\n",
    "    area_BJ_B = calculate_pixel_sum(triangle_BJ_B)\n",
    "    #print(\"블루팀 블루근처 시야면적:\", area_BJ_B)\n",
    "\n",
    "    triangle_BJ_D = get_triangle_roi(image, np.array(blue_jug_near_drake))\n",
    "    area_BJ_D = calculate_pixel_sum(triangle_BJ_D)\n",
    "    #print(\"블루팀 레드근처 시야면적:\", area_BJ_D)\n",
    "\n",
    "    triangle_RJ_B = get_triangle_roi(image, np.array(red_jug_near_baron))\n",
    "    area_RJ_B = calculate_pixel_sum(triangle_RJ_B)\n",
    "    #print(\"레드팀 레드근처 시야면적:\", area_RJ_B)\n",
    "\n",
    "    triangle_RJ_D = get_triangle_roi(image, np.array(red_jug_near_drake))\n",
    "    area_RJ_D = calculate_pixel_sum(triangle_RJ_D)\n",
    "    #print(\"레드팀 블루근처 시야면적:\", area_RJ_D)\n",
    "\n",
    "    triangle_BARON_RIVER = get_triangle_roi(image, np.array(river_near_baron))\n",
    "    area_BARON_RIVER = calculate_pixel_sum(triangle_BARON_RIVER)\n",
    "    #print(\"바론 강가 시야면적:\", area_BARON_RIVER)\n",
    "\n",
    "    triangle_DRAKE_RIVER = get_triangle_roi(image, np.array(river_near_drake))\n",
    "    area_DRAKE_RIVER = calculate_pixel_sum(triangle_DRAKE_RIVER)\n",
    "    #print(\"용 강가 시야면적:\", area_DRAKE_RIVER)\n",
    "\n",
    "    return [area_BJ_B, area_BJ_D, area_RJ_B, area_RJ_D, area_BARON_RIVER, area_DRAKE_RIVER]\n",
    "\n",
    "# 해당 티어에 있는 경기들의 면적 정보들을 csv 파일로 정리. \n",
    "def get_each_Vision_Area_Per_Tier(project_folder_dir, tier):\n",
    "\n",
    "    # EXAMPLE ##########################################\n",
    "    # project_folder_dir : C:\\Users\\김성윤\\Desktop\\pyLoL 때로는 C:\\dataset\n",
    "    # tier : CHALLENGER\n",
    "    #################################################### \n",
    "    INITIAL = 0\n",
    "    match_folders = os.listdir(f'{project_folder_dir}\\{tier}')\n",
    "    project_folder_dir = f'{project_folder_dir}\\{tier}'\n",
    "\n",
    "    # 각 경기 폴더들 => 예시 : C:\\Users\\김성윤\\Desktop\\pyLoL\\CHALLENGER\\KR-6415928037\n",
    "\n",
    "    f = open(rf'C:\\dataset\\{tier}_dataset.csv','a', newline='')\n",
    "    features = ['matchID']\n",
    "    for i in range(379):\n",
    "        features.extend([f'블루바론{i}',f'블루용{i}',f'레드바론{i}',f'레드용{i}',f'바론{i}',f'용{i}'])\n",
    "\n",
    "    features.append('is_win')\n",
    "\n",
    "    print(len(features))\n",
    "\n",
    "    wr = csv.writer(f)\n",
    "    wr.writerow(features)\n",
    "    f.close()\n",
    "    for m_folder in tqdm(match_folders):\n",
    "\n",
    "        # 레드, 블루\n",
    "        team_folders = os.listdir(f'{project_folder_dir}\\{m_folder}')\n",
    "\n",
    "        #os.remove(rf'{folder_dir}\\{m_folder}\\{t_folder}\\black\\{removed_index}.png')\n",
    "\n",
    "        i = INITIAL\n",
    "        \n",
    "        for t_folder in team_folders:\n",
    "            \n",
    "            data = [f'{m_folder}_{t_folder}']\n",
    "\n",
    "            #csv file write\n",
    "            f = open(rf'C:\\dataset\\{tier}_dataset.csv','a', newline='')\n",
    "            wr = csv.writer(f)\n",
    "\n",
    "            files = os.listdir(f'{project_folder_dir}\\{m_folder}\\{t_folder}\\\\black')\n",
    "            for file in files:\n",
    "                data.extend(get_each_Vision_Area(rf'{project_folder_dir}\\{m_folder}\\{t_folder}\\\\black\\{file}'))\n",
    "\n",
    "            data.extend(str(get_is_win(m_folder, t_folder)))\n",
    "            wr.writerow(data)\n",
    "            f.close()\n",
    "            \n",
    "            #os.remove(rf'{folder_dir}\\{m_folder}\\{t_folder}\\black\\{removed_index}.png')\n",
    "\n",
    "    print('Done!')\n"
   ]
  },
  {
   "cell_type": "code",
   "execution_count": null,
   "metadata": {},
   "outputs": [
    {
     "data": {
      "text/plain": [
       "[10536, 10395, 11079, 10395, 13038, 9840]"
      ]
     },
     "execution_count": 53,
     "metadata": {},
     "output_type": "execute_result"
    }
   ],
   "source": [
    "get_each_Vision_Area(r'C:\\dataset\\CHALLENGER\\KR-6415876608\\Blue\\black\\25.png')"
   ]
  },
  {
   "cell_type": "code",
   "execution_count": null,
   "metadata": {},
   "outputs": [
    {
     "data": {
      "text/plain": [
       "False"
      ]
     },
     "execution_count": 7,
     "metadata": {},
     "output_type": "execute_result"
    }
   ],
   "source": [
    "  "
   ]
  },
  {
   "cell_type": "code",
   "execution_count": null,
   "metadata": {},
   "outputs": [
    {
     "name": "stdout",
     "output_type": "stream",
     "text": [
      "2276\n"
     ]
    },
    {
     "name": "stderr",
     "output_type": "stream",
     "text": [
      "100%|██████████| 181/181 [31:57<00:00, 10.60s/it]"
     ]
    },
    {
     "name": "stdout",
     "output_type": "stream",
     "text": [
      "Done!\n"
     ]
    },
    {
     "name": "stderr",
     "output_type": "stream",
     "text": [
      "\n"
     ]
    }
   ],
   "source": [
    "# 챌린저 유저 경기분석 결과 저장\n",
    "# team 100 = blue , team 200 = red , team 300 = ai\n",
    "\n",
    "project_folder_dir = r'C:\\dataset'\n",
    "tier = 'GOLD III'\n",
    "\n",
    "get_each_Vision_Area_Per_Tier(project_folder_dir, tier)\n"
   ]
  }
 ],
 "metadata": {
  "kernelspec": {
   "display_name": "Python 3",
   "language": "python",
   "name": "python3"
  },
  "language_info": {
   "codemirror_mode": {
    "name": "ipython",
    "version": 3
   },
   "file_extension": ".py",
   "mimetype": "text/x-python",
   "name": "python",
   "nbconvert_exporter": "python",
   "pygments_lexer": "ipython3",
   "version": "3.9.11"
  },
  "orig_nbformat": 4,
  "vscode": {
   "interpreter": {
    "hash": "82ed002fa2d4956f5c6aec99bcefe0f73a9f79882f3c9e2319b14958a5896ac5"
   }
  }
 },
 "nbformat": 4,
 "nbformat_minor": 2
}
