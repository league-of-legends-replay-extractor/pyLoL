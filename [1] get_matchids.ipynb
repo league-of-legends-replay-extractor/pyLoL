{
 "cells": [
  {
   "cell_type": "code",
   "execution_count": null,
   "metadata": {},
   "outputs": [],
   "source": [
    "import os\n",
    "from dotenv import load_dotenv\n",
    "\n",
    "from autoLeague.dataset.generator import DataGenerator\n",
    "from autoLeague.utils.csv_utils import save_to_csv\n",
    "from autoLeague.utils.patch_info import get_patch_info\n",
    "\n",
    "load_dotenv()  \n",
    "API_KEY = os.environ[\"API_KEY\"]\n",
    "print(f\"API_KEY: {API_KEY}\")\n",
    "get_patch_info()"
   ]
  },
  {
   "cell_type": "markdown",
   "metadata": {},
   "source": [
    "<div style=\"font-size: 13px\">\n",
    "  <b>✅ 출력 예시 / Output example</b><br><br>\n",
    "  <b>현재 시각 | Current time</b> : <code>2025-07-06 01:29:48</code><br>\n",
    "  <b>과거 최신 패치 | Most recent past patch</b> : <code>25.13</code><br>\n",
    "  <b>패치일 | Patch date</b> : <code>2025-06-25</code>\n",
    "\n",
    "  <hr>\n",
    "\n",
    "  <b>📝 Note</b><br><br>\n",
    "  - 리플레이 <code>.rofl</code> 파일은 <b>현 패치 버전</b>에서만 다운로드 가능하므로, <b>패치 일정</b>을 확인한 뒤 아래 변수에 입력하세요.<br>\n",
    "  - 최신 패치일 ~ 오늘 사이 아무 날짜를 넣어도 정상 동작합니다.\n",
    "\n",
    "\n",
    "<pre><code>patch_start_datetime = \"2025.06.30\"  # → 2025-06-30 부터 오늘까지 경기 다운로드\n",
    "</code></pre>\n",
    "\n",
    "</div>\n",
    "\n",
    "<div style=\"font-size: 13px\">\n",
    "  <b>✅ Output example</b><br><br>\n",
    "  <b>Current time</b> : <code>2025-07-06 01:29:48</code><br>\n",
    "  <b>Most recent past patch</b> : <code>25.13</code><br>\n",
    "  <b>Patch date</b> : <code>2025-06-25</code>\n",
    "\n",
    "  <hr>\n",
    "\n",
    "  📝 <b>Note</b><br>\n",
    "  - Replay <code>.rofl</code> files can be downloaded <b>only for the current patch version</b>, so check the patch schedule first and enter the date in the variable below.<br>\n",
    "  - Any date between the latest patch date and today will work.\n",
    "\n",
    "\n",
    "<pre style=\"font-size: 13px\"><code>patch_start_datetime = \"2025.06.30\"  # → downloads matches from 2025-06-30 up to today\n",
    "</code></pre>\n",
    "\n",
    "</div>"
   ]
  },
  {
   "cell_type": "markdown",
   "metadata": {},
   "source": [
    "<div style=\"font-size: 13px\">\n",
    "    <b> [KR] Data Generator 초기 세팅 : Riot API KEY 와, 각 소환사마다 최대 몇개의 경기를 불러올 것인지 세팅(api에서 최대 100까지 지원)</b></br><br>\n",
    "    <b> [EN] Initial Data Generator Setup: Configure the \"Riot API KEY\" and the maximum number of matches to retrieve per summoner(~100 matches per summoner)</b></br><br>\n",
    "</div>"
   ]
  },
  {
   "cell_type": "code",
   "execution_count": 5,
   "metadata": {},
   "outputs": [],
   "source": [
    "dg = DataGenerator(api_key=API_KEY, count=100)"
   ]
  },
  {
   "cell_type": "markdown",
   "metadata": {},
   "source": [
    "<div style=\"font-size: 13px\">\n",
    "    <b> [KR] </b></br></br>\n",
    "    <b> [OPTION-1] : 하나의 특정 TIER, DIVISION 전적 조회 및 저장 </b></br>\n",
    "    <b>            각 티어, 분기에서의 소환사들 전적(matchid) 조회 및 저장(csv)</b></br>\n",
    "</br>\n",
    "    <b> [EN] </b></br></br>\n",
    "    <b> [OPTION-1] : Retrieve and save match history (match IDs) for a specific TIER and DIVISION. </b></br>\n",
    "    <b>            Retrieve and save match histories (match IDs) of summoners for each tier and division as CSV files.</b></br></br>\n",
    "</div>"
   ]
  },
  {
   "cell_type": "code",
   "execution_count": 6,
   "metadata": {},
   "outputs": [
    {
     "name": "stderr",
     "output_type": "stream",
     "text": [
      "[CHALLENGER-I] fetch matchIds: 100%|==================================================| 300/300 [00:41<00:00,  7.27it/s]\n"
     ]
    }
   ],
   "source": [
    "matchIds_challenger = dg.get_tier_matchIds(\n",
    "                                            queue='RANKED_SOLO_5x5',         # Queue type: Summoner's Rift Ranked Solo 5v5\n",
    "                                            tier='CHALLENGER',               # Tier: CHALLENGER (highest competitive tier)\n",
    "                                            division='I',                    # Division: I (CHALLENGER~MASTER technically only have one division \"I\" )\n",
    "                                            max_ids=300,                     # Maximum number of match IDs to fetch\n",
    "                                            patch_start_datetime='2025.06.26',  # Only fetch matches after this patch release date\n",
    "                                            min_game_duration=15,           # Minimum game duration in minutes (filters out early surrenders/remakes)\n",
    "                                            max_game_duration=45,            # Maximum game duration in minutes (filters out abnormal long matches)\n",
    "                                                                            # With this setting, solo ranked matches in the CHALLENGER tier on the KR server from June 26 onward will be collected, limited to games lasting between 15 and 30 minutes.\n",
    "                                                                            # The maximum number of summoners to collect is set to 300. (This is a reasonable number for the CHALLENGER tier, as it is the highest competitive tier and has fewer players than lower tiers.)\n",
    "                                           max_workers=16\n",
    "                                           )\n",
    "\n",
    "save_to_csv(matchIds_challenger, rf'matchids/sample_challenger_patch25_13_1.csv', 'matchid')"
   ]
  },
  {
   "cell_type": "markdown",
   "metadata": {},
   "source": [
    "<div style=\"font-size: 13px\">\n",
    "    <b> [KR] </b></br><br>\n",
    "    <b> [OPTION-2] : 여러 TIER, DIVISION 전적 조회 및 저장 </b></br>\n",
    "    <b>            여러개 티어, 분기에서의 소환사들 전적(matchid) 조회 및 저장(csv)</b></br>\n",
    "</br>\n",
    "    <b> [EN] </b></br><br>\n",
    "    <b> [OPTION-2] : Retrieve and save match histories across multiple TIERS and DIVISIONS. </b></br>\n",
    "    <b>            Retrieve and save match histories (match IDs) of summoners across multiple TIERS and DIVISIONS as CSV files.</b></br>\n",
    "</div>"
   ]
  },
  {
   "cell_type": "code",
   "execution_count": 6,
   "metadata": {},
   "outputs": [
    {
     "name": "stderr",
     "output_type": "stream",
     "text": [
      "[CHALLENGER-I] fetch matchIds: 100%|==================================================| 300/300 [03:28<00:00,  1.44it/s]\n",
      "[GRANDMASTER-I] fetch matchIds: 100%|=================================================| 700/700 [08:40<00:00,  1.35it/s]\n",
      "[MASTER-I] fetch matchIds: 100%|====================================================| 1000/1000 [13:04<00:00,  1.28it/s]\n"
     ]
    }
   ],
   "source": [
    "# ── 설정값만 위에서 한 번 정의 ──────────────────────────────\n",
    "PATCH_START     = \"2025.06.26\"                              # patch_start_datetime 값\n",
    "PATCH_VER       = \"25_13\"                                   # 파일명에 넣을 패치 버전\n",
    "TIERS           = [\"CHALLENGER\", \"GRANDMASTER\", \"MASTER\"]   # [\"DIAMOND\", \"EMERALD\", \"PLATINUM\", \"GOLD\", \"SILVER\", \"BRONZE\", \"IRON\"]\n",
    "MAXIDS_PER_TIER = [300, 700, 1000]                          # 각 티어별로 최대 몇 개의 matchid 를 가져올지\n",
    "DIVISIONS       = [\"I\"]                                     # 다이아몬드 이하에서만 I ~ IV 적용 [\"I\", \"II\", \"III\", \"IV\"]\n",
    "OUT_DIR         = \"matchids\"                                # 저장 경로 (예 : pyLoL/matchids)\n",
    "\n",
    "# ── 폴더 준비 ───────────────────────────────────────────────\n",
    "import os, pathlib\n",
    "pathlib.Path(OUT_DIR).mkdir(parents=True, exist_ok=True)\n",
    "\n",
    "# ── 다운로드 + CSV 저장 루프 ────────────────────────────────\n",
    "for tier, max_ids in zip(TIERS, MAXIDS_PER_TIER):\n",
    "    for div in DIVISIONS:\n",
    "        match_ids = dg.get_tier_matchIds(\n",
    "            queue=\"RANKED_SOLO_5x5\",\n",
    "            tier=tier,\n",
    "            division=div,\n",
    "            max_ids=max_ids,\n",
    "            patch_start_datetime=PATCH_START,\n",
    "            min_game_duration=15,\n",
    "            max_game_duration=60,\n",
    "            max_workers=8\n",
    "        )\n",
    "        save_to_csv(\n",
    "            match_ids,\n",
    "            rf\"{OUT_DIR}/matchids_{tier}_{div}_patch{PATCH_VER}.csv\",\n",
    "            \"matchid\",\n",
    "        )"
   ]
  }
 ],
 "metadata": {
  "kernelspec": {
   "display_name": "lol",
   "language": "python",
   "name": "python3"
  },
  "language_info": {
   "codemirror_mode": {
    "name": "ipython",
    "version": 3
   },
   "file_extension": ".py",
   "mimetype": "text/x-python",
   "name": "python",
   "nbconvert_exporter": "python",
   "pygments_lexer": "ipython3",
   "version": "3.12.9"
  }
 },
 "nbformat": 4,
 "nbformat_minor": 2
}
