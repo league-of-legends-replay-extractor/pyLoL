{
 "cells": [
  {
   "attachments": {},
   "cell_type": "markdown",
   "metadata": {},
   "source": [
    "#### 데이터셋 수집 및 전처리 과정"
   ]
  },
  {
   "attachments": {},
   "cell_type": "markdown",
   "metadata": {},
   "source": [
    "#### 각 티어별 경기 아이디 리스트 받아오기"
   ]
  },
  {
   "cell_type": "code",
   "execution_count": 10,
   "metadata": {},
   "outputs": [],
   "source": [
    "from autoLeague.dataset.generator import DataGenerator as dg"
   ]
  },
  {
   "cell_type": "code",
   "execution_count": 11,
   "metadata": {},
   "outputs": [],
   "source": [
    "dg.__init__(dg, api_key='API_KEY' , count=20)"
   ]
  },
  {
   "cell_type": "code",
   "execution_count": null,
   "metadata": {},
   "outputs": [],
   "source": [
    "matchIds_challenger"
   ]
  },
  {
   "cell_type": "code",
   "execution_count": 14,
   "metadata": {},
   "outputs": [
    {
     "name": "stderr",
     "output_type": "stream",
     "text": [
      "Gathering summoner_ids by Riot_API... : 100%|=======================================| 5000/5000 [22:53<00:00,  3.64it/s]\n",
      "Gathering puuids by Riot_API from summoner_ids... : 100%|=========================| 5000/5000 [1:19:26<00:00,  1.05it/s]\n"
     ]
    }
   ],
   "source": [
    "# 챌린저 300명, 그마 700명 경기 수집\n",
    "# matchIds_challenger  = dg.get_tier_matchIds(dg, queue='RANKED_SOLO_5x5', tier='CHALLENGER', division='I' , max_ids=100, patch_start_datetime='2023.10.26')\n",
    "# matchIds_grandmaster = dg.get_tier_matchIds(dg, queue='RANKED_SOLO_5x5', tier='GRANDMASTER', division='I' , max_ids=700, patch_start_datetime='2023.10.26')\n",
    "matchIds_master = dg.get_tier_matchIds(dg, queue='RANKED_SOLO_5x5', tier='MASTER', division='I' , max_ids=5000, patch_start_datetime='2023.10.26')\n",
    "# matchid 합치기\n",
    "# matchIds_challenger.extend(matchIds_grandmaster)\n",
    "# matchIds_challenger.extend(matchIds_master)\n",
    "\n",
    "matchIds_master = list(set(matchIds_master))"
   ]
  },
  {
   "cell_type": "code",
   "execution_count": 15,
   "metadata": {},
   "outputs": [],
   "source": [
    "matchIds_challenger = list(set(matchIds_master) - set(matchIds_challenger))"
   ]
  },
  {
   "cell_type": "code",
   "execution_count": 16,
   "metadata": {},
   "outputs": [
    {
     "data": {
      "text/plain": [
       "3387"
      ]
     },
     "execution_count": 16,
     "metadata": {},
     "output_type": "execute_result"
    }
   ],
   "source": [
    "len(matchIds_challenger)"
   ]
  },
  {
   "attachments": {},
   "cell_type": "markdown",
   "metadata": {},
   "source": [
    "#### 위에서 받아온 경기 아이디들에 대해서 리플레이 파일 저장하기"
   ]
  },
  {
   "cell_type": "code",
   "execution_count": 17,
   "metadata": {},
   "outputs": [
    {
     "name": "stdout",
     "output_type": "stream",
     "text": [
      "fkEeIkdi8vDaENuKaifrrg\n"
     ]
    }
   ],
   "source": [
    "from autoLeague.dataset.downloader import ReplayDownlader as rd\n",
    "\n",
    "# must run lol client\n",
    "rd.__init__(rd)\n",
    "rd.set_replays_dir(rd,folder_dir = r'C:\\Users\\김성윤\\Documents\\League of Legends\\Replays')"
   ]
  },
  {
   "cell_type": "code",
   "execution_count": 18,
   "metadata": {},
   "outputs": [
    {
     "name": "stderr",
     "output_type": "stream",
     "text": [
      "Gathering Replay_files(.rofl) from LoL Client... : 100%|====================================| 1000/1000 [1:57:30<00:00,  7.05s/it]\n"
     ]
    }
   ],
   "source": [
    "from tqdm import tqdm\n",
    "import time\n",
    "\n",
    "for matchId in tqdm(matchIds_challenger[:1000], \n",
    "                    desc = 'Gathering Replay_files(.rofl) from LoL Client... ', ## 진행률 앞쪽 출력 문장\n",
    "                    ncols = 130, ## 진행률 출력 폭 조절\n",
    "                    ascii = ' =', \n",
    "                    leave=True):\n",
    "    \n",
    "    try: #시즌 지난 경기면 패스\n",
    "        rd.download(rd, matchId)\n",
    "        time.sleep(7)\n",
    "    except:\n",
    "        pass"
   ]
  },
  {
   "attachments": {},
   "cell_type": "markdown",
   "metadata": {},
   "source": [
    "#### 리플레이 실행 => 미니맵 이미지 시퀀스 저장"
   ]
  },
  {
   "cell_type": "code",
   "execution_count": 2,
   "metadata": {},
   "outputs": [
    {
     "data": {
      "text/plain": [
       "1000"
      ]
     },
     "execution_count": 2,
     "metadata": {},
     "output_type": "execute_result"
    }
   ],
   "source": [
    "from autoLeague.bin.utils import Utils as ut\n",
    "from autoLeague.replays.scraper import ReplayScraper as rs\n",
    "from autoLeague.replays.editor import ImageEditor as ie\n",
    "\n",
    "import os\n",
    "import json\n",
    "import requests\n",
    "import time\n",
    "import pyautogui\n",
    "\n",
    "rs.__init__(rs, game_dir = r'C:\\Riot Games\\League of Legends\\Game',\n",
    "            replay_dir = r'C:\\Users\\김성윤\\Documents\\League of Legends\\Replays',\n",
    "            dataset_dir = r'C:\\Users\\김성윤\\Documents\\League of Legends\\Dataset',\n",
    "            scraper_dir = r'C:\\Users\\김성윤\\Desktop\\pyLoL\\pyLoL\\autoLeague\\replays',\n",
    "            replay_speed=40,\n",
    "            region=\"KR\")\n",
    "\n",
    "ie.__init__(ie,dataset_dir=r'C:\\Users\\김성윤\\Desktop\\pyLoL')\n",
    "\n",
    "files = os.listdir(rs.get_replay_dir(rs))\n",
    "replays = [file for file in files if file.endswith(\".rofl\")]\n",
    "len(replays)"
   ]
  },
  {
   "cell_type": "code",
   "execution_count": 3,
   "metadata": {},
   "outputs": [
    {
     "name": "stderr",
     "output_type": "stream",
     "text": [
      "Extracting Replay_Minimaps from LoL Client... : 100%|==============================================================================================================| 164/164 [5:42:06<00:00, 125.16s/it]\n"
     ]
    }
   ],
   "source": [
    "# run_client(self, replay_path, start, end, speed, paused)\n",
    "from tqdm import tqdm\n",
    "\n",
    "for replay in tqdm(replays[402:566],\n",
    "                    desc = 'Extracting Replay_Minimaps from LoL Client... ', ## 진행률 앞쪽 출력 문장\n",
    "                    ncols = 200, ## 진행률 출력 폭 조절\n",
    "                    ascii = ' =', \n",
    "                    leave=True\n",
    "                    ):\n",
    "    \n",
    "    rs.run_client(rs,\n",
    "                  replay_path = rf'{rs.get_replay_dir(rs)}\\{replay}', \n",
    "                  gameId = replay.split('.')[0],\n",
    "                  start=5*60 - 5, \n",
    "                  end=25*60 - 5, \n",
    "                  speed=10, \n",
    "                  paused=False, \n",
    "                  team=\"All\")\n",
    "\n",
    "    # rs.run_client(rs,\n",
    "    #               replay_path = rf'{rs.get_replay_dir(rs)}\\{replay}', \n",
    "    #               gameId = replay.split('.')[0],\n",
    "    #               start=5*60 - 5, \n",
    "    #               end=15*60 + 5, \n",
    "    #               speed=10, \n",
    "    #               paused=False, \n",
    "    #               team=\"Red\")\n",
    "    \n",
    "    # rs.run_client(rs,\n",
    "    #               replay_path = rf'{rs.get_replay_dir(rs)}\\{replay}', \n",
    "    #               gameId = replay.split('.')[0],\n",
    "    #               start=5*60 - 5, \n",
    "    #               end=15*60 + 5, \n",
    "    #               speed=10, \n",
    "    #               paused=False, \n",
    "    #               team=\"Blue\")"
   ]
  },
  {
   "cell_type": "code",
   "execution_count": null,
   "metadata": {},
   "outputs": [],
   "source": [
    "#### 데이터 전처리\n",
    "\n",
    "from autoLeague.preprocess.ocr_center_window import OcrCenter as oc\n",
    "oc.__init__(oc, project_folder_dir = r'C:\\Users\\김성윤\\Desktop\\pyLoL')\n",
    "oc.get_ocr(oc)"
   ]
  },
  {
   "cell_type": "code",
   "execution_count": null,
   "metadata": {},
   "outputs": [
    {
     "name": "stdout",
     "output_type": "stream",
     "text": [
      "['KR-6729286331', 'KR-6729309863', 'KR-6729391340', 'KR-6729527624', 'KR-6729545954', 'KR-6729563729', 'KR-6729613333', 'KR-6729619650', 'KR-6729668299', 'KR-6729770806', 'KR-6729849233', 'KR-6729891097', 'KR-6729935229', 'KR-6729968092', 'KR-6730012001', 'KR-6730033444', 'KR-6730046486', 'KR-6730051792', 'KR-6730089807', 'KR-6730098133', 'KR-6730104168', 'KR-6730165482', 'KR-6730186203', 'KR-6730195156', 'KR-6730200286', 'KR-6730279980', 'KR-6730289170', 'KR-6730340666', 'KR-6730356080', 'KR-6730368393', 'KR-6730400351', 'KR-6730468267', 'KR-6730473946', 'KR-6730507477', 'KR-6730576290', 'KR-6730620595', 'KR-6730633794', 'KR-6730635238', 'KR-6730683020', 'KR-6730693448', 'KR-6730705263', 'KR-6730721023', 'KR-6730743069', 'KR-6730747220', 'KR-6730782896', 'KR-6730806127']\n"
     ]
    },
    {
     "name": "stderr",
     "output_type": "stream",
     "text": [
      "100%|██████████| 46/46 [01:57<00:00,  2.56s/it]\n"
     ]
    },
    {
     "name": "stdout",
     "output_type": "stream",
     "text": [
      "['KR-6729286331', 'KR-6729309863', 'KR-6729391340', 'KR-6729527624', 'KR-6729545954', 'KR-6729563729', 'KR-6729613333', 'KR-6729619650', 'KR-6729668299', 'KR-6729770806', 'KR-6729849233', 'KR-6729891097', 'KR-6729935229', 'KR-6729968092', 'KR-6730012001', 'KR-6730033444', 'KR-6730046486', 'KR-6730051792', 'KR-6730089807', 'KR-6730098133', 'KR-6730104168', 'KR-6730165482', 'KR-6730186203', 'KR-6730195156', 'KR-6730200286', 'KR-6730279980', 'KR-6730289170', 'KR-6730340666', 'KR-6730356080', 'KR-6730368393', 'KR-6730400351', 'KR-6730468267', 'KR-6730473946', 'KR-6730507477', 'KR-6730576290', 'KR-6730620595', 'KR-6730633794', 'KR-6730635238', 'KR-6730683020', 'KR-6730693448', 'KR-6730705263', 'KR-6730721023', 'KR-6730743069', 'KR-6730747220', 'KR-6730782896', 'KR-6730806127']\n"
     ]
    },
    {
     "name": "stderr",
     "output_type": "stream",
     "text": [
      "100%|██████████| 46/46 [02:00<00:00,  2.61s/it]\n"
     ]
    }
   ],
   "source": [
    "from autoLeague.replays.editor import ImageEditor as ie\n",
    "\n",
    "# 해당 리플레이 폴더가 있는 곳\n",
    "ie.__init__(self=ie,dataset_dir=rf'C:\\dataset')\n",
    "ie.run_editor(ie , team='Red')\n",
    "ie.run_editor(ie , team='Blue')"
   ]
  },
  {
   "attachments": {},
   "cell_type": "markdown",
   "metadata": {},
   "source": [
    "#### 각 시퀀스별로 379 개가 되게 설정"
   ]
  },
  {
   "cell_type": "code",
   "execution_count": null,
   "metadata": {},
   "outputs": [],
   "source": [
    "from autoLeague.replays.editor import ImageEditor as ie\n",
    "\n",
    "ie.fit_frame_length(ie, r'C:\\dataset' , 240)   #무결하다면, 아무 출력이 없을 것."
   ]
  },
  {
   "attachments": {},
   "cell_type": "markdown",
   "metadata": {},
   "source": [
    "#### 각 경기들에 대해서 각 분당 K,D,A,Obj 저장 (csv)"
   ]
  },
  {
   "cell_type": "code",
   "execution_count": null,
   "metadata": {},
   "outputs": [
    {
     "name": "stderr",
     "output_type": "stream",
     "text": [
      "100%|██████████| 97/97 [00:50<00:00,  1.94it/s]"
     ]
    },
    {
     "name": "stdout",
     "output_type": "stream",
     "text": [
      "csv write complete\n"
     ]
    },
    {
     "name": "stderr",
     "output_type": "stream",
     "text": [
      "\n"
     ]
    }
   ],
   "source": [
    "from autoLeague.dataset.riotapi import RiotAPI as ra\n",
    "import os\n",
    "\n",
    "matchIds = [filename.replace('-','_') for filename in os.listdir('C:\\dataset')]\n",
    "ra.__init__(ra, api_key='API_KEY')\n",
    "ra.writeCSVfile(ra, matchIds)"
   ]
  },
  {
   "attachments": {},
   "cell_type": "markdown",
   "metadata": {},
   "source": [
    "#### csv 파일 분석 및 정규화(min-max정규화)"
   ]
  },
  {
   "cell_type": "code",
   "execution_count": null,
   "metadata": {},
   "outputs": [
    {
     "name": "stdout",
     "output_type": "stream",
     "text": [
      "2276\n"
     ]
    },
    {
     "name": "stderr",
     "output_type": "stream",
     "text": [
      "100%|██████████| 2064/2064 [6:58:48<00:00, 12.17s/it]  "
     ]
    },
    {
     "name": "stdout",
     "output_type": "stream",
     "text": [
      "Done!\n"
     ]
    },
    {
     "name": "stderr",
     "output_type": "stream",
     "text": [
      "\n"
     ]
    }
   ],
   "source": [
    "# 챌린저 유저 경기분석 결과 저장\n",
    "# team 100 = blue , team 200 = red , team 300 = ai\n",
    "# 여기 파라미터이름을 좀 바보같이 지어버림,,,,\n",
    "\n",
    "from autoLeague.dataset.calculator import AreaCalculator as ac\n",
    "\n",
    "ac.__init__(ac,project_folder_dir='C:\\dataset_final' , tier='CHALLENGER II')\n",
    "ac.get_each_Vision_Area_Per_Tier(ac, project_folder_dir='C:\\dataset_final' , tier='CHALLENGER II')"
   ]
  }
 ],
 "metadata": {
  "kernelspec": {
   "display_name": "Python 3",
   "language": "python",
   "name": "python3"
  },
  "language_info": {
   "codemirror_mode": {
    "name": "ipython",
    "version": 3
   },
   "file_extension": ".py",
   "mimetype": "text/x-python",
   "name": "python",
   "nbconvert_exporter": "python",
   "pygments_lexer": "ipython3",
   "version": "3.9.11"
  },
  "orig_nbformat": 4,
  "vscode": {
   "interpreter": {
    "hash": "82ed002fa2d4956f5c6aec99bcefe0f73a9f79882f3c9e2319b14958a5896ac5"
   }
  }
 },
 "nbformat": 4,
 "nbformat_minor": 2
}
