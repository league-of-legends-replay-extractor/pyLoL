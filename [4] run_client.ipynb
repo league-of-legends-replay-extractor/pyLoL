{
 "cells": [
  {
   "cell_type": "code",
   "execution_count": 2,
   "metadata": {},
   "outputs": [
    {
     "name": "stdout",
     "output_type": "stream",
     "text": [
      "현재 있는 리플레이 갯수 :  6893\n"
     ]
    }
   ],
   "source": [
    "import os   \n",
    "from pathlib import Path\n",
    "from dotenv import load_dotenv\n",
    "from rich.progress import track  # rich 진행바 임포트\n",
    "from autoLeague.replays.scraper import ReplayScraper\n",
    "\n",
    "\n",
    "load_dotenv()  \n",
    "API_KEY = os.environ[\"API_KEY\"]\n",
    "\n",
    "# ── 공통 경로 설정(Set common base path) ─────────────────────────────────────\n",
    "USER_HOME = Path(os.environ[\"USERPROFILE\"])    # C:\\Users\\<계정명>\n",
    "\n",
    "GAME_DIR      = Path(r\"C:\\Riot Games\\League of Legends\\Game\")\n",
    "REPLAY_DIR    = str(USER_HOME / \"Documents\" / \"League of Legends\" / \"Replays\")\n",
    "SAVE_DIR      = 'recordings_game'\n",
    "SCRAPER_DIR   = str(USER_HOME / \"Desktop\" / \"pyLoL\" / \"pyLoL\" / \"autoLeague\" / \"replays\")\n",
    "MATCH_INFO_DIR = str(USER_HOME / \"Desktop\" / \"pyLoL\" / \"data\" / \"match_info\")\n",
    "\n",
    "rs = ReplayScraper(game_dir=GAME_DIR, replay_dir=REPLAY_DIR, save_dir=SAVE_DIR, scraper_dir=SCRAPER_DIR, replay_speed=8, region=\"KR\")\n"
   ]
  },
  {
   "cell_type": "code",
   "execution_count": null,
   "metadata": {},
   "outputs": [
    {
     "data": {
      "application/vnd.jupyter.widget-view+json": {
       "model_id": "3f650e0c677c4622a6f08a00af465e43",
       "version_major": 2,
       "version_minor": 0
      },
      "text/plain": [
       "Output()"
      ]
     },
     "metadata": {},
     "output_type": "display_data"
    }
   ],
   "source": [
    "import json\n",
    "import os\n",
    "from rich.console import Console\n",
    "from rich.progress import Progress, BarColumn, TextColumn, TimeRemainingColumn\n",
    "\n",
    "# 콘솔 설정 (너비 150)x\n",
    "console = Console(width=150)\n",
    "\n",
    "# JSON 파일에서 데이터를 읽음\n",
    "json_path = os.path.join('data', 'filltered_kill_events_timeline_filtered_10up_1.json')\n",
    "with open(json_path, 'r', encoding='utf-8') as f:\n",
    "    data_dict = json.load(f)['data']\n",
    "\n",
    "# 실행할 태스크 목록 생성: 각 태스크는 (replay, start, end)의 튜플\n",
    "tasks = []\n",
    "\n",
    "\n",
    "for match_id, minutes in data_dict.items():\n",
    "    # replay 파일명은 \"KR-<match_id>.rofl\" 형태\n",
    "        replay = f\"KR-{match_id}.rofl\"\n",
    "        for minute in minutes:\n",
    "            start = (minute+1) * 60 - 3  # 시간 보정을 위해 -5초\n",
    "            end = start + 60 - 8        # end는 start + 60초\n",
    "            tasks.append((replay, start, end))\n",
    "\n",
    "\n",
    "# Rich progress bar를 사용하여 태스크 순차 실행\n",
    "with Progress(\n",
    "    TextColumn(\"[progress.description]{task.description}\"),\n",
    "    BarColumn(),\n",
    "    TimeRemainingColumn(),\n",
    "    console=console,\n",
    "    transient=True,\n",
    ") as progress:\n",
    "    task_progress = progress.add_task(\"Extracting Replay_Minimaps from LoL Client...\", total=len(tasks))\n",
    "    for replay, start, end in tasks:\n",
    "        rs.run_client_ver1(\n",
    "            replay_path=rf'{REPLAY_DIR}\\{replay}',\n",
    "            gameId=replay.split('.')[0],\n",
    "            start=start,\n",
    "            end=end,\n",
    "            speed=8,\n",
    "            paused=False,\n",
    "            team=\"All\",\n",
    "            use_nas=False,\n",
    "            remove_fog_of_war=True\n",
    "        )\n",
    "        progress.advance(task_progress)"
   ]
  }
 ],
 "metadata": {
  "kernelspec": {
   "display_name": "lol",
   "language": "python",
   "name": "python3"
  },
  "language_info": {
   "codemirror_mode": {
    "name": "ipython",
    "version": 3
   },
   "file_extension": ".py",
   "mimetype": "text/x-python",
   "name": "python",
   "nbconvert_exporter": "python",
   "pygments_lexer": "ipython3",
   "version": "3.12.9"
  }
 },
 "nbformat": 4,
 "nbformat_minor": 2
}
