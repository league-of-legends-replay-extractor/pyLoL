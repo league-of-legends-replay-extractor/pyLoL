{
 "cells": [
  {
   "cell_type": "code",
   "execution_count": 5,
   "metadata": {},
   "outputs": [],
   "source": [
    "import time\n",
    "import pandas as pd \n",
    "from rich.progress import track\n",
    "from autoLeague.dataset.downloader import replay_downloader as rd"
   ]
  },
  {
   "cell_type": "markdown",
   "metadata": {},
   "source": [
    "<div style=\"font-size: 13px\">\n",
    "    <b> [KR] 기존 레거시 버전 : 7초마다 하나씩 순차적으로 저장함. </b></br></br>\n",
    "    <b> [ENG] : Legacy version: Saves one file at a time, sequentially, every 7 seconds. </b></br>\n",
    "</div>"
   ]
  },
  {
   "cell_type": "code",
   "execution_count": 7,
   "metadata": {},
   "outputs": [
    {
     "data": {
      "application/vnd.jupyter.widget-view+json": {
       "model_id": "de7ea91fd4134da29be176366b96c65a",
       "version_major": 2,
       "version_minor": 0
      },
      "text/plain": [
       "Output()"
      ]
     },
     "metadata": {},
     "output_type": "display_data"
    },
    {
     "data": {
      "text/html": [
       "<pre style=\"white-space:pre;overflow-x:auto;line-height:normal;font-family:Menlo,'DejaVu Sans Mono',consolas,'Courier New',monospace\"></pre>\n"
      ],
      "text/plain": []
     },
     "metadata": {},
     "output_type": "display_data"
    }
   ],
   "source": [
    "# must run lol client\n",
    "rd.set_replays_dir(folder_dir=r'C:\\Users\\sykim1106\\Documents\\League of Legends\\Replays')  ## << change this to your replays folder\n",
    "\n",
    "# load matchids csv files\n",
    "matchIds_list = pd.read_csv('./matchids/matchids_MASTER_I_patch25_13.csv')['matchid'][:2]\n",
    "\n",
    "for match_id in track(matchIds_list, description=\"Gathering Replay_files (.rofl) from LoL Client...\"):\n",
    "    try:\n",
    "        # 해당 match_id의 리플레이 파일 다운로드\n",
    "        rd.download(match_id)\n",
    "        # 다운로드 후 8초 대기 (서버 과부하 방지)\n",
    "        time.sleep(8)\n",
    "    except Exception as e:\n",
    "        # 예외 발생 시 에러 메시지 출력 후 다음 항목으로 넘어감\n",
    "        print(f\"Skipping match ID {match_id} due to error: {e}\")\n"
   ]
  },
  {
   "cell_type": "markdown",
   "metadata": {},
   "source": [
    "<div style=\"font-size: 13px\">\n",
    "    <b> [KR] 새 버전 : 비동기로 배치사이즈 40개씩 LCU API 동시 호출 > 참고로 셀은 완료 표시되어도 1~2분 뒤에 리플레이가 저장위치에 저장되기 시작하므로 안돌아간다고 생각하고 당황하지 마십시오. </b></br></br>\n",
    "    <b> [ENG] : New version: Calls the LCU API asynchronously in batches of 40. Note: even when the notebook cell shows “completed,” replays begin to appear in the save location only after about 1–2 minutes, so don’t panic and assume it isn’t working.</b></br>\n",
    "</div>"
   ]
  },
  {
   "cell_type": "code",
   "execution_count": 1,
   "metadata": {},
   "outputs": [
    {
     "name": "stdout",
     "output_type": "stream",
     "text": [
      "remoting-auth-token : -AFLg4QkbriBqM8PCaiydg\n"
     ]
    }
   ],
   "source": [
    "import pandas as pd, asyncio\n",
    "from autoLeague.dataset.downloader import replay_downloader as rd\n",
    "\n",
    "# 1) 저장 폴더 지정\n",
    "rd.set_replays_dir(r\"C:\\Users\\sykim1106\\Documents\\League of Legends\\Replays\")\n",
    "\n",
    "# 2) matchId 목록 로드\n",
    "ids = pd.read_csv(\"./matchids/matchids_CHALLENGER_I_patch25_13.csv\")[\"matchid\"]\n",
    "\n",
    "# 3) 병렬 다운로드 실행 (Jupyter 셀이라면 await 사용)\n",
    "await rd.download_async(ids, concurrent=6)\n",
    "# 스크립트에서는 -> asyncio.run(rd.download_async(ids, concurrent=6))\n",
    "\n"
   ]
  },
  {
   "cell_type": "code",
   "execution_count": 2,
   "metadata": {},
   "outputs": [],
   "source": [
    "import pandas as pd, asyncio\n",
    "from autoLeague.dataset.downloader import replay_downloader as rd\n",
    "\n",
    "# 1) 저장 폴더 지정\n",
    "rd.set_replays_dir(r\"C:\\Users\\sykim1106\\Documents\\League of Legends\\Replays\")\n",
    "\n",
    "# 2) matchId 목록 로드\n",
    "ids = pd.read_csv(\"./matchids/matchids_GRANDMASTER_I_patch25_13.csv\")[\"matchid\"]\n",
    "\n",
    "# 3) 병렬 다운로드 실행 (Jupyter 셀이라면 await 사용)\n",
    "await rd.download_async(ids, concurrent=6)\n",
    "# 스크립트에서는 -> asyncio.run(rd.download_async(ids, concurrent=6))\n"
   ]
  },
  {
   "cell_type": "code",
   "execution_count": null,
   "metadata": {},
   "outputs": [],
   "source": [
    "import pandas as pd, asyncio\n",
    "from autoLeague.dataset.downloader import replay_downloader as rd\n",
    "\n",
    "# 1) 저장 폴더 지정\n",
    "rd.set_replays_dir(r\"C:\\Users\\sykim1106\\Documents\\League of Legends\\Replays\")\n",
    "\n",
    "# 2) matchId 목록 로드\n",
    "ids = pd.read_csv(\"./matchids/matchids_MASTER_I_patch25_13.csv\")[\"matchid\"]\n",
    "\n",
    "# 3) 병렬 다운로드 실행 (Jupyter 셀이라면 await 사용)\n",
    "await rd.download_async(ids, concurrent=6)\n",
    "# 스크립트에서는 -> asyncio.run(rd.download_async(ids, concurrent=6))\n"
   ]
  }
 ],
 "metadata": {
  "kernelspec": {
   "display_name": "lol",
   "language": "python",
   "name": "python3"
  },
  "language_info": {
   "codemirror_mode": {
    "name": "ipython",
    "version": 3
   },
   "file_extension": ".py",
   "mimetype": "text/x-python",
   "name": "python",
   "nbconvert_exporter": "python",
   "pygments_lexer": "ipython3",
   "version": "3.12.9"
  }
 },
 "nbformat": 4,
 "nbformat_minor": 2
}
